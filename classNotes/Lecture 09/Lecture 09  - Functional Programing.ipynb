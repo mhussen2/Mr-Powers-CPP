{
 "cells": [
  {
   "cell_type": "markdown",
   "id": "f7ff9c4a",
   "metadata": {},
   "source": [
    "# Functional Programing\n",
    "Functional Programing makes use of pure programing.\n",
    "python is an ideal language for functional programing.\n",
    "\n",
    "\n",
    "Functional Programming is where programs are constructed by applying and composing functions in line.\n",
    "\n",
    "To learn more about Functional programing and the mathimatics applications read Functional Python Programming by Steven Lott\n",
    "\n",
    "\n",
    "\n",
    "Functional programming has its roots in academia, evolving from the lambda calculus, a formal system of computation based only on functions. \n",
    "\n",
    "Functional programming has historically been less popular than imperative programming, but many functional languages are seeing use today in industry and education.\n",
    "\n",
    "Languages include:\n",
    "- Lisp\n",
    "- Scheme\n",
    "- Clojure\n",
    "- Wolfram Language\n",
    "- Racket\n",
    "- Erlang\n",
    "- Elixir\n",
    "- OCami\n",
    "- Haskell\n",
    "- F#\n",
    "- R, J, K, Q \n",
    "- XQuery/XSLT \n",
    " \n"
   ]
  },
  {
   "cell_type": "markdown",
   "id": "b22d0023",
   "metadata": {},
   "source": [
    "\n",
    "A functional program has an input and flows through a set of functions to produce some output. Functional languages discourage functions with side effects that modify internal state or performes changes outside of the function's return value. \n",
    "\n",
    "\n",
    "\n",
    "Benifets:\n",
    "- Built to be proven and built on mathematical proofs\n",
    "    - does not need unit testing but can be proved ensure always the correct result\n",
    "    - Unit testing will ensure that the output is usually correct not nessasaraly alwasy correct. \n",
    "- Modularity\n",
    "    - Functional programs need to be broken down into smaller functions ensuring reusability and correctness\n",
    "- Iterators\n",
    "    - As discussed Iterators (next) is a foundation for writing functional programing.\n",
    "    - Returns one element at a time and takes no arguments.\n",
    "- Generators and Generator Functions\n",
    "    ```python\n",
    "        obj_total = sum(obj.count for obj in list_all_objects())\n",
    "    ```\n",
    "\n"
   ]
  },
  {
   "cell_type": "markdown",
   "id": "23da4844",
   "metadata": {},
   "source": [
    "\n",
    "# Built in functions\n",
    "    There are many built in functions within python that are functional."
   ]
  },
  {
   "cell_type": "markdown",
   "id": "32754d99",
   "metadata": {},
   "source": [
    "## Map and Filter() \n",
    "- Built in functions\n",
    "map() will return an iterator over a sequence that is suppled to map"
   ]
  },
  {
   "cell_type": "code",
   "execution_count": null,
   "id": "7d94ba79",
   "metadata": {},
   "outputs": [],
   "source": [
    "def uper(s):\n",
    "    return s.upper()"
   ]
  },
  {
   "cell_type": "code",
   "execution_count": null,
   "id": "c0b4fc8d",
   "metadata": {},
   "outputs": [],
   "source": [
    "m = map(uper,['this', 'is','a','fragmented','sentance'])#this is an itterator - map\n",
    "print(type(m))\n",
    "m"
   ]
  },
  {
   "cell_type": "code",
   "execution_count": null,
   "id": "2e62ab53",
   "metadata": {},
   "outputs": [],
   "source": [
    "#uper(['this', 'wont', 'work']) #wont work#\n",
    "#print(uper('this will'))#this will work\n",
    "list(m) #will work\n",
    "#[uper(s) for s in ['this', 'is','a','fragmented','sentance']]#This is the same as above"
   ]
  },
  {
   "cell_type": "markdown",
   "id": "ccf3f8e7",
   "metadata": {},
   "source": [
    "## Filter()\n",
    "filter() returns an iterator over the sequence that meets a condition\n",
    "```python\n",
    "filter('function', 'sorce')\n",
    "````"
   ]
  },
  {
   "cell_type": "code",
   "execution_count": null,
   "id": "cd2fa82e",
   "metadata": {},
   "outputs": [],
   "source": [
    "#Key word: Predicate is a function that returns the truth value of some condition\n",
    "def is_even(x):\n",
    "    return(x %2 ) == 0"
   ]
  },
  {
   "cell_type": "code",
   "execution_count": null,
   "id": "b6a81aeb",
   "metadata": {},
   "outputs": [],
   "source": [
    "a = list(filter(is_even,range(10)))\n",
    "print(a)\n",
    "b = list(x for x in range(10) if is_even(x)) # list comprehension\n",
    "a == b"
   ]
  },
  {
   "cell_type": "markdown",
   "id": "196efc2e",
   "metadata": {},
   "source": [
    "## Enumerate \n",
    "- counts off the elements in the iterable returning 2-tuples containing the count (from start) and each element."
   ]
  },
  {
   "cell_type": "code",
   "execution_count": null,
   "id": "3c9f4b1d",
   "metadata": {},
   "outputs": [],
   "source": [
    "for i in enumerate(['jan', 'feb', 'mar', 'apr'], start = 1):\n",
    "    print(i)\n",
    "help(enumerate)"
   ]
  },
  {
   "cell_type": "markdown",
   "id": "351812c9",
   "metadata": {},
   "source": [
    "## Sorted\n",
    "- collects all elements of the iterable list and sorts them\n"
   ]
  },
  {
   "cell_type": "code",
   "execution_count": null,
   "id": "7c9b91f7",
   "metadata": {},
   "outputs": [],
   "source": [
    "alist = [769, 7953, 9828, 6431, 8442, 9878, 6213, 2207]\n",
    "sorted(alist)"
   ]
  },
  {
   "cell_type": "markdown",
   "id": "587622dd",
   "metadata": {},
   "source": [
    "## any and all\n",
    "- look at the truth values and returns True or False\n",
    "    - Any will look to see if any value is 1\n",
    "    - All will look to see if all values are 1"
   ]
  },
  {
   "cell_type": "code",
   "execution_count": null,
   "id": "b7f28a25",
   "metadata": {},
   "outputs": [],
   "source": [
    "any([1,0,1])"
   ]
  },
  {
   "cell_type": "code",
   "execution_count": null,
   "id": "95ffb6d5",
   "metadata": {},
   "outputs": [],
   "source": [
    "all([1,1,1])"
   ]
  },
  {
   "cell_type": "code",
   "execution_count": null,
   "id": "0b8cc88a",
   "metadata": {},
   "outputs": [],
   "source": [
    "all([1,0,1])"
   ]
  },
  {
   "cell_type": "markdown",
   "id": "8969aaeb",
   "metadata": {},
   "source": [
    "### Break Break\n",
    "I want to make known to you a few keybinds:\n",
    "    \n",
    "\n",
    "\n",
    "`Shift + l`<span style=\"color:green\"> <span style=\"color:green\"># l as in lama this will put lines on all your code</span>\n",
    "\n",
    "`Ctrl + Alt` <span style=\"color:green\">#Multi Line editing</span>\n",
    "\n",
    "`Ctrl + Shift + l` <span style=\"color:green\">#l as in lama: Select all occurrences of current selection</span>\n",
    "\n",
    "`Ctrl + F2` <span style=\"color:green\"># select all occurences of current word</span>\n"
   ]
  },
  {
   "cell_type": "code",
   "execution_count": null,
   "id": "0bbbd567",
   "metadata": {},
   "outputs": [],
   "source": [
    "#print(\"any([1,0,1]): \" + str(any([1,0,1])))\n",
    "any([1,0,1])\n",
    "all([1,1,1])\n",
    "all([1,0,1])"
   ]
  },
  {
   "cell_type": "markdown",
   "id": "e09fa951",
   "metadata": {},
   "source": [
    "# zip\n",
    " - `zip` will create an iterable object in tuple form "
   ]
  },
  {
   "cell_type": "code",
   "execution_count": null,
   "id": "ecdc0b63",
   "metadata": {},
   "outputs": [],
   "source": [
    "aZip = zip(['a','b', 'c'],(1,2,3)); print(aZip) #this code will work\n",
    "#aZip = zip(('a','b', 'c'),{1,2,3}) #this code will work\n",
    "#aZip = zip(['a','b', 'c'],[1,2,3]) #this code will work\n",
    "#aZip = zip(['a','b', 'c', 'd','e'],(1,2,3)) #will perform zip untill the shortest element is reached\n",
    "#aZip = zip({'a','b', 'c','d'},[1,2,3]) #does strange things\n",
    "#aZip = zip({'a','b', 'c','d'},[1,2,3],strict=True) #this will rase an error\n",
    "\n",
    "print(list(aZip))\n"
   ]
  },
  {
   "cell_type": "code",
   "execution_count": null,
   "id": "79b23e6a",
   "metadata": {},
   "outputs": [],
   "source": [
    "#lets use enermerate and apply it to the clunky looking code above\n",
    "comments = [\n",
    "    \"The following will work: \\n\\nzip(['a', 'b', 'c'], (1, 2, 3)):\\n\\t\",\n",
    "    \"zip(('a','b', 'c'),{1,2,3}):\\n\\t\",\n",
    "    \"zip(['a','b', 'c'],[1,2,3]):\\n\\t\",\n",
    "    \"zip(['a','b', 'c', 'd','e'],(1,2,3)):\\n\\t\",\n",
    "    \"\\nThe following does strange things:\\n\\nzip({'a','b', 'c','d'},[1,2,3]):\\n\\t\"\n",
    "]\n",
    "\n",
    "zip_examples = [\n",
    "    zip(['a', 'b', 'c'], (1, 2, 3)),#this code will corectly\n",
    "    zip(('a', 'b', 'c'), {1, 2, 3}),#this code will corectly\n",
    "    zip(['a', 'b', 'c'], [1, 2, 3]),\n",
    "    zip(['a', 'b', 'c', 'd', 'e'], (1, 2, 3)),\n",
    "    zip({'a', 'b', 'c'}, [1, 2, 3])\n",
    "]\n",
    "\n",
    "for i, (aZip, comment) in enumerate(zip(zip_examples, comments)):\n",
    "    print(f\"{comment} {list(aZip)}\\n\")\n",
    "\n",
    "\n",
    "\n"
   ]
  },
  {
   "cell_type": "markdown",
   "id": "d62e6fdb",
   "metadata": {},
   "source": [
    "## itertools \n",
    "\n",
    "`itertools` provides tools for handling iterators:\n",
    "\n",
    "These tools are useful for creating complex iterators and performing combinatorial operations efficiently.itertools \n"
   ]
  },
  {
   "cell_type": "markdown",
   "id": "6ba64308",
   "metadata": {},
   "source": [
    "### Count()\n",
    "- `Count()` Creates an iterator that generates consecutive integers, starting from a specified number."
   ]
  },
  {
   "cell_type": "code",
   "execution_count": null,
   "id": "5e7f7470",
   "metadata": {},
   "outputs": [],
   "source": [
    "import itertools\n",
    "\n",
    "a = zip(['a','b', 'c'],itertools.count()) #infinate stream of numbers starts at 0\n",
    "print(next(a),next(a),next(a))#I will fail u\n",
    "[a for a in zip(['a','b', 'c'],itertools.count())]"
   ]
  },
  {
   "cell_type": "code",
   "execution_count": null,
   "id": "8b8cfff6",
   "metadata": {},
   "outputs": [],
   "source": [
    "a = zip(['a','b', 'c'],itertools.count(5,10)) # start, steps\n",
    "print(next(a),next(a),next(a))\n",
    "\n",
    "[a for a in zip(['a','b', 'c'],itertools.count(5,10))]"
   ]
  },
  {
   "cell_type": "markdown",
   "id": "3e9b1195",
   "metadata": {},
   "source": [
    "### Cycle\n",
    "- `cycle()`: Cycles through an iterable indefinitely."
   ]
  },
  {
   "cell_type": "code",
   "execution_count": null,
   "id": "174266ab",
   "metadata": {},
   "outputs": [],
   "source": [
    "a = itertools.cycle([1,3,5])\n",
    "print(next(a),next(a),next(a),next(a),next(a),next(a),next(a),next(a),next(a))\n",
    "#[a for a in itertools.cycle([1,3,5])] #will go on forever!!"
   ]
  },
  {
   "cell_type": "markdown",
   "id": "5b74ba3a",
   "metadata": {},
   "source": [
    "### Repeat\n",
    "- `repeat()`: Repeats an object a specified number of times or indefinitely."
   ]
  },
  {
   "cell_type": "code",
   "execution_count": null,
   "id": "cacd3853",
   "metadata": {},
   "outputs": [],
   "source": [
    "a = itertools.repeat('abc') #('abc',3)\n",
    "print(next(a),next(a),next(a),next(a),next(a),next(a),next(a),next(a),next(a))\n",
    "[a for a in itertools.repeat('abc',3)]"
   ]
  },
  {
   "cell_type": "markdown",
   "id": "d87d25df",
   "metadata": {},
   "source": [
    "### Islice\n",
    "- `islice()`: Slices an iterator to extract selected elements."
   ]
  },
  {
   "cell_type": "code",
   "execution_count": null,
   "id": "6a5d96ca",
   "metadata": {},
   "outputs": [],
   "source": [
    "a = itertools.repeat('abc')\n",
    "\n",
    "[i for i in itertools.islice(a,5)] #creates a slice of the iterator\n"
   ]
  },
  {
   "cell_type": "markdown",
   "id": "2dc58386",
   "metadata": {},
   "source": [
    "### Combinations\n",
    "- `combinations()`: Generates all possible combinations of a specified length from the input iterable.\n"
   ]
  },
  {
   "cell_type": "code",
   "execution_count": null,
   "id": "aa8dc3a0",
   "metadata": {},
   "outputs": [],
   "source": [
    "[i for i in itertools.combinations([1, 2, 3, 4, 5], 2) ]"
   ]
  },
  {
   "cell_type": "code",
   "execution_count": null,
   "id": "b6553615",
   "metadata": {},
   "outputs": [],
   "source": [
    "[i for i in itertools.combinations([1, 2, 3, 4, 5], 3) ]"
   ]
  },
  {
   "cell_type": "markdown",
   "id": "06ee20bc",
   "metadata": {},
   "source": [
    "### Permutations\n",
    "- `permutations()`: Generates all possible permutations of a specified length from the input iterable.\n"
   ]
  },
  {
   "cell_type": "code",
   "execution_count": null,
   "id": "0b9ae776",
   "metadata": {},
   "outputs": [],
   "source": [
    "comments = [\n",
    "    \"itertools.permutations([1, 2, 3], 1)\\n\\t\",\n",
    "    \"itertools.permutations([1, 2, 3], 2)\\n\\t\",\n",
    "    \"itertools.permutations([1, 2, 3], 3)\\n\\t\"\n",
    "]\n",
    "itter_examples = [\n",
    "    itertools.permutations([1, 2, 3], 1),\n",
    "    itertools.permutations([1, 2, 3], 2),\n",
    "    itertools.permutations([1, 2, 3], 3)\n",
    "]\n",
    "\n",
    "for i, (itterExample, comment) in enumerate(zip(itter_examples, comments)):\n",
    "    print(f\"{comment} {list(itterExample)}\\n\")\n"
   ]
  },
  {
   "cell_type": "markdown",
   "id": "9a45e941",
   "metadata": {},
   "source": [
    "### Product\n",
    "- `product()`: Computes the Cartesian product of input iterables."
   ]
  },
  {
   "cell_type": "code",
   "execution_count": null,
   "id": "ae687276",
   "metadata": {},
   "outputs": [],
   "source": [
    "\n",
    "\n",
    "comments = [\n",
    "    \"itertools.product([1, 2, 3], ['a', 'b']\\n\\t\",\n",
    "    \"itertools.product([1, 2, 3], ['a', 'b'])\\n\\t\",\n",
    "    \"itertools.product([1, 2, 3], [4,5])\\n\\t\",\n",
    "    \"itertools.product([1, 2, 3], [4,5], repeat = 2)\\n\\t\"\n",
    "]\n",
    "product_examples = [\n",
    "    itertools.product([1, 2, 3], ['a', 'b']),\n",
    "    itertools.product([1, 2, 3], ['a', 'b']),\n",
    "    itertools.product([1, 2, 3], [4,5]),\n",
    "    itertools.product([1, 2, 3], [4,5], repeat = 2)\n",
    "]\n",
    "\n",
    "for i, (productExample, comment) in enumerate(zip(product_examples, comments)):\n",
    "    print(f\"{comment} {list(productExample)}\\n\")\n",
    "\n",
    "#list(itertools.product([1, 2, 3], [4,5], repeat = 2))"
   ]
  },
  {
   "cell_type": "markdown",
   "id": "fa585c5a",
   "metadata": {},
   "source": [
    "## Lambda\n"
   ]
  },
  {
   "cell_type": "markdown",
   "id": "021a61a3",
   "metadata": {},
   "source": [
    "## Lambda Expression\n",
    "- Lambda expressions are small functions that take in a x number of parameters and an expression combination.\n",
    "\n",
    "- A lambda expression is a secret function that is only used once \n",
    "\n",
    "```python\n",
    "    lambda param: function(param)\n",
    "```"
   ]
  },
  {
   "cell_type": "code",
   "execution_count": null,
   "id": "c2beb7df",
   "metadata": {},
   "outputs": [],
   "source": [
    "print(list(\n",
    "        map(\n",
    "            lambda x: x ** 2, #function\n",
    "            range(10) #iterables\n",
    "            )))"
   ]
  },
  {
   "cell_type": "code",
   "execution_count": null,
   "id": "295e78e8",
   "metadata": {},
   "outputs": [],
   "source": [
    "alist=[1,2,3]\n",
    "print(list(\n",
    "        map(   \n",
    "            lambda x, y: x+y, #function\n",
    "            alist, alist #iterables\n",
    "            )))"
   ]
  },
  {
   "cell_type": "markdown",
   "id": "59a60179",
   "metadata": {},
   "source": [
    "Lets take a look at a recursion example using factorial"
   ]
  },
  {
   "cell_type": "code",
   "execution_count": null,
   "id": "ab01d79e",
   "metadata": {},
   "outputs": [],
   "source": [
    "def s(x):\n",
    "    if x == 0: \n",
    "        x = 1\n",
    "    else:\n",
    "        x = x * s(x-1)\n",
    "        \n",
    "    return x\n",
    "\n",
    "s(3)"
   ]
  },
  {
   "cell_type": "code",
   "execution_count": null,
   "id": "8e794b24",
   "metadata": {},
   "outputs": [],
   "source": [
    "(lambda a: lambda v:a(a,v))(lambda s, x:1 if x==0 else x*s(s,x-1))(3) \n",
    "\n"
   ]
  },
  {
   "cell_type": "code",
   "execution_count": null,
   "id": "3ec23ec9-a951-41fd-9053-61b2fb9ba649",
   "metadata": {},
   "outputs": [],
   "source": [
    "def v(n):\n",
    "    def a(s, x):\n",
    "        if x == 0:\n",
    "            return 1\n",
    "        else:\n",
    "            return x * s(s, x - 1)\n",
    "    return a(a, n)\n",
    "\n",
    "print(v(3))  # Output: 6"
   ]
  },
  {
   "cell_type": "code",
   "execution_count": null,
   "id": "55777168",
   "metadata": {},
   "outputs": [],
   "source": [
    "\n",
    "(lambda a: #define the lambda\n",
    "    # This lambda calls the outer function 'a' with itself and 'v'\n",
    "    lambda v: a(a, v)  \n",
    "    )(lambda s, x: # The outer lambda'a' takes a function 's' and an integer 'x'\n",
    "        1 if x == 0 else x * s(s, x - 1) #equation\n",
    "    )(3) # Call with 3 as x"
   ]
  },
  {
   "cell_type": "markdown",
   "id": "5ea1ac4b",
   "metadata": {},
   "source": [
    "### Lambda Functions\n",
    "A Lambda function is like a Lambda expression but can be used over and over again."
   ]
  },
  {
   "cell_type": "code",
   "execution_count": null,
   "id": "ade06100",
   "metadata": {},
   "outputs": [],
   "source": [
    "print_name = lambda first, last: first + ' ' + last # def print_name(first, last): return first + ' ' + last\n",
    "print_name('Mr.', 'Powers')"
   ]
  },
  {
   "cell_type": "code",
   "execution_count": null,
   "id": "5f87b9dd",
   "metadata": {},
   "outputs": [],
   "source": [
    "# Lambda function to add two numbers\n",
    "adder = lambda x, y: x + y\n",
    "print(adder(5, 3))  # Output: 8\n",
    "\n"
   ]
  },
  {
   "cell_type": "code",
   "execution_count": 1,
   "id": "eb20dcaa",
   "metadata": {},
   "outputs": [
    {
     "name": "stdout",
     "output_type": "stream",
     "text": [
      "class Dagger:\n",
      "    def __init__(self):\n",
      "        # Initialize health using the health property\n",
      "        self.__health = 5\n",
      "        # Lambda function to add two numbers\n",
      "        self.healing_amount = lambda x, y: x + y\n",
      "        # Private lambda function to multiply two numbers\n",
      "        self.__multiplier = lambda x, y: x * y\n",
      "\n",
      "    def do_damage(self):\n",
      "        return self.__multiplier(5, 3)\n",
      "    \n",
      "    def heal(self):\n",
      "        self.__health += self.healing_amount(self.__health, 5)\n",
      "        return self.__health\n",
      "\n",
      "    @property\n",
      "    def health(self):\n",
      "        return self.__health\n",
      "    \n",
      "    @health.setter\n",
      "    def health(self, value):\n",
      "        print(\"Health cannot be set directly\")\n"
     ]
    }
   ],
   "source": [
    "from Dagger import Dagger\n",
    "!type Dagger.py\n",
    "#!cat Dagger.py"
   ]
  },
  {
   "cell_type": "code",
   "execution_count": null,
   "id": "af090e5c",
   "metadata": {},
   "outputs": [
    {
     "name": "stdout",
     "output_type": "stream",
     "text": [
      "dagger is doing damage 15\n",
      "505\n",
      "health before: 5\n",
      "healing: 15\n",
      "health after: 15\n",
      "Health cannot be set directly\n"
     ]
    }
   ],
   "source": [
    "dagger = Dagger()\n",
    "#print(dagger._Dagger__multiplier) # Now it is a private lambda function\n",
    "print(\"dagger is doing damage \" + str(dagger.do_damage()))\n",
    "print(dagger.healing_amount(500,5))\n",
    "print(\"health before: \" + str(dagger.health))\n",
    "print(\"healing: \" + str(dagger.heal()))\n",
    "print(\"health after: \" + str(dagger.health))\n",
    "\n",
    "dagger.health = 0"
   ]
  },
  {
   "cell_type": "markdown",
   "id": "fd577bb3",
   "metadata": {},
   "source": [
    " Do not make your lambda functions to complicated\n",
    "\n",
    "\n",
    "Fredrik Lundh ( the creator of PythonWorks) once suggested the following set of rules for refactoring uses of lambda:\n",
    "\n",
    "- Write a lambda function.\n",
    "- Write a comment explaining what the heck that lambda does.\n",
    "- Study the comment for a while, and think of a name that captures the essence of the comment.\n",
    "- Convert the lambda to a def statement, using that name.\n",
    "- Remove the comment."
   ]
  },
  {
   "cell_type": "markdown",
   "id": "77e1b4bc",
   "metadata": {},
   "source": [
    "If you want to deep dive into Functional Programing read \n",
    "\n",
    "\n",
    "Functional Python Programming by \"Steven Lott\"\n",
    "\n",
    "This is book goes deep and talkes a lot about the math side of Functional Programing. "
   ]
  },
  {
   "cell_type": "code",
   "execution_count": null,
   "id": "5c185ed5",
   "metadata": {},
   "outputs": [],
   "source": []
  }
 ],
 "metadata": {
  "kernelspec": {
   "display_name": "Python 3",
   "language": "python",
   "name": "python3"
  },
  "language_info": {
   "codemirror_mode": {
    "name": "ipython",
    "version": 3
   },
   "file_extension": ".py",
   "mimetype": "text/x-python",
   "name": "python",
   "nbconvert_exporter": "python",
   "pygments_lexer": "ipython3",
   "version": "3.13.2"
  }
 },
 "nbformat": 4,
 "nbformat_minor": 5
}
