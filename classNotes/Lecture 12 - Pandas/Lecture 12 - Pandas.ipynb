{
 "cells": [
  {
   "cell_type": "markdown",
   "id": "209eb1a3",
   "metadata": {},
   "source": [
    "# Pandas\n",
    "\n",
    "Pandas is a powerful Python library used for data manipulation and analysis. It provides two primary data structures:\n",
    "\n",
    "- **Series**: A one-dimensional array-like structure.\n",
    "- **DataFrame**: A two-dimensional tabular structure with rows and columns.\n",
    "\n",
    "Pandas is widely used in data science and machine learning and in conjnctions wiht its tools for cleaning, filtering, reshaping, and merging data it allows you to view data and perform math on large sets of data."
   ]
  },
  {
   "cell_type": "markdown",
   "id": "d212ea67",
   "metadata": {},
   "source": [
    "## setup"
   ]
  },
  {
   "cell_type": "code",
   "execution_count": null,
   "id": "d99f04df",
   "metadata": {},
   "outputs": [],
   "source": [
    "!pip install pandas"
   ]
  },
  {
   "cell_type": "code",
   "execution_count": null,
   "id": "4adaeeeb",
   "metadata": {},
   "outputs": [],
   "source": [
    "import pandas as pd #Import the pandas library with pd alias"
   ]
  },
  {
   "cell_type": "code",
   "execution_count": null,
   "id": "ac955e7f",
   "metadata": {},
   "outputs": [],
   "source": [
    "gameData = pd.read_csv (\"vgsales.csv\") #import iris data as dataframe\n",
    "gameData.shape #print the shape of the dataframe"
   ]
  },
  {
   "cell_type": "markdown",
   "id": "588dcc96",
   "metadata": {},
   "source": [
    "read_csv (like in JSON) method,  for the .csv file, and storing it in a dataframe object. \n",
    "\n",
    "Note: A CSV is basicly an excell sheet."
   ]
  },
  {
   "cell_type": "code",
   "execution_count": null,
   "id": "4b341680",
   "metadata": {},
   "outputs": [],
   "source": [
    "gameData.columns # get the column names"
   ]
  },
  {
   "cell_type": "code",
   "execution_count": null,
   "id": "b7507eac",
   "metadata": {},
   "outputs": [],
   "source": [
    "gameData.head(3) # show the first 3 rows of the data"
   ]
  },
  {
   "cell_type": "code",
   "execution_count": null,
   "id": "c67f0011",
   "metadata": {},
   "outputs": [],
   "source": [
    "gameData[u'Name'].head(3) #output the first 3 rows of the Name column"
   ]
  },
  {
   "cell_type": "code",
   "execution_count": null,
   "id": "f3e861ba",
   "metadata": {},
   "outputs": [],
   "source": [
    "gameData.describe() #output the summary statistics of the data\n",
    "#Take note of the missing data in rank and year\n",
    "#we will use that later"
   ]
  },
  {
   "cell_type": "code",
   "execution_count": null,
   "id": "b2109970",
   "metadata": {},
   "outputs": [],
   "source": [
    "print(gameData.info()) # get the information about the data\n",
    "#Take note of the missing data in rank and year\n",
    "#we will use that later"
   ]
  },
  {
   "cell_type": "markdown",
   "id": "cbf49bd1",
   "metadata": {},
   "source": [
    "## Analyzing the Data\n",
    "Lets swich to a smaller dataset"
   ]
  },
  {
   "cell_type": "code",
   "execution_count": null,
   "id": "1b122bdc",
   "metadata": {},
   "outputs": [],
   "source": [
    "music_df = pd.read_csv (\"music.csv\") #import iris data as dataframe\n",
    "print(music_df) #print the shape of the dataframe DF is a dataframe\n"
   ]
  },
  {
   "cell_type": "markdown",
   "id": "5114b803",
   "metadata": {},
   "source": [
    "### Find the Distribution of Genres"
   ]
  },
  {
   "cell_type": "code",
   "execution_count": null,
   "id": "2542cd4b",
   "metadata": {},
   "outputs": [],
   "source": [
    "genre_counts = music_df['genre'].value_counts()\n",
    "print(genre_counts)\n"
   ]
  },
  {
   "cell_type": "markdown",
   "id": "37444484",
   "metadata": {},
   "source": [
    "### Filter the data"
   ]
  },
  {
   "cell_type": "code",
   "execution_count": null,
   "id": "2c684034",
   "metadata": {},
   "outputs": [],
   "source": [
    "males = music_df[music_df['gender'] == 1]\n",
    "females = music_df[music_df['gender'] == 0]\n",
    "print(males.head())\n",
    "print(females.head())\n"
   ]
  },
  {
   "cell_type": "markdown",
   "id": "061d7f51",
   "metadata": {},
   "source": [
    "### Group Data"
   ]
  },
  {
   "cell_type": "code",
   "execution_count": null,
   "id": "86d403a4",
   "metadata": {},
   "outputs": [],
   "source": [
    "avg_age_by_genre = music_df.groupby('genre')['age'].mean() \n",
    "print(avg_age_by_genre)"
   ]
  },
  {
   "cell_type": "code",
   "execution_count": null,
   "id": "443f9f65",
   "metadata": {},
   "outputs": [],
   "source": [
    "music_df.groupby('age')['gender'].mean()"
   ]
  },
  {
   "cell_type": "code",
   "execution_count": null,
   "id": "17822040",
   "metadata": {},
   "outputs": [],
   "source": [
    "music_df.groupby('genre')['gender'].mean()"
   ]
  },
  {
   "cell_type": "code",
   "execution_count": null,
   "id": "836821cd",
   "metadata": {},
   "outputs": [],
   "source": [
    "#will not work Why?\n",
    "music_df.groupby('gender')['genre'].mean()\n"
   ]
  },
  {
   "cell_type": "markdown",
   "id": "25082bc7",
   "metadata": {},
   "source": [
    "## Sort Data"
   ]
  },
  {
   "cell_type": "code",
   "execution_count": null,
   "id": "2041b1c2",
   "metadata": {},
   "outputs": [],
   "source": [
    "sorted_music = music_df.sort_values(by='age', ascending=True)\n",
    "print(sorted_music.head())"
   ]
  },
  {
   "cell_type": "markdown",
   "id": "9f9cb0dd",
   "metadata": {},
   "source": [
    "## Visualization with pandas and matplotlib "
   ]
  },
  {
   "cell_type": "code",
   "execution_count": null,
   "id": "aa21e24d",
   "metadata": {},
   "outputs": [],
   "source": [
    "import matplotlib.pyplot as plt"
   ]
  },
  {
   "cell_type": "code",
   "execution_count": null,
   "id": "af890df1",
   "metadata": {},
   "outputs": [],
   "source": [
    "genre_counts.plot(kind='bar', title='Genre Distribution')\n",
    "plt.xlabel('Genre')\n",
    "plt.ylabel('Count')\n",
    "plt.show()"
   ]
  },
  {
   "cell_type": "code",
   "execution_count": null,
   "id": "f66d8abf",
   "metadata": {},
   "outputs": [],
   "source": [
    "avg_age_by_genre.plot(kind='bar', color='skyblue', title='Average Age by Genre')\n",
    "plt.xlabel('Genre')\n",
    "plt.ylabel('Average Age')\n",
    "plt.show()"
   ]
  },
  {
   "cell_type": "code",
   "execution_count": null,
   "id": "f4499cd6",
   "metadata": {},
   "outputs": [],
   "source": [
    "plt.scatter(males['age'], males['genre'], label='Males', color='blue', alpha=0.5)\n",
    "plt.scatter(females['age'], females['genre'], label='Females', color='pink', alpha=0.5)\n",
    "plt.title('Age vs Genre by Gender')\n",
    "plt.xlabel('Age')\n",
    "plt.ylabel('Genre')\n",
    "plt.legend()\n",
    "plt.show()\n"
   ]
  },
  {
   "cell_type": "markdown",
   "id": "21345705",
   "metadata": {},
   "source": [
    "## Predictions"
   ]
  },
  {
   "cell_type": "code",
   "execution_count": null,
   "id": "58c82729",
   "metadata": {},
   "outputs": [],
   "source": [
    "df = pd.read_csv (\"music.csv\") #import iris data as dataframe\n",
    "print(df) #print the shape of the dataframe DF is a dataframe\n"
   ]
  },
  {
   "cell_type": "code",
   "execution_count": null,
   "id": "70bfd932",
   "metadata": {},
   "outputs": [],
   "source": [
    "X = df.drop(columns=['gender']) \n",
    "#droping data does not really drop it from the table but drops it from the output talble\n",
    "#by convention a capital X represents the input set \n",
    "X"
   ]
  },
  {
   "cell_type": "code",
   "execution_count": null,
   "id": "a487ba42",
   "metadata": {},
   "outputs": [],
   "source": [
    "#create our output set\n",
    "#by convention we use y for the output set\n",
    "y = df['genre']\n",
    "y"
   ]
  },
  {
   "cell_type": "code",
   "execution_count": null,
   "id": "a6148bc4",
   "metadata": {},
   "outputs": [],
   "source": []
  }
 ],
 "metadata": {
  "kernelspec": {
   "display_name": "Python 3",
   "language": "python",
   "name": "python3"
  },
  "language_info": {
   "codemirror_mode": {
    "name": "ipython",
    "version": 3
   },
   "file_extension": ".py",
   "mimetype": "text/x-python",
   "name": "python",
   "nbconvert_exporter": "python",
   "pygments_lexer": "ipython3",
   "version": "3.12.3"
  }
 },
 "nbformat": 4,
 "nbformat_minor": 5
}
