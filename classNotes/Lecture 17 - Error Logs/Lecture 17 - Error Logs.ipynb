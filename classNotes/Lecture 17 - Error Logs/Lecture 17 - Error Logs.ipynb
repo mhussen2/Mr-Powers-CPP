{
 "cells": [
  {
   "cell_type": "markdown",
   "id": "6d766cb7",
   "metadata": {},
   "source": [
    "\n",
    "# Logging in Python: Observability and Design\n",
    "\n",
    "In production-grade software, your code is rarely run under your direct supervision. Instead, it operates within remote systems, embedded services, or cloud environments—often out of sight and in constant motion. In such contexts,\n",
    "\n",
    "When an error happens, you need to have a log that you or a software tester can capture to troubleshoot. \n",
    "\n",
    "This means using the standard output (ie. Print command) will not be useful for you or your users during runtime. So far you have been logging detailed information about internal application state, warnings, and errors that happen during program execution. \n",
    "\n",
    "> \"If code is what tells the system what to do, then logging is how the system tells *you* what it did.\"\n",
    "\n",
    "## Why Logging Matters\n",
    "\n",
    "Consider this:\n",
    "- You're not watching your program run.\n",
    "- Failures might only be discovered hours or days after they occur.\n",
    "- You need post-mortem forensic capabilities.\n",
    "\n",
    "Thus, logging isn't a luxury; it is your first line of **introspection, debugging, and accountability**.\n",
    "\n",
    "### Standard Output ≠ Logging\n",
    "\n",
    "While `print()` statements may help during early development, they fall short in reliability and configurability:\n",
    "- Cannot be easily turned off/on.\n",
    "- Cannot be redirected, filtered, or structured.\n",
    "- Do not convey severity or source.\n",
    "\n",
    "Python comes with a built-in `logging` module that provides a basic yet powerful logging system. "
   ]
  },
  {
   "cell_type": "markdown",
   "id": "78b8ecb6",
   "metadata": {},
   "source": [
    "## Setting Up a Logger \n",
    "```python\n",
    "logger = logging.getLogger(__name__)\n",
    "\n",
    "debuglog = logging.getLogger(\"my_logger\")\n",
    "```\n",
    "\\_\\_name\\_\\_\" will be the named logger \n",
    "\n",
    "    More on this when whe get to flags "
   ]
  },
  {
   "cell_type": "code",
   "execution_count": null,
   "id": "c8fa2e63",
   "metadata": {},
   "outputs": [],
   "source": [
    "import logging\n",
    "\n",
    "logging.basicConfig() # Basic Config is output to the terminal at warning and above\n",
    "\n",
    "# Name the logger\n",
    "defautLogger = logging.getLogger(\"defautLogger\")\n",
    "defautLogger.info(\"this is a basic info log\")\n"
   ]
  },
  {
   "cell_type": "markdown",
   "id": "b6906db4",
   "metadata": {},
   "source": [
    "## Keywords\n",
    "Each log message is associated with a **severity level**, providing a mechanism to filter and prioritize information. These are:\n",
    "\n",
    "| Level      | Description |\n",
    "|------------|-------------|\n",
    "| `CRITICAL` / `FATAL` | System is unusable. Cannot continue. |\n",
    "| `ERROR`    | Major failure. An operation failed. |\n",
    "| `WARNING`  | Anomalies that are recoverable, but notable. |\n",
    "| `INFO`     | Confirmation that things are working as expected. |\n",
    "| `DEBUG`    | Diagnostic output useful during development. |\n",
    "| `NOTSET`   | Captures everything (used for internal fallback). |"
   ]
  },
  {
   "cell_type": "code",
   "execution_count": null,
   "id": "81ad555d-0b59-46c5-a8eb-509005037a96",
   "metadata": {},
   "outputs": [
    {
     "name": "stderr",
     "output_type": "stream",
     "text": [
      "CRITICAL:systemConfiguredLogger:OMG THE WORLD IS ENDING!!!!\n",
      "CRITICAL:systemConfiguredLogger:there is no more disk space\n",
      "ERROR:systemConfiguredLogger:file not found creating new file\n",
      "WARNING:systemConfiguredLogger:disk space is low\n"
     ]
    }
   ],
   "source": [
    "#there are 2 ways to output logs \n",
    "\n",
    "defautLogger.log(logging.CRITICAL, \"OMG THE WORLD IS ENDING!!!!\")\n",
    "\n",
    "defautLogger.critical(\"there is no more disk space\")\n",
    "defautLogger.error(\"file not found creating new file\")\n",
    "defautLogger.warning(\"disk space is low\")\n",
    "defautLogger.info(\"user logged in with correct password\")\n",
    "\n",
    "#they do the same thing"
   ]
  },
  {
   "cell_type": "markdown",
   "id": "719573bf",
   "metadata": {},
   "source": [
    "Notice how info is not displayed this is because when we setup up logging above we set it up using the default basic config \n",
    "\n",
    "``` python\n",
    "logging.basicConfig() # Basic Config is output to the terminal at warning and above\n",
    "```\n",
    "\n",
    "### Custom logging config"
   ]
  },
  {
   "cell_type": "code",
   "execution_count": null,
   "id": "47100f63",
   "metadata": {},
   "outputs": [],
   "source": [
    "import logging\n",
    "\n",
    "logging.basicConfig(level=logging.DEBUG, format='%(levelname)s: %(message)s')\n",
    "\n",
    "# Name the logger \n",
    "debugLogger = logging.getLogger(\"my_logger\")\n",
    "\n",
    "debugLogger.log(logging.CRITICAL, \"OMG THE WORLD IS ENDING!!!!\")\n",
    "\n",
    "debugLogger.critical(\"there is no more disk space\")\n",
    "debugLogger.error(\"file not found creating new file\")\n",
    "debugLogger.warning(\"disk space is low\")\n",
    "debugLogger.info(\"user logged in with correct password\")\n"
   ]
  },
  {
   "cell_type": "markdown",
   "id": "be263307",
   "metadata": {},
   "source": [
    "## Wait They look the same\n",
    "\n",
    "Because Jupyter notebooks persist state, if you configure logging once, it will retain the configuration. \n",
    "\n",
    "There are two ways to reconfigure cleanly:\n",
    "\n",
    "```python\n",
    "import logging\n",
    "for handler in logging.root.handlers[:]:\n",
    "    logging.root.removeHandler(handler)\n",
    "```\n",
    "\n",
    "Or simply use: for versions of python 3.8 and above\n",
    "\n",
    "```python\n",
    "logging.basicConfig(..., force=True)\n",
    "```"
   ]
  },
  {
   "cell_type": "code",
   "execution_count": null,
   "id": "b2e6c1cd",
   "metadata": {},
   "outputs": [
    {
     "name": "stderr",
     "output_type": "stream",
     "text": [
      "my_logger CRITICAL: There is no more disk space\n",
      "my_logger ERROR: File not found creating new file\n",
      "my_logger WARNING: Disk space is low\n",
      "my_logger INFO: User logged in with correct password\n"
     ]
    }
   ],
   "source": [
    "\n",
    "logging.basicConfig(level=logging.INFO, format='%(name)s %(levelname)s: %(message)s',force=True)\n",
    "\n",
    "infoLogger = logging.getLogger(\"my_logger\")\n",
    "\n",
    "infoLogger.critical(\"There is no more disk space\")\n",
    "infoLogger.error(\"File not found creating new file\")\n",
    "infoLogger.warning(\"Disk space is low\")\n",
    "infoLogger.info(\"User logged in with correct password\")"
   ]
  },
  {
   "cell_type": "markdown",
   "id": "d48cb69c-d573-4557-82c1-3390f2d6c91e",
   "metadata": {},
   "source": [
    "### Logging Handlers\n",
    "Handlers determine **where log messages go**.\n",
    "\n",
    "### Built-in Handler Types\n",
    "\n",
    "| Handler              | Description |\n",
    "|----------------------|-------------|\n",
    "| `StreamHandler`      | Sends logs to streams (stdout, stderr). Used by default. |\n",
    "| `FileHandler`        | Writes logs to disk files. |\n",
    "| `NullHandler`        | Ignores all logging messages. Useful for library authors. |\n",
    "| `TimedRotatingFileHandler` | Rotates logs at time intervals (e.g., daily). |\n",
    "| `RotatingFileHandler`      | Rotates logs when file size exceeds a limit. |\n"
   ]
  },
  {
   "cell_type": "markdown",
   "id": "bcf3d6c6",
   "metadata": {},
   "source": [
    "## FileHandler\n",
    "File Handler performs output to a log"
   ]
  },
  {
   "cell_type": "code",
   "execution_count": null,
   "id": "5a61eec9",
   "metadata": {},
   "outputs": [
    {
     "name": "stderr",
     "output_type": "stream",
     "text": [
      "file_logger INFO: Logging to a file!\n",
      "file_logger WARNING: Watch out! Disk space might be low.\n"
     ]
    },
    {
     "name": "stdout",
     "output_type": "stream",
     "text": [
      "2025-04-13 05:54:52,477 - INFO - Logging to a file!\n",
      "2025-04-13 05:54:52,478 - WARNING - Watch out! Disk space might be low.\n",
      "2025-04-13 06:00:01,630 - INFO - Logging to a file!\n",
      "2025-04-13 06:00:01,630 - file_logger - INFO - Logging to a file!\n",
      "2025-04-13 06:00:01,631 - WARNING - Watch out! Disk space might be low.\n",
      "2025-04-13 06:00:01,631 - file_logger - WARNING - Watch out! Disk space might be low.\n",
      "2025-04-13 06:03:32,819 - INFO - Logging to a file!\n",
      "2025-04-13 06:03:32,819 - file_logger - INFO - Logging to a file!\n",
      "2025-04-13 06:03:32,819 - file_logger - INFO - Logging to a file!\n",
      "2025-04-13 06:03:32,820 - WARNING - Watch out! Disk space might be low.\n",
      "2025-04-13 06:03:32,820 - file_logger - WARNING - Watch out! Disk space might be low.\n",
      "2025-04-13 06:03:32,820 - file_logger - WARNING - Watch out! Disk space might be low.\n"
     ]
    }
   ],
   "source": [
    "logger = logging.getLogger(\"file_logger\")\n",
    "logger.setLevel(logging.INFO)\n",
    "\n",
    "file_handler = logging.FileHandler(\"example_log.log\")\n",
    "file_handler.setFormatter(logging.Formatter('%(asctime)s - %(name)s - %(levelname)s - %(message)s'))\n",
    "\n",
    "logger.addHandler(file_handler)\n",
    "\n",
    "logger.info(\"Logging to a file!\")\n",
    "logger.warning(\"Watch out! Disk space might be low.\")\n",
    "\n",
    "#what happened why did we see the logged output in the terminal?"
   ]
  },
  {
   "cell_type": "markdown",
   "id": "9e035d8f",
   "metadata": {},
   "source": [
    "## Time Rotating logging \n",
    "(my personal favorite)"
   ]
  },
  {
   "cell_type": "code",
   "execution_count": 13,
   "id": "d7de2a92-c044-42b4-8c81-65edb48ff06c",
   "metadata": {},
   "outputs": [],
   "source": [
    "# FileHandler - timedRotating\n",
    "\n",
    "import logging.handlers\n",
    "from datetime import timedelta, datetime\n",
    "\n",
    "logger = logging.getLogger(\"timeRotatingLogger\")\n",
    "\n",
    "logger.setLevel(logging.INFO) # set the logging level to INFO\n",
    "\n",
    "# create a file handler that logs to a file\n",
    "logger.addHandler(\n",
    "    logging.handlers.TimedRotatingFileHandler(\n",
    "        filename=\"archived_log.log\", #file name\n",
    "        when=\"D\", #rolls the log every day\n",
    "        backupCount=3, # only keep 3 days worth of file backups\n",
    "    )\n",
    ")\n"
   ]
  },
  {
   "cell_type": "markdown",
   "id": "d5e5b605",
   "metadata": {},
   "source": [
    "## Gu Loves his freezegun\n",
    "    Nothing is better then a freeze-gun \n",
    "The freezegun package is used to trick Python into thinking that time is passing at an increased pace and is very useful in testing"
   ]
  },
  {
   "cell_type": "code",
   "execution_count": null,
   "id": "a637ba24-0810-4cb6-8d97-63d5b1ab1ef5",
   "metadata": {},
   "outputs": [],
   "source": [
    "!pip install freezegun"
   ]
  },
  {
   "cell_type": "code",
   "execution_count": 14,
   "id": "c9b15de0-36cd-4887-9676-d2d86d5a1cb4",
   "metadata": {
    "scrolled": true
   },
   "outputs": [
    {
     "name": "stderr",
     "output_type": "stream",
     "text": [
      "timeRotatingLogger INFO: all your base are belong to us at 2025-04-14 13:06:54.656594\n",
      "timeRotatingLogger INFO: all your base are belong to us at 2025-04-15 13:06:54.656594\n",
      "timeRotatingLogger INFO: all your base are belong to us at 2025-04-16 13:06:54.656594\n",
      "timeRotatingLogger INFO: all your base are belong to us at 2025-04-17 13:06:54.656594\n",
      "timeRotatingLogger INFO: all your base are belong to us at 2025-04-18 13:06:54.656594\n",
      "timeRotatingLogger INFO: all your base are belong to us at 2025-04-19 13:06:54.656594\n",
      "timeRotatingLogger INFO: all your base are belong to us at 2025-04-20 13:06:54.656594\n",
      "timeRotatingLogger INFO: all your base are belong to us at 2025-04-21 13:06:54.656594\n",
      "timeRotatingLogger INFO: all your base are belong to us at 2025-04-22 13:06:54.656594\n",
      "timeRotatingLogger INFO: all your base are belong to us at 2025-04-23 13:06:54.656594\n"
     ]
    }
   ],
   "source": [
    "\n",
    "from datetime import timedelta, datetime\n",
    "import time\n",
    "import freezegun\n",
    "\n",
    "def main():\n",
    "    with freezegun.freeze_time() as frozen:\n",
    "        for _ in range(10):\n",
    "            frozen.tick(timedelta(hours=24))\n",
    "            time.sleep(0.1)\n",
    "            logger.info(f\"all your base are belong to us at {datetime.now()}\")\n",
    "\n",
    "if __name__ == \"__main__\":\n",
    "    main()"
   ]
  },
  {
   "cell_type": "code",
   "execution_count": 15,
   "id": "4bca97ae-33a9-428b-84fe-e665e524459c",
   "metadata": {},
   "outputs": [
    {
     "name": "stdout",
     "output_type": "stream",
     "text": [
      "all your base are belong to us at 2025-04-23 13:06:54.656594\n",
      "all your base are belong to us at 2025-04-20 13:06:54.656594\n",
      "all your base are belong to us at 2025-04-21 13:06:54.656594\n",
      "all your base are belong to us at 2025-04-22 13:06:54.656594\n"
     ]
    }
   ],
   "source": [
    "!cat archived_log.log*\n",
    "#windows\n",
    "#!type archived_log.log*\n"
   ]
  },
  {
   "cell_type": "code",
   "execution_count": null,
   "id": "8fe766a6",
   "metadata": {},
   "outputs": [],
   "source": [
    "!rm archived_log.log*\n",
    "#Windows\n",
    "#!del archived_log.log*"
   ]
  },
  {
   "cell_type": "markdown",
   "id": "e8846fa8",
   "metadata": {},
   "source": [
    "## Formatting  "
   ]
  },
  {
   "cell_type": "markdown",
   "id": "e8e3b718-141e-44be-b6bd-c95b1f81b5a6",
   "metadata": {},
   "source": [
    "Notice that the above log does not have the \"INFO\" tag and that is because it was not configured. \n",
    "\n",
    "\n",
    "Lets correct this by using the formater "
   ]
  },
  {
   "cell_type": "code",
   "execution_count": null,
   "id": "cd78d8d0-b7a1-4051-b435-aefbde88ce51",
   "metadata": {},
   "outputs": [],
   "source": [
    "import logging\n",
    "logger = logging.getLogger()\n",
    "logger.setLevel(logging.INFO) #log Level\n",
    "formatter = logging.Formatter(\n",
    "    fmt=(\n",
    "        \"%(asctime)s | %(levelname)s | \"\n",
    "        \"%(message)s\"\n",
    "    )\n",
    ")\n",
    "handler = logging.handlers.TimedRotatingFileHandler(\n",
    "    filename=\"formatedLog.log\",\n",
    "    when=\"D\",\n",
    "    backupCount=3,\n",
    ")\n",
    "handler.setFormatter(formatter)\n",
    "logger.addHandler(handler)"
   ]
  },
  {
   "cell_type": "markdown",
   "id": "18be700f-aa75-491b-8e52-5a2407f6dca4",
   "metadata": {},
   "source": [
    "*Formater is customizable see below:*\n",
    "\n",
    "**fmt** - This is a string formatting pattern for the output message. \n",
    "\n",
    "**datefmt** - This is a date formatting pattern for representing the message timestamp. \n",
    "\n",
    "**style** - This specifies the string formatting style used for the fmt argument. It can be either '%' (percent formatting), '{' (str.format() formatting), or '$' (string.Template formatting). It defaults to '%'.\n",
    "\n",
    "**validate** - This specifies whether to validate the fmt formatting argument against the style argument. It defaults to True."
   ]
  },
  {
   "cell_type": "code",
   "execution_count": null,
   "id": "e9f1f6e0-3e2c-4ce1-8da7-1879653d6036",
   "metadata": {},
   "outputs": [],
   "source": [
    "from datetime import timedelta, datetime\n",
    "import time\n",
    "import logging\n",
    "import freezegun\n",
    "def main():\n",
    "    with freezegun.freeze_time() as frozen:\n",
    "        for _ in range(5):\n",
    "            frozen.tick(timedelta(hours=24))\n",
    "            time.sleep(0.1)\n",
    "            for _ in range(100):\n",
    "                logger.warning(f\"all your base are belong to us\")\n",
    "                logger.critical(f\"all your base are belong to us\")\n",
    "if __name__ == \"__main__\":\n",
    "    main()"
   ]
  },
  {
   "cell_type": "code",
   "execution_count": null,
   "id": "22caf799-b61e-4cc5-a5bc-320474bb37b8",
   "metadata": {},
   "outputs": [],
   "source": [
    "!cat formatedLog.log"
   ]
  },
  {
   "cell_type": "markdown",
   "id": "279150b0-3c03-4144-9624-4efe6db5c5e8",
   "metadata": {},
   "source": [
    "### Costomized Logging\n",
    "in your adventures you may find that some libraries log differently then what you desire. \n",
    "\n",
    "\n",
    "\n",
    "\n"
   ]
  },
  {
   "cell_type": "code",
   "execution_count": null,
   "id": "6e2b4409-5247-4733-b276-b942513ae364",
   "metadata": {},
   "outputs": [],
   "source": [
    "# silance the log\n",
    "logger.disabled = False\n",
    "#Overriding handlers\n",
    "logger.handlers.clear()\n",
    "#Changing logger verbosity\n",
    "logger.setLevel(logging.WARNING)"
   ]
  },
  {
   "cell_type": "markdown",
   "id": "01d94ebc-a163-4bba-a120-032994ef06cc",
   "metadata": {},
   "source": [
    "### Fun with ~flags~ logs \n",
    "\n",
    "Periods are an import part of logs. A period will build a hierarchy of loggers.\n",
    "\n",
    "for example  logger.lib.util\n",
    "\n",
    "The system will create/search for logger registered under logger.lib.util\n",
    "\n",
    "Then will create/search for logger registered as logger.lib then logger. \n",
    "parent\n",
    "note if logger.util or logger are not found logger.lib.util will become the parent . \n",
    "\n",
    "Best practice is to define log handlers only at the top-level root logger. Otherwise, it will be hard to track all propagation rules and make sure that every message is logged only once\n",
    "\n",
    "\n",
    "```python\n",
    "logging.getLogger(\"my_app\")\n",
    "logging.getLogger(\"my_app.utils\")\n",
    "logging.getLogger(\"my_app.utils.db\")\n",
    "```\n",
    "\n",
    "These logger names form a **tree-like structure**:\n",
    "\n",
    "```\n",
    "ROOT\n",
    "   │\n",
    "   └── my_app\n",
    "         │\n",
    "         └── utils\n",
    "               │\n",
    "               └── db\n",
    "   └── log\n",
    "```\n",
    "\n",
    "a log message travels **upward through the hierarchy**, from the child to the parent, until it finds a logger with a handler.\n",
    "\n",
    "Here's how log messages propagate:\n",
    "\n",
    "```\n",
    "[my_app.utils.db] ---log---> [my_app.utils] ---log---> [my_app] ---log---> [root logger]\n",
    "```\n",
    "\n"
   ]
  },
  {
   "cell_type": "code",
   "execution_count": null,
   "id": "54208fdb-32f4-4185-b48a-43ac24313284",
   "metadata": {},
   "outputs": [],
   "source": [
    "import logging\n",
    "parentLog = logging.getLogger(\"my_logger\")\n",
    "parentLog.setLevel(logging.INFO)\n",
    "#parentLog.setLevel(logging.CRITICAL)\n",
    "childLog = logging.getLogger(\"../log/child_logger\")\n",
    "\n",
    "childLog.setLevel(logging.CRITICAL)\n",
    "#childLog.setLevel(logging.INFO)\n",
    "formatter = logging.Formatter(\n",
    "    fmt=(\n",
    "        \"%(asctime)s | %(name)s | %(levelname)s | \"\n",
    "        \"%(message)s\"\n",
    "    )\n",
    ")\n",
    "handler = logging.handlers.TimedRotatingFileHandler(\n",
    "    filename=\"parent.log\",\n",
    "    when=\"D\",\n",
    "    backupCount=3,\n",
    ")\n",
    "handler2 = logging.handlers.TimedRotatingFileHandler(\n",
    "    filename=\"child.log\",\n",
    "    when=\"D\",\n",
    "    backupCount=3,\n",
    ")\n",
    "handler.setFormatter(formatter)\n",
    "handler2.setFormatter(formatter)\n",
    "parentLog.addHandler(handler)\n",
    "childLog.addHandler(handler2)"
   ]
  },
  {
   "cell_type": "code",
   "execution_count": null,
   "id": "7b44cba4",
   "metadata": {},
   "outputs": [],
   "source": [
    "parentLog.critical(f\"all your base are belong to us\")\n",
    "parentLog.info(f\"hello\")"
   ]
  },
  {
   "cell_type": "code",
   "execution_count": null,
   "id": "ea48fce8-b0b9-4f12-9205-bd57b906251e",
   "metadata": {},
   "outputs": [],
   "source": [
    "childLog.critical(f\"child me\")\n",
    "childLog.info(f\"hello\")"
   ]
  },
  {
   "cell_type": "code",
   "execution_count": null,
   "id": "076fcc96-41d8-4784-959c-285c10b72d53",
   "metadata": {},
   "outputs": [],
   "source": [
    "!cat child.log\n",
    "!cat parent.log"
   ]
  },
  {
   "cell_type": "code",
   "execution_count": null,
   "id": "9c499842",
   "metadata": {},
   "outputs": [],
   "source": [
    "!rm child.log\n",
    "!rm parent.log"
   ]
  },
  {
   "cell_type": "code",
   "execution_count": null,
   "id": "081b4449",
   "metadata": {},
   "outputs": [],
   "source": []
  }
 ],
 "metadata": {
  "kernelspec": {
   "display_name": "Python 3",
   "language": "python",
   "name": "python3"
  },
  "language_info": {
   "codemirror_mode": {
    "name": "ipython",
    "version": 3
   },
   "file_extension": ".py",
   "mimetype": "text/x-python",
   "name": "python",
   "nbconvert_exporter": "python",
   "pygments_lexer": "ipython3",
   "version": "3.12.3"
  }
 },
 "nbformat": 4,
 "nbformat_minor": 5
}
