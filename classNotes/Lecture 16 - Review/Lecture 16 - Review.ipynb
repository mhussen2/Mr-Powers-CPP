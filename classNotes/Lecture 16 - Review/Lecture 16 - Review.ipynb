{
    "cells": [
        {
            "cell_type": "markdown",
            "metadata": {},
            "source": [
                "# Python Review Lesson\n",
                " Generators, iterators, comprehensions, recursion, functional programming, lambda functions, matplotlib, NumPy, regular expressions (RE), threading, asynchronous programming, and multicore programming.\n"
            ]
        },
        {
            "cell_type": "markdown",
            "metadata": {},
            "source": [
                "## Importance of Good Code Structure\n",
                "\n",
                "A well-structured codebase enhances readability, maintainability, and performance. Key principles:\n",
                "\n",
                "- Modularity: Break code into smaller, reusable components.\n",
                "\n",
                "- Separation of Concerns: Keep different functionalities independent.\n",
                "\n",
                "- DRY (Don't Repeat Yourself): Avoid redundancy.\n",
                "\n",
                "- SOLID Principles: Ensure good object-oriented design.\n",
                "\n"
            ]
        },
        {
            "cell_type": "markdown",
            "metadata": {},
            "source": [
                "### Example of Poor vs. Good Code Structure\n"
            ]
        },
        {
            "cell_type": "code",
            "execution_count": null,
            "metadata": {},
            "outputs": [],
            "source": [
                "#Poorly Structured Code\n",
                "def attack_monster(weapon, strength, monster_health):\n",
                "    if weapon == \"sword\":\n",
                "        damage = strength * 2\n",
                "    elif weapon == \"axe\":\n",
                "        damage = strength * 3\n",
                "    else:\n",
                "        damage = strength\n",
                "    monster_health -= damage\n",
                "    print(f\"Monster takes {damage} damage! Remaining health: {monster_health}\")\n",
                "\n"
            ]
        },
        {
            "cell_type": "markdown",
            "metadata": {},
            "source": [
                "Issues:\n",
                "\n",
                "Mixed calculation logic and output.\n",
                "\n",
                "Difficult to reuse or modify for new weapon types.\n",
                "\n"
            ]
        },
        {
            "cell_type": "code",
            "execution_count": 2,
            "metadata": {},
            "outputs": [
                {
                    "data": {
                        "text/plain": [
                            "'Monster takes 10 damage! Remaining health: 40'"
                        ]
                    },
                    "execution_count": 2,
                    "metadata": {},
                    "output_type": "execute_result"
                }
            ],
            "source": [
                "# Well-Structured Code\n",
                "\n",
                "def calculate_damage(weapon, strength):\n",
                "    damage_multipliers = {\"sword\": 2, \"axe\": 3, \"dagger\": 1.5}\n",
                "    return strength * damage_multipliers.get(weapon, 1)\n",
                "\n",
                "def attack_monster(monster, weapon, strength):\n",
                "    damage = calculate_damage(weapon, strength)\n",
                "    monster[\"health\"] -= damage\n",
                "    return f\"Monster takes {damage} damage! Remaining health: {monster['health']}\"\n",
                "\n",
                "monster = {\"name\": \"Goblin\", \"health\": 50}\n",
                "attack_monster(monster, \"arms\", 10)    "
            ]
        },
        {
            "cell_type": "markdown",
            "metadata": {},
            "source": [
                "\n",
                "\n",
                "Improvements:\n",
                "\n",
                "Separation of concerns: Damage calculation is separate from attacking logic.\n",
                "\n",
                "Code reusability: calculate_damage can be reused for different monsters.\n",
                "\n"
            ]
        },
        {
            "cell_type": "markdown",
            "metadata": {},
            "source": [
                "### Poorly Structured Classes Code\n",
                "class that handles player logic, but mixes too many responsibilities into a single class:"
            ]
        },
        {
            "cell_type": "code",
            "execution_count": null,
            "metadata": {},
            "outputs": [],
            "source": [
                "class Player:\n",
                "    def __init__(self, name, strength, health, inventory):\n",
                "        self.name = name\n",
                "        self.strength = strength\n",
                "        self.health = health\n",
                "        self.inventory = inventory\n",
                "\n",
                "    def calculate_damage(weapon, strength):\n",
                "        damage_multipliers = {\"sword\": 2, \"axe\": 3, \"dagger\": 1.5}\n",
                "        return strength * damage_multipliers.get(weapon, 1)\n",
                "\n",
                "    def attack_monster(monster, weapon, strength):\n",
                "        damage = calculate_damage(weapon, strength)\n",
                "        monster[\"health\"] -= damage\n",
                "        return f\"Monster takes {damage} damage! Remaining health: {monster['health']}\"\n",
                "\n",
                "    def heal(self):\n",
                "        self.health += 20\n",
                "        print(f\"{self.name} heals! New health: {self.health}\")\n",
                "\n",
                "    def display_inventory(self):\n",
                "        print(\"Inventory:\", self.inventory)"
            ]
        },
        {
            "cell_type": "markdown",
            "metadata": {},
            "source": [
                "#### Without Inheritance "
            ]
        },
        {
            "cell_type": "code",
            "execution_count": null,
            "metadata": {},
            "outputs": [],
            "source": [
                "class Character:\n",
                "    def __init__(self, name, strength, health):\n",
                "        self.name = name\n",
                "        self.strength = strength\n",
                "        self.health = health\n",
                "\n",
                "class Combat:\n",
                "    def attack(self, attacker, weapon, enemy):\n",
                "        damage_multipliers = {\"sword\": 2, \"axe\": 3, \"dagger\": 1.5}\n",
                "        damage = attacker.strength * damage_multipliers.get(weapon, 1)\n",
                "        enemy.health -= damage\n",
                "        return f\"{attacker.name} attacks {enemy.name} with {weapon} for {damage} damage!\"\n",
                "\n",
                "class Inventory:\n",
                "    def __init__(self):\n",
                "        self.items = []\n",
                "\n",
                "    def add_item(self, item):\n",
                "        self.items.append(item)\n",
                "\n",
                "    def display(self):\n",
                "        return f\"Inventory: {', '.join(self.items)}\"\n",
                "\n",
                "# Usage\n",
                "player = Character(\"Hero\", 10, 100)\n",
                "enemy = Character(\"Goblin\", 5, 50)\n",
                "combat = Combat()\n",
                "print(combat.attack(player, \"sword\", enemy))"
            ]
        },
        {
            "cell_type": "markdown",
            "metadata": {},
            "source": [
                "####  With Inheritance"
            ]
        },
        {
            "cell_type": "code",
            "execution_count": null,
            "metadata": {},
            "outputs": [],
            "source": [
                "class Player:\n",
                "    def __init__(self, name, strength, health, inventory):\n",
                "        self.name = name\n",
                "        self.strength = strength\n",
                "        self.health = health\n",
                "        self.inventory = inventory\n",
                "\n",
                "    def display_inventory(self):\n",
                "        print(\"Inventory:\", self.inventory)\n",
                "\n",
                "    def attack_monster(monster, weapon, strength):\n",
                "        damage = calculate_damage(weapon, strength)\n",
                "        monster[\"health\"] -= damage\n",
                "        return f\"Monster takes {damage} damage! Remaining health: {monster['health']}\"\n",
                "\n",
                "class Hero(Player):\n",
                "    def __init__(self, name, strength, health, inventory):\n",
                "        super().__init__(name, strength, health, inventory)\n",
                "\n",
                "    def attack_monster(monster, weapon, strength):\n",
                "        damage = calculate_damage(weapon, strength)\n",
                "        monster[\"health\"] -= damage * strength\n",
                "        return f\"Monster takes {damage} damage! Remaining health: {monster['health']}\"\n",
                "    \n",
                "\n",
                "class Healer(Player):\n",
                "    def __init__(self, name, strength, health, inventory):\n",
                "        super().__init__(name, strength, health, inventory)\n",
                "\n",
                "    def heal(self):\n",
                "        self.health += 20\n",
                "        print(f\"{self.name} heals! New health: {self.health}\")\n",
                "\n",
                "# Example usage:\n",
                "hero = Hero(\"Arthur\", 10, 100, [\"sword\", \"shield\"])\n",
                "healer = Healer(\"Merlin\", 5, 80, [\"staff\", \"potion\"])\n",
                "\n",
                "enemy = Player(\"Goblin\", 8, 50, [\"club\"])\n",
                "\n",
                "hero.attack(\"sword\", enemy)\n",
                "healer.heal()\n",
                "healer.display_inventory()"
            ]
        },
        {
            "cell_type": "markdown",
            "metadata": {},
            "source": [
                "### Directory Structure for a your files\n",
                "```\n",
                "game/\n",
                "│-- src/\n",
                "│   │-- main.py\n",
                "│   │-- combat.py\n",
                "│   │-- player.py\n",
                "│   │-- enemies/\n",
                "│-- assets/\n",
                "│-- tests/\n",
                "│   │-- test_combat.py\n",
                "│-- docs/\n",
                "│-- README.md\n",
                "```\n",
                "This ensures:\n",
                "\n",
                "Scalability for growing projects.\n",
                "\n",
                "Easy navigation.\n",
                "\n",
                "Clear separation of functionality."
            ]
        },
        {
            "cell_type": "markdown",
            "metadata": {},
            "source": [
                "## Generators Functions\n",
                "Generators are like the magical trashcan produce values only when needed and only one at a time, allowing you to traverse through a sequence without storing the entire sequence in memory."
            ]
        },
        {
            "cell_type": "code",
            "execution_count": null,
            "metadata": {},
            "outputs": [],
            "source": [
                "# Example 1: A generator for rolling a D20\n",
                "def roll_d20():\n",
                "    import random\n",
                "    while True:\n",
                "        yield random.randint(1, 20)\n",
                "\n",
                "# Example 2: A generator for generating infinite spell slots\n",
                "def spell_slots():\n",
                "    level = 1\n",
                "    while True:\n",
                "        yield f\"Spell Slot Level {level}\"\n",
                "        level += 1\n",
                "\n",
                "# Example 3: A generator for traversing a dungeon\n",
                "def dungeon_rooms():\n",
                "    rooms = [\"Entrance\", \"Hallway\", \"Treasure Room\", \"Boss Room\"]\n",
                "    for room in rooms:\n",
                "        yield room\n",
                "\n",
                "# Testing the generators\n",
                "d20 = roll_d20()\n",
                "print(next(d20))\n",
                "print(next(d20))\n",
                "\n",
                "slots = spell_slots()\n",
                "print(next(slots))\n",
                "print(next(slots))\n",
                "\n",
                "rooms = dungeon_rooms()\n",
                "print(next(rooms))\n",
                "print(next(rooms))"
            ]
        },
        {
            "cell_type": "markdown",
            "metadata": {},
            "source": [
                "## Iterators\n",
                "Iterators allow you to traverse through a collection of elements.\n",
                "\n",
                "- Iterators are objects that can be iterated upon, meaning you can traverse through all the values.\n",
                "- They implement the iterator protocol which consists of the methods `__iter__()` and `__next__()`.\n",
                "The iter() is used to create an object that will iterate one element at a time.\n",
                "next() will give you the next value in the iterator \n",
                "\n",
                "```python\n",
                "    iter(collection)\n",
                "```"
            ]
        },
        {
            "cell_type": "code",
            "execution_count": null,
            "metadata": {},
            "outputs": [],
            "source": [
                "# Example 1: Iterating through a list of characters\n",
                "characters = [\"Wizard\", \"Warrior\", \"Rogue\"]\n",
                "character_iterator = iter(characters)\n",
                "for character in character_iterator:\n",
                "    print(character)"
            ]
        },
        {
            "cell_type": "code",
            "execution_count": null,
            "metadata": {},
            "outputs": [],
            "source": [
                "# Example 2: Iterating through a spell book\n",
                "spell_book = {\"Fireball\": \"Level 3\", \"Magic Missile\": \"Level 1\", \"Heal\": \"Level 2\"}\n",
                "spell_iterator = iter(spell_book.items())\n",
                "for spell, level in spell_iterator:\n",
                "    print(f\"{spell}: {level}\")"
            ]
        },
        {
            "cell_type": "code",
            "execution_count": null,
            "metadata": {},
            "outputs": [],
            "source": [
                "# Example 3: Iterating through a quest log using next in a loop\n",
                "quest_log = [\"Find the lost sword\", \"Defeat the dragon\", \"Rescue the princess\"]\n",
                "quest_iterator = iter(quest_log)\n",
                "\n",
                "# Using a loop to call next on the iterator\n",
                "while True:\n",
                "    try:\n",
                "        print(next(quest_iterator))\n",
                "    except StopIteration:\n",
                "        break"
            ]
        },
        {
            "cell_type": "markdown",
            "metadata": {},
            "source": [
                "## Comprehension\n",
                "Comprehensions are like powerful spells that allow you to create new collections in a concise way.\n",
                "\n",
                "- List comprehensions provide a concise way to create lists.\n",
                "- Dictionary comprehensions provide a concise way to create dictionaries.\n",
                "- Set comprehensions provide a concise way to create sets.\n",
                "\n",
                "```python\n",
                "    [expression for item in iterable]\n",
                "    {key: value for item in iterable}\n",
                "    {expression for item in iterable}\n",
                "    ((a,b) for item-b in iterable for item-a in iterable)\n",
                "```"
            ]
        },
        {
            "cell_type": "code",
            "execution_count": null,
            "metadata": {},
            "outputs": [
                {
                    "name": "stdout",
                    "output_type": "stream",
                    "text": [
                        "['Monster 1', 'Monster 2', 'Monster 3', 'Monster 4', 'Monster 5', 'Monster 6', 'Monster 7', 'Monster 8', 'Monster 9', 'Monster 10']\n"
                    ]
                }
            ],
            "source": [
                "# Example 1: List comprehension for generating a list of monster names\n",
                "monsters = [f\"Monster {i}\" for i in range(1, 11)]\n",
                "print(monsters)\n"
            ]
        },
        {
            "cell_type": "code",
            "execution_count": 4,
            "metadata": {},
            "outputs": [
                {
                    "name": "stdout",
                    "output_type": "stream",
                    "text": [
                        "{'Spell 1': 'Level 1', 'Spell 2': 'Level 2', 'Spell 3': 'Level 3', 'Spell 4': 'Level 4', 'Spell 5': 'Level 5'}\n"
                    ]
                }
            ],
            "source": [
                "# Example 2: Dictionary comprehension for creating a spell dictionary\n",
                "spells = {f\"Spell {i}\": f\"Level {i}\" for i in range(1, 6)}\n",
                "print(spells)"
            ]
        },
        {
            "cell_type": "code",
            "execution_count": null,
            "metadata": {},
            "outputs": [],
            "source": [
                "# Example 3: Set comprehension for creating a set of unique items\n",
                "items = {f\"Item {i}\" for i in range(1, 6)}\n",
                "print(items)"
            ]
        },
        {
            "cell_type": "code",
            "execution_count": 5,
            "metadata": {},
            "outputs": [
                {
                    "name": "stdout",
                    "output_type": "stream",
                    "text": [
                        "('Wizard', 'Find the lost sword')\n",
                        "('Wizard', 'Defeat the dragon')\n",
                        "('Wizard', 'Rescue the princess')\n",
                        "('Warrior', 'Find the lost sword')\n",
                        "('Warrior', 'Defeat the dragon')\n",
                        "('Warrior', 'Rescue the princess')\n",
                        "('Rogue', 'Find the lost sword')\n",
                        "('Rogue', 'Defeat the dragon')\n",
                        "('Rogue', 'Rescue the princess')\n"
                    ]
                }
            ],
            "source": [
                "# Example4 comprehension to generate pairs (character, quest)\n",
                "characters = [\"Wizard\", \"Warrior\", \"Rogue\"]\n",
                "quests = [\"Find the lost sword\", \"Defeat the dragon\", \"Rescue the princess\"]\n",
                "\n",
                "character_quests = [(character, quest) for character in characters for quest in quests]\n",
                "for pair in character_quests:\n",
                "    print(pair)"
            ]
        },
        {
            "cell_type": "markdown",
            "metadata": {},
            "source": [
                "## Recursion\n",
                "Recursion is like a wizard's spell that calls itself to solve a problem.\n",
                "\n",
                "- A recursive function is a function that calls itself in order to solve a problem.\n",
                "- It usually has a base case to stop the recursion.\n",
                "- Recursion can be used to solve problems that can be broken down into smaller, repetitive problems.\n",
                "\n",
                "``` python\n",
                "    def recursive_function(parameters):\n",
                "        if base_case_condition:\n",
                "            return base_case_value\n",
                "        return recursive_function(modified_parameters)\n",
                "```"
            ]
        },
        {
            "cell_type": "code",
            "execution_count": null,
            "metadata": {},
            "outputs": [],
            "source": [
                "# Example 1: Recursive function to calculate factorial (for spell power)\n",
                "def factorial(n):\n",
                "    if n == 0:\n",
                "        return 1\n",
                "    return n * factorial(n - 1)\n",
                "\n",
                "print(factorial(5))"
            ]
        },
        {
            "cell_type": "code",
            "execution_count": null,
            "metadata": {},
            "outputs": [],
            "source": [
                "# Example 2: Recursive function to traverse a dungeon\n",
                "def traverse_dungeon(rooms, index=0):\n",
                "    if index >= len(rooms):\n",
                "        return\n",
                "    print(f\"Entering {rooms[index]}\")\n",
                "    traverse_dungeon(rooms, index + 1)\n",
                "\n",
                "rooms = [\"Entrance\", \"Hallway\", \"Treasure Room\", \"Boss Room\"]\n",
                "traverse_dungeon(rooms)"
            ]
        },
        {
            "cell_type": "code",
            "execution_count": null,
            "metadata": {},
            "outputs": [],
            "source": [
                "# Example 3: Recursive function to calculate Fibonacci sequence (for mana regeneration)\n",
                "def fibonacci(n):\n",
                "    if n <= 1:\n",
                "        return n\n",
                "    return fibonacci(n - 1) + fibonacci(n - 2)\n",
                "\n",
                "print(fibonacci(10))"
            ]
        },
        {
            "cell_type": "markdown",
            "metadata": {},
            "source": [
                "## Pure Functions\n",
                "\n",
                "Pure functions always produce the same result given the same inputs, without causing any side effects. They are a fundamental concept in functional programming and are highly predictable and testable.\n",
                "\n",
                "- A pure function's output depends only on its input parameters.\n",
                "- It does not modify any external state or variables.\n",
                "- It does not produce any side effects, such as modifying global variables or performing I/O operations.\n"
            ]
        },
        {
            "cell_type": "code",
            "execution_count": null,
            "metadata": {},
            "outputs": [],
            "source": [
                "# Example 1: Calculating spell damage\n",
                "def calculate_spell_damage(base_damage, modifier):\n",
                "    return base_damage + modifier\n",
                "\n",
                "print(calculate_spell_damage(10, 5))"
            ]
        },
        {
            "cell_type": "code",
            "execution_count": 7,
            "metadata": {},
            "outputs": [
                {
                    "name": "stdout",
                    "output_type": "stream",
                    "text": [
                        "4\n"
                    ]
                }
            ],
            "source": [
                "# Example 2: Determining character level\n",
                "def determine_character_level(experience_points):\n",
                "    return experience_points // 1000 #remember // is floor\n",
                "\n",
                "print(determine_character_level(4999)) "
            ]
        },
        {
            "cell_type": "code",
            "execution_count": null,
            "metadata": {},
            "outputs": [],
            "source": [
                "# Example 3: Calculating health points\n",
                "def calculate_health_points(base_health, level):\n",
                "    return base_health + (level * 10)\n",
                "\n",
                "print(calculate_health_points(50, 3)) "
            ]
        },
        {
            "cell_type": "markdown",
            "metadata": {},
            "source": [
                "## Functional Programming\n",
                "Functional programming is where programs are constructed by applying and composing functions in line.\n",
                "\n",
                "- Functional programming uses functions to transform data.\n",
                "- Functions like `map`, `filter`, and `reduce` are commonly used in functional programming.\n",
                "- It emphasizes the use of pure functions and avoids changing state or mutable data.\n",
                "\n",
                "```python\n",
                "    map(function, iterable)\n",
                "    filter(function, iterable)\n",
                "    reduce(function, iterable)\n",
                "```"
            ]
        },
        {
            "cell_type": "code",
            "execution_count": null,
            "metadata": {},
            "outputs": [],
            "source": [
                "# Example 1: Using map to apply a spell to each character\n",
                "def enchant_character(character):\n",
                "    return f\"Enchanted {character}\"\n",
                "\n",
                "characters = [\"Wizard\", \"Warrior\", \"Rogue\"]\n",
                "enchanted_characters = list(map(enchant_character, characters))\n",
                "print(enchanted_characters) "
            ]
        },
        {
            "cell_type": "code",
            "execution_count": null,
            "metadata": {},
            "outputs": [],
            "source": [
                "#Example 2: Using filter to find high-level spells\n",
                "def is_high_level_spell(spell):\n",
                "    return spells[spell] > 2\n",
                "\n",
                "spells = {\"Fireball\": 3, \"Magic Missile\": 1, \"Heal\": 2}\n",
                "high_level_spells = list(filter(is_high_level_spell, spells))\n",
                "print(high_level_spells) "
            ]
        },
        {
            "cell_type": "code",
            "execution_count": null,
            "metadata": {},
            "outputs": [],
            "source": [
                "# Example 3: Using reduce to calculate total spell power\n",
                "from functools import reduce\n",
                "\n",
                "def add_spell_power(total, power):\n",
                "    return total + power\n",
                "\n",
                "spell_powers = [3, 1, 2]\n",
                "total_power = reduce(add_spell_power, spell_powers)\n",
                "print(total_power)"
            ]
        },
        {
            "cell_type": "markdown",
            "metadata": {},
            "source": [
                "## Lambda Functions\n",
                "Lambda functions are like quick incantations that perform a task.\n",
                "\n",
                "- Lambda expressions are small functions that take in a number of parameters and an expression combination.\n",
                "- A lambda expression is a secret function that is only used once.\n",
                "\n",
                "```python\n",
                "    lambda param: function(param)\n",
                "```"
            ]
        },
        {
            "cell_type": "code",
            "execution_count": 8,
            "metadata": {},
            "outputs": [
                {
                    "name": "stdout",
                    "output_type": "stream",
                    "text": [
                        "12\n",
                        "6\n",
                        "18\n"
                    ]
                }
            ],
            "source": [
                "import random\n",
                "\n",
                "# Example 1: Lambda function for rolling a D20\n",
                "roll_d20 = lambda: random.randint(1, 20)\n",
                "print(roll_d20())\n",
                "print(roll_d20())\n",
                "print(roll_d20())"
            ]
        },
        {
            "cell_type": "code",
            "execution_count": 13,
            "metadata": {},
            "outputs": [
                {
                    "name": "stdout",
                    "output_type": "stream",
                    "text": [
                        "15\n",
                        "150\n"
                    ]
                }
            ],
            "source": [
                "# Example 2: Lambda function for calculating spell damage\n",
                "\n",
                "calculate_damage = lambda: base + modifier\n",
                "base = 10\n",
                "modifier = 5\n",
                "print(calculate_damage())\n",
                "\n",
                "base = 100\n",
                "modifier = 50\n",
                "print(calculate_damage())"
            ]
        },
        {
            "cell_type": "code",
            "execution_count": null,
            "metadata": {},
            "outputs": [],
            "source": [
                "# Example 3: Lambda function for determining if a character is high level\n",
                "is_high_level = lambda level: level > 10\n",
                "print(is_high_level(15))"
            ]
        },
        {
            "cell_type": "markdown",
            "metadata": {},
            "source": [
                "## Matplotlib\n",
                "Matplotlib is like a magical scroll that allows you to visualize data.\n",
                "\n",
                "- Matplotlib is a plotting library for the Python programming language.\n",
                "- It provides an object-oriented API for embedding plots into applications.\n",
                "- It can be used to create static, interactive, and animated visualizations.\n",
                "\n",
                "```python\n",
                "    import matplotlib.pyplot as plt\n",
                "    plt.plot(data)\n",
                "    plt.show()\n",
                "```"
            ]
        },
        {
            "cell_type": "code",
            "execution_count": null,
            "metadata": {},
            "outputs": [],
            "source": [
                "import matplotlib.pyplot as plt\n",
                "\n",
                "# Example 1: Plotting character levels\n",
                "levels = [1, 5, 10, 15, 20]\n",
                "plt.plot(levels)\n",
                "plt.title(\"Character Levels\")\n",
                "plt.show()\n",
                "\n"
            ]
        },
        {
            "cell_type": "code",
            "execution_count": null,
            "metadata": {},
            "outputs": [],
            "source": [
                "# Example 2: Plotting spell power\n",
                "spell_power = [10, 20, 30, 40, 50]\n",
                "plt.bar(range(len(spell_power)), spell_power)\n",
                "plt.title(\"Spell Power\")\n",
                "plt.show()\n",
                "\n"
            ]
        },
        {
            "cell_type": "code",
            "execution_count": null,
            "metadata": {},
            "outputs": [],
            "source": [
                "# Example 3: Plotting monster encounters\n",
                "encounters = [3, 5, 2, 8, 6]\n",
                "plt.pie(encounters, labels=[\"Goblin\", \"Orc\", \"Dragon\", \"Troll\", \"Elf\"])\n",
                "plt.title(\"Monster Encounters\")\n",
                "plt.show()"
            ]
        },
        {
            "cell_type": "markdown",
            "metadata": {},
            "source": [
                "## NumPy\n",
                "NumPy is like a powerful artifact that allows you to perform numerical operations.\n",
                "\n",
                "- NumPy is a library for the Python programming language, adding support for large, multi-dimensional arrays and matrices.\n",
                "- It provides a large collection of high-level mathematical functions to operate on these arrays.\n",
                "- It is widely used in scientific computing and data analysis.\n",
                "\n",
                "```python\n",
                "    import numpy as np\n",
                "    array = np.array([1, 2, 3])\n",
                "```"
            ]
        },
        {
            "cell_type": "code",
            "execution_count": null,
            "metadata": {},
            "outputs": [],
            "source": [
                "import numpy as np\n",
                "\n",
                "# Example 1: Creating an array of character levels\n",
                "levels = np.array([1, 5, 10, 15, 20])\n",
                "\n"
            ]
        },
        {
            "cell_type": "code",
            "execution_count": null,
            "metadata": {},
            "outputs": [],
            "source": [
                "# Example 2: Performing element-wise operations on spell power\n",
                "spell_power = np.array([10, 20, 30, 40, 50])\n",
                "enhanced_power = spell_power * 1.5\n",
                "\n"
            ]
        },
        {
            "cell_type": "code",
            "execution_count": null,
            "metadata": {},
            "outputs": [],
            "source": [
                "# Example 3: Calculating the mean spell power\n",
                "mean_power = np.mean(spell_power)"
            ]
        },
        {
            "cell_type": "markdown",
            "metadata": {},
            "source": [
                "## Regular Expressions (RE)\n",
                "Regular expressions are like magical runes that allow you to search and manipulate text.\n",
                "\n",
                "- Regular expressions are sequences of characters that define a search pattern.\n",
                "- They can be used for string matching and manipulation.\n",
                "- The `re` module in Python provides support for working with regular expressions.\n",
                "\n",
                "```python\n",
                "    import re\n",
                "    re.search(pattern, string)\n",
                "```"
            ]
        },
        {
            "cell_type": "code",
            "execution_count": null,
            "metadata": {},
            "outputs": [],
            "source": [
                "import re\n",
                "\n",
                "# Example 1: Finding all spell names in a text\n",
                "text = \"Fireball, Magic Missile, Heal\"\n",
                "spells = re.findall(r'\\b\\w+\\b', text)\n",
                "\n"
            ]
        },
        {
            "cell_type": "code",
            "execution_count": null,
            "metadata": {},
            "outputs": [],
            "source": [
                "# Example 2: Validating character names\n",
                "character_name = \"Wizard123\"\n",
                "is_valid = re.match(r'^[A-Za-z]+$', character_name)\n",
                "\n"
            ]
        },
        {
            "cell_type": "code",
            "execution_count": null,
            "metadata": {},
            "outputs": [],
            "source": [
                "# Example 3: Replacing monster names in a text\n",
                "text = \"Goblin, Orc, Dragon\"\n",
                "new_text = re.sub(r'Goblin', 'Elf', text)\n"
            ]
        },
        {
            "cell_type": "markdown",
            "metadata": {},
            "source": [
                "## Threading\n",
                "Threading is like summoning multiple characters to perform tasks simultaneously.\n",
                "\n",
                "- Threading allows multiple threads to run concurrently.\n",
                "- It is used to perform multiple operations at the same time.\n",
                "- The `threading` module in Python provides support for working with threads.\n",
                "\n",
                "```python\n",
                "    import threading\n",
                "    thread = threading.Thread(target=function)\n",
                "    thread.start()\n",
                "```"
            ]
        },
        {
            "cell_type": "code",
            "execution_count": null,
            "metadata": {},
            "outputs": [],
            "source": [
                "import threading\n",
                "\n",
                "# Example 1: Creating a thread for rolling a D20\n",
                "def roll_d20():\n",
                "    print(random.randint(1, 20))\n",
                "\n",
                "thread = threading.Thread(target=roll_d20)\n",
                "thread.start()\n",
                "\n"
            ]
        },
        {
            "cell_type": "code",
            "execution_count": null,
            "metadata": {},
            "outputs": [],
            "source": [
                "# Example 2: Creating a thread for casting a spell\n",
                "def cast_spell(spell):\n",
                "    print(f\"Casting {spell}\")\n",
                "\n",
                "thread = threading.Thread(target=cast_spell, args=(\"Fireball\",))\n",
                "thread.start()"
            ]
        },
        {
            "cell_type": "code",
            "execution_count": null,
            "metadata": {},
            "outputs": [],
            "source": [
                "# Example 3: Creating a thread for traversing a dungeon\n",
                "def traverse_dungeon():\n",
                "    rooms = [\"Entrance\", \"Hallway\", \"Treasure Room\", \"Boss Room\"]\n",
                "    for room in rooms:\n",
                "        print(f\"Entering {room}\")\n",
                "\n",
                "thread = threading.Thread(target=traverse_dungeon)\n",
                "thread.start()"
            ]
        },
        {
            "cell_type": "markdown",
            "metadata": {},
            "source": [
                "## Asynchronous Programming\n",
                "Asynchronous programming is like casting spells that can be performed independently.\n",
                "\n",
                "- Asynchronous programming allows tasks to run independently of the main program flow.\n",
                "- It is used to perform non-blocking operations.\n",
                "- The `asyncio` module in Python provides support for asynchronous programming.\n",
                "\n",
                "```python\n",
                "    import asyncio\n",
                "    async def async_function():\n",
                "        await asyncio.sleep(1)\n",
                "```"
            ]
        },
        {
            "cell_type": "code",
            "execution_count": null,
            "metadata": {},
            "outputs": [],
            "source": [
                "import asyncio\n",
                "\n",
                "# Example 1: Asynchronous function for rolling a D20\n",
                "async def roll_d20():\n",
                "    await asyncio.sleep(1)\n",
                "    print(random.randint(1, 20))\n"
            ]
        },
        {
            "cell_type": "code",
            "execution_count": null,
            "metadata": {},
            "outputs": [],
            "source": [
                "# Example 2: Asynchronous function for casting a spell\n",
                "async def cast_spell(spell):\n",
                "    await asyncio.sleep(1)\n",
                "    print(f\"Casting {spell}\")\n"
            ]
        },
        {
            "cell_type": "code",
            "execution_count": null,
            "metadata": {},
            "outputs": [],
            "source": [
                "# Example 3: Asynchronous function for traversing a dungeon\n",
                "async def traverse_dungeon():\n",
                "    rooms = [\"Entrance\", \"Hallway\", \"Treasure Room\", \"Boss Room\"]\n",
                "    for room in rooms:\n",
                "        await asyncio.sleep(1)\n",
                "        print(f\"Entering {room}\")\n",
                "\n",
                "async def main():\n",
                "    await asyncio.gather(roll_d20(), cast_spell(\"Fireball\"), traverse_dungeon())\n",
                "\n",
                "asyncio.run(main())\n"
            ]
        },
        {
            "cell_type": "markdown",
            "metadata": {},
            "source": [
                "## Multicore Programming\n",
                "Multicore programming is like summoning multiple characters to perform tasks on different cores.\n",
                "\n",
                "- Multicore programming allows tasks to run on multiple CPU cores simultaneously.\n",
                "- It is used to perform parallel processing.\n",
                "- The `multiprocessing` module in Python provides support for multicore programming.\n",
                "\n",
                "```python\n",
                "    import multiprocessing\n",
                "    process = multiprocessing.Process(target=function)\n",
                "    process.start()\n",
                "```"
            ]
        },
        {
            "cell_type": "code",
            "execution_count": null,
            "metadata": {},
            "outputs": [],
            "source": [
                "\n",
                "import multiprocessing\n",
                "\n",
                "# Example 1: Creating a process for rolling a D20\n",
                "def roll_d20():\n",
                "    print(random.randint(1, 20))\n",
                "\n",
                "process = multiprocessing.Process(target=roll_d20)\n",
                "process.start()\n"
            ]
        },
        {
            "cell_type": "code",
            "execution_count": null,
            "metadata": {},
            "outputs": [],
            "source": [
                "\n",
                "# Example 2: Creating a process for casting a spell\n",
                "def cast_spell(spell):\n",
                "    print(f\"Casting {spell}\")\n",
                "\n",
                "process = multiprocessing.Process(target=cast_spell, args=(\"Fireball\",))\n",
                "process.start()"
            ]
        },
        {
            "cell_type": "code",
            "execution_count": null,
            "metadata": {},
            "outputs": [],
            "source": [
                "\n",
                "# Example 3: Creating a process for traversing a dungeon\n",
                "def traverse_dungeon():\n",
                "    rooms = [\"Entrance\", \"Hallway\", \"Treasure Room\", \"Boss Room\"]\n",
                "    for room in rooms:\n",
                "        print(f\"Entering {room}\")\n",
                "\n",
                "process = multiprocessing.Process(target=traverse_dungeon)\n",
                "process.start()\n"
            ]
        }
    ],
    "metadata": {
        "kernelspec": {
            "display_name": "Python 3",
            "language": "python",
            "name": "python3"
        },
        "language_info": {
            "codemirror_mode": {
                "name": "ipython",
                "version": 3
            },
            "file_extension": ".py",
            "mimetype": "text/x-python",
            "name": "python",
            "nbconvert_exporter": "python",
            "pygments_lexer": "ipython3",
            "version": "3.12.3"
        }
    },
    "nbformat": 4,
    "nbformat_minor": 2
}
