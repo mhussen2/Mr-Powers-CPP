{
 "cells": [
  {
   "cell_type": "markdown",
   "id": "06128186-1e14-4d40-a476-807d9399ac99",
   "metadata": {},
   "source": [
    "# Code Optimization\n",
    "\n",
    "Code optimization is the process of making an application work more efficiently, usually without modifying its functionality and accuracy. Code optimization is usually concerned with the speed of processing, but can also be used to minimize the usage of different resources, such as memory, disk space, or network bandwidth.\n",
    "\n",
    "Jaworski , Michal and Tarek Ziadé. Expert Python Programming. Packt Publishing, 2019.\n"
   ]
  },
  {
   "cell_type": "markdown",
   "id": "2995bf7b-e125-4861-bf2a-3bceb42e753f",
   "metadata": {},
   "source": [
    "Even the best logging, metrics, and tracing systems will give you only a rough overview of the performance problem. If you decide to fix it, you will have to perform a careful profiling process that will uncover detailed resource usage patterns\n",
    "\n",
    "What are the main performance killers?\n",
    "- Excessive complexity\n",
    "- Excessive resource allocation and resource leaks\n",
    "- Excessive I/O and blocking operations\n"
   ]
  },
  {
   "cell_type": "markdown",
   "id": "bc4d68e2-bf26-44e4-9cce-0982434f531d",
   "metadata": {},
   "source": [
    "## Code complexity\n",
    "The two most popular ways to define application complexity are as follows:\n",
    "\n",
    "**Cyclomatic complexity** - which is very often correlated with application performance.\n",
    "\n",
    "**The Landau notation** - also known as big O notation, is an algorithm classification method that is useful in objectively judging code performance.\n",
    "\n",
    "## Cyclomatic complexity\n",
    "Short and sweet higher complexity = lower performance\n",
    "\n",
    "| | | \n",
    "|:---|:---|\n",
    "|Cyclomatic complexity value|Complexity class|\n",
    "|1 to 10|Not complex|\n",
    "|11 to 20|Moderately complex|\n",
    "|21 to 50|Really complex|\n",
    "|Above 50|Too complex|\n",
    "\n",
    "## The big O notation\n",
    "Defines how an algorithm is affected by the size of the input\n",
    "To measure the big O notation, all constants and low-order terms are removed in order to focus on the portion that really matters when the size of the input data grows very large.\n",
    "\n",
    "\n",
    "This is commonly expressed using **Big O notation**.\n",
    "\n",
    "| Big O        | Name                | Example                |\n",
    "|--------------|---------------------|------------------------|\n",
    "| O(1)         | Constant time        | Accessing an array element |\n",
    "| O(log n)     | Logarithmic time     | Binary search           |\n",
    "| O(n)         | Linear time          | Iterating over a list   |\n",
    "| O(n log n)   | Linearithmic time    | Efficient sorting (e.g., mergesort) |\n",
    "| O(n²)        | Quadratic time       | Nested loops over data  |\n",
    "| O(2ⁿ), O(n!) | Exponential / factorial | Recursive combinatorics |\n",
    "\n",
    "### Example\n",
    "```python\n",
    "def function(n):\n",
    "    for i in range(n):\n",
    "        print(i)\n",
    "\n",
    "```\n",
    "\n",
    "the print() function will be executed n times therefor O(n)"
   ]
  },
  {
   "cell_type": "markdown",
   "id": "5762af17-13e2-4b0e-b086-7b20f4775f1b",
   "metadata": {},
   "source": [
    "## Profiling CPU usage\n",
    "\n",
    "There are two ways to profile the code:\n",
    "\n",
    "**Macro-profiling** - This profiles the whole program while it is being used and generates statistics.\n",
    "\n",
    "**Micro-profiling** - This measures a precise part of the program by instrumenting it manually.\n",
    "\n",
    "\n"
   ]
  },
  {
   "cell_type": "markdown",
   "id": "0cb08217-e197-4e2d-9489-3e1e2633369a",
   "metadata": {},
   "source": [
    "## Macro-profiling\n",
    "You can do different tools tow of the available to you in Python:\n",
    "\n",
    "- `profile`: A pure-Python profiler suitable for teaching or light use.\n",
    "- `cProfile`: A C-optimized profiler, more efficient and widely used in practice."
   ]
  },
  {
   "cell_type": "code",
   "execution_count": null,
   "id": "01605d49-6ffb-467a-8076-773ce1783d78",
   "metadata": {},
   "outputs": [],
   "source": [
    "import time\n",
    "class runIT(object):\n",
    "    def __init__(self):\n",
    "        for i in range(5): \n",
    "            self.heavy() \n",
    "\n",
    "    def medium(self): \n",
    "        time.sleep(0.01) \n",
    "     \n",
    "    def light(self): \n",
    "        time.sleep(0.001) \n",
    "     \n",
    "    def heavy(self): \n",
    "        for i in range(100): \n",
    "            self.light() \n",
    "            self.medium() \n",
    "            self.medium() \n",
    "        time.sleep(2) "
   ]
  },
  {
   "cell_type": "code",
   "execution_count": null,
   "id": "b468ee68",
   "metadata": {},
   "outputs": [],
   "source": [
    "%%prun -s cumulative -q -l 10 -T prun0\n",
    "runs = runIT()"
   ]
  },
  {
   "cell_type": "code",
   "execution_count": null,
   "id": "32e0a9fc-abcf-4323-b6a2-b903f62e06a9",
   "metadata": {},
   "outputs": [],
   "source": [
    "print(open('prun0', 'r').read())"
   ]
  },
  {
   "cell_type": "markdown",
   "id": "ce0e6af0-cf82-4b5c-bd7e-551d3a0d38c7",
   "metadata": {},
   "source": [
    "The meaning of each column is as follows:\n",
    "\n",
    "\n",
    "| Column        | Description                                                                 |\n",
    "|---------------|-----------------------------------------------------------------------------|\n",
    "| `ncalls`      | Total number of calls to the function                                        |\n",
    "| `tottime`     | Total time spent in the function (excluding subcalls)                        |\n",
    "| `percall`     | `tottime` divided by `ncalls` (avg time per direct call)                    |\n",
    "| `cumtime`     | Cumulative time including all subcalls                                      |\n",
    "| `percall`     | `cumtime` divided by `ncalls` (avg time including subcalls)                 |\n"
   ]
  },
  {
   "cell_type": "code",
   "execution_count": null,
   "id": "389d538c-70c4-4b73-a90b-aa8e41f52f86",
   "metadata": {},
   "outputs": [],
   "source": [
    "import cProfile\n",
    "profiler = cProfile.Profile()\n",
    "profiler.runcall(runIT)\n",
    "profiler.print_stats()"
   ]
  },
  {
   "cell_type": "markdown",
   "id": "85a738f6-558d-4de5-a67c-673a967753a3",
   "metadata": {},
   "source": [
    "## Profiling your code line-by-line with line_profiler\n",
    "\n",
    "Sometimes we need an even more detailed analysis of code performance \n",
    "\n",
    "This is particularly useful when optimizing algorithms, loops, or numerically intensive routines.\n",
    "\n",
    "To profile code line-by-line, we need an external Python module named `line_profiler`."
   ]
  },
  {
   "cell_type": "markdown",
   "id": "b0c3496b-6bdc-4234-85a5-dc9cb3f06ce5",
   "metadata": {},
   "source": [
    "\n",
    "```bash\n",
    "pip install line_profiler\n",
    "```\n"
   ]
  },
  {
   "cell_type": "code",
   "execution_count": null,
   "id": "0414ca43-414f-4e7c-9b34-6586f5da4c6a",
   "metadata": {},
   "outputs": [],
   "source": [
    "%%writefile simulation.py \n",
    "import time\n",
    "def medium(): \n",
    "    time.sleep(0.01) \n",
    " \n",
    "def light(): \n",
    "    time.sleep(0.001) \n",
    " \n",
    "def heavy(): \n",
    "    for i in range(100): \n",
    "        light() \n",
    "        medium() \n",
    "        medium() \n",
    "    time.sleep(2) \n",
    " \n",
    "def runIt(n): \n",
    "    for i in range(n): \n",
    "        heavy()"
   ]
  },
  {
   "cell_type": "code",
   "execution_count": 98,
   "id": "39f3541f-0f20-4016-a8dc-be8e3a9abe33",
   "metadata": {},
   "outputs": [
    {
     "name": "stdout",
     "output_type": "stream",
     "text": [
      "The line_profiler extension is already loaded. To reload it, use:\n",
      "  %reload_ext line_profiler\n"
     ]
    }
   ],
   "source": [
    "from simulation import runIt, heavy, medium, light\n",
    "%load_ext line_profiler"
   ]
  },
  {
   "cell_type": "markdown",
   "id": "84a8b5ef",
   "metadata": {},
   "source": [
    "The `line_profiler` package integrates with IPython via the `%lprun`\n",
    "\n",
    "Parameter | Description                                                               |\n",
    "|---------------|-----------------------------------------------------------------------------|\n",
    "`-T lprof0` | Redirects the profiler's output to a text file named lprof0.\n",
    "`-f runIt` | Profiles the runIt function. You can specify multiple -f flags.\n",
    "`runIt(5)` | The code to execute.\n"
   ]
  },
  {
   "cell_type": "code",
   "execution_count": 99,
   "id": "745d5f15-1a59-4a9d-9fc1-a15f9b2cdbbf",
   "metadata": {},
   "outputs": [
    {
     "name": "stdout",
     "output_type": "stream",
     "text": [
      "\n",
      "*** Profile printout saved to text file 'lprof0'. \n"
     ]
    },
    {
     "name": "stdout",
     "output_type": "stream",
     "text": [
      "Timer unit: 1e-09 s\n",
      "\n",
      "Total time: 4.12612 s\n",
      "File: /media/krispy/4A94A7D594A7C235/Users/Power/Documents/ETE/Git/ETE4990/LectureNotes/Lecture 18 - Optimization/simulation.py\n",
      "Function: heavy at line 8\n",
      "\n",
      "Line #      Hits         Time  Per Hit   % Time  Line Contents\n",
      "==============================================================\n",
      "     8                                           def heavy(): \n",
      "     9       101     228378.0   2261.2      0.0      for i in range(100): \n",
      "    10       100  107491203.0    1e+06      2.6          light() \n",
      "    11       100 1009254285.0    1e+07     24.5          medium() \n",
      "    12       100 1009075417.0    1e+07     24.5          medium() \n",
      "    13         1 2000073547.0    2e+09     48.5      time.sleep(2)"
     ]
    }
   ],
   "source": [
    "#%lprun -T lprof0 -f simulate simulate(50)\n",
    "%lprun -T lprof0 -f heavy runIt(1)"
   ]
  },
  {
   "cell_type": "code",
   "execution_count": null,
   "id": "c18d336a-056d-4204-bedf-4569030efb6d",
   "metadata": {},
   "outputs": [],
   "source": [
    "print(open('lprof0', 'r').read())"
   ]
  },
  {
   "cell_type": "code",
   "execution_count": 100,
   "id": "c841bc2b-8421-4015-9c41-9518e1c419f4",
   "metadata": {},
   "outputs": [],
   "source": [
    "#%%writefile rates.py\n",
    "#from condenced from Lecture 11\n",
    "import threading\n",
    "import requests\n",
    "import json\n",
    "def fetch_rate(bases, symbols =['eur','jpy','usd'] ):\n",
    "    for base in bases:\n",
    "        web = \"http://www.floatrates.com/daily/\"+str(base)+\".json\"\n",
    "        response = requests.get(web)\n",
    "        rate = response.json()\n",
    "        rate[base]= {'rate':1}\n",
    "        \n",
    "        #create a line to output the rate\n",
    "        rates_line = \", \".join(\n",
    "            [f\"{symbol}{float(rate[symbol]['rate']):10.04}\" \n",
    "             for symbol in symbols]\n",
    "        )\n",
    "        print(f\"{base} = {rates_line}\")"
   ]
  },
  {
   "cell_type": "code",
   "execution_count": 101,
   "id": "3ee7b1c6-a505-45ce-bf4d-220eea9ca771",
   "metadata": {},
   "outputs": [
    {
     "name": "stdout",
     "output_type": "stream",
     "text": [
      "eur = eur       1.0, jpy     162.1, usd     1.136\n",
      "jpy = eur  0.006171, jpy       1.0, usd  0.007012\n",
      "usd = eur      0.88, jpy     142.6, usd       1.0\n",
      "rub = eur   0.01071, jpy     1.736, usd   0.01217\n",
      "cad = eur    0.6341, jpy     102.8, usd    0.7206\n",
      "\n",
      "*** Profile printout saved to text file 'lprof1'. \n"
     ]
    },
    {
     "name": "stdout",
     "output_type": "stream",
     "text": [
      "Timer unit: 1e-09 s\n",
      "\n",
      "Total time: 1.29601 s\n",
      "File: /tmp/ipykernel_340036/40117780.py\n",
      "Function: fetch_rate at line 6\n",
      "\n",
      "Line #      Hits         Time  Per Hit   % Time  Line Contents\n",
      "==============================================================\n",
      "     6                                           def fetch_rate(bases, symbols =['eur','jpy','usd'] ):\n",
      "     7         6       5525.0    920.8      0.0      for base in bases:\n",
      "     8         5       7289.0   1457.8      0.0          web = \"http://www.floatrates.com/daily/\"+str(base)+\".json\"\n",
      "     9         5 1294001519.0    3e+08     99.8          response = requests.get(web)\n",
      "    10         5    1448477.0 289695.4      0.1          rate = response.json()\n",
      "    11         5       4743.0    948.6      0.0          rate[base]= {'rate':1}\n",
      "    12                                                   \n",
      "    13                                                   #create a line to output the rate\n",
      "    14        10       8480.0    848.0      0.0          rates_line = \", \".join(\n",
      "    15        35      74335.0   2123.9      0.0              [f\"{symbol}{float(rate[symbol]['rate']):10.04}\" \n",
      "    16        20       4682.0    234.1      0.0               for symbol in symbols]\n",
      "    17                                                   )\n",
      "    18         5     453070.0  90614.0      0.0          print(f\"{base} = {rates_line}\")"
     ]
    }
   ],
   "source": [
    "%lprun -T lprof1 -f fetch_rate fetch_rate(['eur','jpy','usd','rub','cad'])"
   ]
  },
  {
   "cell_type": "code",
   "execution_count": 102,
   "id": "f62a78cd-ec0c-4b1a-9ba4-83f4eb9fc76c",
   "metadata": {},
   "outputs": [
    {
     "name": "stdout",
     "output_type": "stream",
     "text": [
      "Timer unit: 1e-09 s\n",
      "\n",
      "Total time: 2.01685 s\n",
      "File: /media/krispy/4A94A7D594A7C235/Users/Power/Documents/ETE/Git/ETE4990/LectureNotes/Lecture 18 - Optimization/simulation.py\n",
      "Function: medium at line 2\n",
      "\n",
      "Line #      Hits         Time  Per Hit   % Time  Line Contents\n",
      "==============================================================\n",
      "     2                                           def medium(): \n",
      "     3       200 2016845263.0    1e+07    100.0      time.sleep(0.01) \n",
      "\n",
      "Total time: 0.107312 s\n",
      "File: /media/krispy/4A94A7D594A7C235/Users/Power/Documents/ETE/Git/ETE4990/LectureNotes/Lecture 18 - Optimization/simulation.py\n",
      "Function: light at line 5\n",
      "\n",
      "Line #      Hits         Time  Per Hit   % Time  Line Contents\n",
      "==============================================================\n",
      "     5                                           def light(): \n",
      "     6       100  107311934.0    1e+06    100.0      time.sleep(0.001) \n",
      "\n",
      "Total time: 4.12907 s\n",
      "File: /media/krispy/4A94A7D594A7C235/Users/Power/Documents/ETE/Git/ETE4990/LectureNotes/Lecture 18 - Optimization/simulation.py\n",
      "Function: heavy at line 8\n",
      "\n",
      "Line #      Hits         Time  Per Hit   % Time  Line Contents\n",
      "==============================================================\n",
      "     8                                           def heavy(): \n",
      "     9       101     163872.0   1622.5      0.0      for i in range(100): \n",
      "    10       100  108406739.0    1e+06      2.6          light() \n",
      "    11       100 1010106585.0    1e+07     24.5          medium() \n",
      "    12       100 1010322519.0    1e+07     24.5          medium() \n",
      "    13         1 2000072326.0    2e+09     48.4      time.sleep(2) \n",
      "\n",
      "Total time: 4.12941 s\n",
      "File: /media/krispy/4A94A7D594A7C235/Users/Power/Documents/ETE/Git/ETE4990/LectureNotes/Lecture 18 - Optimization/simulation.py\n",
      "Function: runIt at line 15\n",
      "\n",
      "Line #      Hits         Time  Per Hit   % Time  Line Contents\n",
      "==============================================================\n",
      "    15                                           def runIt(n): \n",
      "    16         2       3375.0   1687.5      0.0      for i in range(n): \n",
      "    17         1 4129402063.0    4e+09    100.0          heavy()\n",
      "\n"
     ]
    }
   ],
   "source": [
    "#to profile multiple function within the code you can do the following\n",
    "from simulation import runIt, heavy, medium, light\n",
    "from line_profiler import LineProfiler\n",
    "lp = LineProfiler()\n",
    "lp.add_function(light)\n",
    "lp.add_function(medium)\n",
    "lp.add_function(heavy)\n",
    "lpp = lp(runIt)\n",
    "lpp(1)\n",
    "\n",
    "\n",
    "lp.print_stats()\n"
   ]
  },
  {
   "cell_type": "markdown",
   "id": "10d7807b",
   "metadata": {},
   "source": [
    "Or"
   ]
  },
  {
   "cell_type": "code",
   "execution_count": null,
   "id": "6dd395f6",
   "metadata": {},
   "outputs": [],
   "source": [
    "%lprun -T lprof0 -f runIt -f heavy -f medium -f light runIt(5)"
   ]
  },
  {
   "cell_type": "code",
   "execution_count": null,
   "id": "73684764-3da3-4c7d-bdc6-51b70ce00cc5",
   "metadata": {},
   "outputs": [],
   "source": [
    "print(open('lprof2', 'r').read())"
   ]
  },
  {
   "cell_type": "markdown",
   "id": "bab56397-9238-4a61-98ed-118b5ce08a2b",
   "metadata": {},
   "source": [
    "# Profiling the Memory Usage\n",
    "\n",
    "Memory profiling helps identify unnecessary allocations that can degrade long-running systems.\n",
    "\n",
    "Writing memory-efficient code is critical for performance, especially in high-throughput or data-intensive applications (e.g., when working with large NumPy arrays or data frames).\n",
    "\n",
    "\n",
    "The `memory_profiler` package integrates with IPython via the `%memit` magic command, allowing you to measure the memory usage of individual lines or functions.\n"
   ]
  },
  {
   "cell_type": "markdown",
   "id": "0e45d7a5-dacc-4802-bfa0-d88efefc5e29",
   "metadata": {},
   "source": [
    "``` bash\n",
    "!pip install memory_profiler\n",
    "````"
   ]
  },
  {
   "cell_type": "code",
   "execution_count": 103,
   "id": "d9b46514-9b81-4353-bc08-2d56d445896d",
   "metadata": {},
   "outputs": [
    {
     "name": "stdout",
     "output_type": "stream",
     "text": [
      "The memory_profiler extension is already loaded. To reload it, use:\n",
      "  %reload_ext memory_profiler\n"
     ]
    }
   ],
   "source": [
    "%load_ext memory_profiler"
   ]
  },
  {
   "cell_type": "code",
   "execution_count": 104,
   "id": "308a3ae1-734e-4148-b64a-be0a5d82f39e",
   "metadata": {},
   "outputs": [
    {
     "name": "stdout",
     "output_type": "stream",
     "text": [
      "eur = eur       1.0, jpy     162.1, usd     1.136\n",
      "jpy = eur  0.006171, jpy       1.0, usd  0.007012\n",
      "usd = eur      0.88, jpy     142.6, usd       1.0\n",
      "rub = eur   0.01071, jpy     1.736, usd   0.01217\n",
      "cad = eur    0.6341, jpy     102.8, usd    0.7206\n",
      "\n",
      "\n",
      "*** Profile printout saved to text file mprof0. \n"
     ]
    },
    {
     "name": "stdout",
     "output_type": "stream",
     "text": [
      "Filename: /media/krispy/4A94A7D594A7C235/Users/Power/Documents/ETE/Git/ETE4990/LectureNotes/Lecture 18 - Optimization/rates.py\n",
      "\n",
      "Line #    Mem usage    Increment  Occurrences   Line Contents\n",
      "=============================================================\n",
      "     5   1091.6 MiB   1091.6 MiB           1   def fetch_rate(bases, symbols =['eur','jpy','usd'] ):\n",
      "     6   1091.6 MiB      0.0 MiB           6       for base in bases:\n",
      "     7   1091.6 MiB      0.0 MiB           5           web = \"http://www.floatrates.com/daily/\"+str(base)+\".json\"\n",
      "     8   1091.6 MiB      0.0 MiB           5           response = requests.get(web)\n",
      "     9   1091.6 MiB      0.0 MiB           5           rate = response.json()\n",
      "    10   1091.6 MiB      0.0 MiB           5           rate[base]= {'rate':1}\n",
      "    11                                                 \n",
      "    12                                                 #create a line to output the rate\n",
      "    13   1091.6 MiB      0.0 MiB          10           rates_line = \", \".join(\n",
      "    14   1091.6 MiB      0.0 MiB          35               [f\"{symbol}{float(rate[symbol]['rate']):10.04}\" \n",
      "    15   1091.6 MiB      0.0 MiB          20                for symbol in symbols]\n",
      "    16                                                 )\n",
      "    17   1091.6 MiB      0.0 MiB           5           print(f\"{base} = {rates_line}\")"
     ]
    }
   ],
   "source": [
    "from rates import fetch_rate\n",
    "%mprun -T mprof0 -f fetch_rate fetch_rate(['eur','jpy','usd','rub','cad'])"
   ]
  },
  {
   "cell_type": "code",
   "execution_count": 105,
   "id": "08c66c43-4972-477e-955a-5f1be15c0216",
   "metadata": {},
   "outputs": [
    {
     "name": "stdout",
     "output_type": "stream",
     "text": [
      "\n",
      "\n",
      "*** Profile printout saved to text file mprof1. \n"
     ]
    },
    {
     "name": "stdout",
     "output_type": "stream",
     "text": [
      "Filename: /media/krispy/4A94A7D594A7C235/Users/Power/Documents/ETE/Git/ETE4990/LectureNotes/Lecture 18 - Optimization/simulation.py\n",
      "\n",
      "Line #    Mem usage    Increment  Occurrences   Line Contents\n",
      "=============================================================\n",
      "    15   1091.6 MiB   1091.6 MiB           1   def runIt(n): \n",
      "    16   1091.6 MiB      0.0 MiB           2       for i in range(n): \n",
      "    17   1091.6 MiB      0.0 MiB           1           heavy()"
     ]
    }
   ],
   "source": [
    "%mprun -T mprof1 -f runIt runIt(1)"
   ]
  },
  {
   "cell_type": "code",
   "execution_count": 106,
   "id": "8cb9ef4f-a037-48e1-88c4-36bd739b92d8",
   "metadata": {},
   "outputs": [
    {
     "name": "stdout",
     "output_type": "stream",
     "text": [
      "\n",
      "\n",
      "*** Profile printout saved to text file mprof2. \n"
     ]
    },
    {
     "name": "stdout",
     "output_type": "stream",
     "text": [
      "Filename: /media/krispy/4A94A7D594A7C235/Users/Power/Documents/ETE/Git/ETE4990/LectureNotes/Lecture 18 - Optimization/memscript.py\n",
      "\n",
      "Line #    Mem usage    Increment  Occurrences   Line Contents\n",
      "=============================================================\n",
      "     1   1091.6 MiB   1091.6 MiB           1   def my_func():\n",
      "     2   1160.2 MiB     68.6 MiB           1       a = [2] * 9000000\n",
      "     3   1229.0 MiB     68.8 MiB           1       b = [2] * 9000000\n",
      "     4   1160.3 MiB    -68.7 MiB           1       del b\n",
      "     5   1229.0 MiB     68.6 MiB           1       b = [2] * 9000000\n",
      "     6   1229.0 MiB      0.0 MiB           1       return a"
     ]
    }
   ],
   "source": [
    "from memscript import my_func, my_func2\n",
    "%mprun -T mprof2 -f my_func my_func()"
   ]
  },
  {
   "cell_type": "markdown",
   "id": "8b6bce2b",
   "metadata": {},
   "source": [
    "    Line 2: a is created, allocating ~69 MiB.\n",
    "\n",
    "    Line 3: b is created, allocating an additional ~69 MiB.\n",
    "\n",
    "    Line 4: b is deleted, freeing ~69 MiB.\n",
    "\n",
    "    Line 5: b is reallocated, consuming ~69 MiB again."
   ]
  },
  {
   "cell_type": "code",
   "execution_count": 107,
   "id": "571c82d8",
   "metadata": {},
   "outputs": [
    {
     "name": "stdout",
     "output_type": "stream",
     "text": [
      "\n",
      "\n",
      "*** Profile printout saved to text file mprof3. \n"
     ]
    },
    {
     "name": "stdout",
     "output_type": "stream",
     "text": [
      "Filename: /media/krispy/4A94A7D594A7C235/Users/Power/Documents/ETE/Git/ETE4990/LectureNotes/Lecture 18 - Optimization/memscript.py\n",
      "\n",
      "Line #    Mem usage    Increment  Occurrences   Line Contents\n",
      "=============================================================\n",
      "     8   1091.7 MiB   1091.7 MiB           1   def my_func2():\n",
      "     9   1160.3 MiB     68.6 MiB           1       a2 = [2] * 9000000\n",
      "    10   1228.9 MiB     68.6 MiB           1       b2 = [2] * 9000000\n",
      "    11   1229.0 MiB      0.1 MiB           1       b2 = [0] * 9000000\n",
      "    12   1229.0 MiB      0.0 MiB           1       return a2"
     ]
    }
   ],
   "source": [
    "%mprun -T mprof3 -f my_func2 my_func2()"
   ]
  },
  {
   "cell_type": "markdown",
   "id": "cbbe1400-1525-4303-b218-6c70aa9a4b89",
   "metadata": {},
   "source": [
    "the memory_profiler IPython extension also comes with a %memit magic command that lets us benchmark the memory used by a single Python statement"
   ]
  },
  {
   "cell_type": "code",
   "execution_count": 108,
   "id": "e01af965-c90a-49d8-8e8e-a9c267f5225c",
   "metadata": {},
   "outputs": [
    {
     "name": "stdout",
     "output_type": "stream",
     "text": [
      "peak memory: 1091.68 MiB, increment: 0.00 MiB\n"
     ]
    }
   ],
   "source": [
    "%%memit \n",
    "import json\n",
    "with open('ItemData.json') as f:\n",
    "    items = json.load(f)\n"
   ]
  },
  {
   "cell_type": "markdown",
   "id": "8faf9d53",
   "metadata": {},
   "source": [
    "## A special note for py scripts  \n",
    "\n",
    "The `line_profiler` and `memory_profiler` tools requires functions to be decorated with @profile to measure their line-by-line execution time.\n",
    "\n",
    "``` python\n",
    "@profile\n",
    "def some_function():\n",
    "    # Your code here\n",
    "```\n",
    "### line_profiler\n",
    "Once decorated, the function can be profiled using the `kernprof` command-line tool, which comes with line_profiler.\n",
    "\n",
    "``` bash\n",
    "kernprof -l -v example.py\n",
    "\n",
    "```\n",
    "    -l tells `kernprof` to use line-by-line profiling.\n",
    "\n",
    "    -v outputs verbose results to the terminal.\n",
    "\n",
    "This generates a example.py.lprof file which is then read and displayed by the profiler.\n",
    "\n",
    "### memory_profiler\n",
    "\n",
    "Once decorated, the function can be profiled using the `memory_profiler` command which is passed to python\n",
    "\n",
    "``` bash\n",
    "python -m memory_profiler example.py\n",
    "```\n",
    "\n",
    "An important note. memory_profiler output is not saved so you must output it \n",
    "\n",
    "``` bash\n",
    "python -m memory_profiler example.py > memprofile_output.txt\n",
    "```"
   ]
  },
  {
   "cell_type": "markdown",
   "id": "d3bc11b2-93c6-484f-a58d-94a3ca03f44d",
   "metadata": {},
   "source": [
    "# Practical Speed Improvements\n",
    "Your application is slow but why? You can write you code in so many different ways. Here are some examples using `%timeit` to uncover performance bottlenecks."
   ]
  },
  {
   "cell_type": "code",
   "execution_count": 109,
   "id": "853c4db7-058e-401a-9e89-cec46fea035e",
   "metadata": {},
   "outputs": [
    {
     "name": "stdout",
     "output_type": "stream",
     "text": [
      "<class 'list'>\n",
      "[-0.39516442423754755, 2.3828589358585397, 0.3213714501706496]\n"
     ]
    },
    {
     "data": {
      "text/plain": [
       "100000"
      ]
     },
     "execution_count": 109,
     "metadata": {},
     "output_type": "execute_result"
    }
   ],
   "source": [
    "# create a random list of 100,000 with a normal variance\n",
    "import random\n",
    "l = [random.normalvariate(0,1) for i in range(100000)]\n",
    "print(type(l))\n",
    "print(l[0:3])\n",
    "len(l)"
   ]
  },
  {
   "cell_type": "markdown",
   "id": "13a43c91",
   "metadata": {},
   "source": [
    "## Indexed For-Loop\n",
    "what most of you use"
   ]
  },
  {
   "cell_type": "code",
   "execution_count": 110,
   "id": "9af639e6-9f5b-4031-9486-5786e357891f",
   "metadata": {},
   "outputs": [
    {
     "name": "stdout",
     "output_type": "stream",
     "text": [
      "4.26 ms ± 92.6 µs per loop (mean ± std. dev. of 7 runs, 100 loops each)\n"
     ]
    },
    {
     "data": {
      "text/plain": [
       "<TimeitResult : 4.26 ms ± 92.6 µs per loop (mean ± std. dev. of 7 runs, 100 loops each)>"
      ]
     },
     "execution_count": 110,
     "metadata": {},
     "output_type": "execute_result"
    }
   ],
   "source": [
    "#function that computes the sum of all numbers in that list\n",
    "def getSum():\n",
    "    res = 0\n",
    "    for i in range(len(l)):\n",
    "        res = res + l[i]\n",
    "    return res\n",
    "%timeit -o getSum()"
   ]
  },
  {
   "cell_type": "markdown",
   "id": "26d49aa7",
   "metadata": {},
   "source": [
    "## Direct Iteration\n",
    "a faster and more Pythonic: iteration which avoids the index lookup overhead."
   ]
  },
  {
   "cell_type": "code",
   "execution_count": 111,
   "id": "657a58d7-28ae-4000-a3a0-0f95f1bc5b87",
   "metadata": {},
   "outputs": [
    {
     "name": "stdout",
     "output_type": "stream",
     "text": [
      "2.35 ms ± 284 µs per loop (mean ± std. dev. of 7 runs, 100 loops each)\n"
     ]
    }
   ],
   "source": [
    "#same function but using enumeration\n",
    "def enumSum():\n",
    "    res = 0\n",
    "    for x in l:\n",
    "        res = res + x\n",
    "    return res\n",
    "%timeit -n 100 enumSum()"
   ]
  },
  {
   "cell_type": "markdown",
   "id": "b29f3da1",
   "metadata": {},
   "source": [
    "## Built-in sum()\n",
    "\n",
    "Built-in functions in Python are highly optimized, often implemented in C under the hood. This is usually the fastest method."
   ]
  },
  {
   "cell_type": "code",
   "execution_count": 112,
   "id": "ebf5bdb5-30b5-4d75-ba06-e696f65eb137",
   "metadata": {},
   "outputs": [
    {
     "name": "stdout",
     "output_type": "stream",
     "text": [
      "1.06 ms ± 173 µs per loop (mean ± std. dev. of 7 runs, 100 loops each)\n"
     ]
    }
   ],
   "source": [
    "#using pythons built-in function to \n",
    "#compute the sum of all elements in a list\n",
    "def builtInSum():\n",
    "    return sum(l)\n",
    "%timeit -n 100 builtInSum()"
   ]
  },
  {
   "cell_type": "markdown",
   "id": "e2a3a39d-318b-410a-8b37-ecd5eb63e73d",
   "metadata": {},
   "source": [
    "# String Construction and Concatenation\n",
    "strings can be very costly so they are prime targets for optimization"
   ]
  },
  {
   "cell_type": "code",
   "execution_count": 113,
   "id": "7e7ea7a8-0fce-40b1-aa0f-fa58c19fb077",
   "metadata": {},
   "outputs": [
    {
     "name": "stdout",
     "output_type": "stream",
     "text": [
      "<class 'list'>\n",
      "['-0.3951644242375476', '2.3828589358585397', '0.3213714501706496']\n"
     ]
    },
    {
     "data": {
      "text/plain": [
       "100000"
      ]
     },
     "execution_count": 113,
     "metadata": {},
     "output_type": "execute_result"
    }
   ],
   "source": [
    "#Create List of Strings\n",
    "strings = ['%.16f' % x for x in l]\n",
    "print(type(strings))\n",
    "print(strings[0:3])\n",
    "len(strings)"
   ]
  },
  {
   "cell_type": "markdown",
   "id": "ed829ee0",
   "metadata": {},
   "source": [
    "## Manual Concatenation \n",
    "probably the worst thing you could do"
   ]
  },
  {
   "cell_type": "code",
   "execution_count": 114,
   "id": "c8406481-6c26-488e-a1cd-c662842a7114",
   "metadata": {},
   "outputs": [
    {
     "name": "stdout",
     "output_type": "stream",
     "text": [
      "12.4 s ± 85.6 ms per loop (mean ± std. dev. of 7 runs, 1 loop each)\n"
     ]
    }
   ],
   "source": [
    "#Concatenating all strings in that list\n",
    "def concatString():\n",
    "    cat = strings[0]\n",
    "    for s in strings[1:]:\n",
    "        cat = cat + ', ' + s\n",
    "    return cat\n",
    "%timeit -n 1 concatString()"
   ]
  },
  {
   "cell_type": "markdown",
   "id": "f5a2d91f",
   "metadata": {},
   "source": [
    "## str.join() \n",
    "please use this..."
   ]
  },
  {
   "cell_type": "code",
   "execution_count": 115,
   "id": "b9661609-cd62-452b-aac3-01af36e114a8",
   "metadata": {},
   "outputs": [
    {
     "name": "stdout",
     "output_type": "stream",
     "text": [
      "1.46 ms ± 30.1 µs per loop (mean ± std. dev. of 7 runs, 1,000 loops each)\n"
     ]
    }
   ],
   "source": [
    "def joinString():\n",
    "    return ', '.join(strings)\n",
    "\n",
    "%timeit joinString()"
   ]
  },
  {
   "cell_type": "code",
   "execution_count": 116,
   "id": "d84f5e79-51fc-4068-a9e1-6342dd17c2ea",
   "metadata": {},
   "outputs": [
    {
     "ename": "KeyboardInterrupt",
     "evalue": "",
     "output_type": "error",
     "traceback": [
      "\u001b[0;31m---------------------------------------------------------------------------\u001b[0m",
      "\u001b[0;31mKeyboardInterrupt\u001b[0m                         Traceback (most recent call last)",
      "Cell \u001b[0;32mIn[116], line 1\u001b[0m\n\u001b[0;32m----> 1\u001b[0m \u001b[38;5;28mprint\u001b[39m(\u001b[43mconcatString\u001b[49m\u001b[43m(\u001b[49m\u001b[43m)\u001b[49m[:\u001b[38;5;241m24\u001b[39m])\n\u001b[1;32m      2\u001b[0m \u001b[38;5;28mprint\u001b[39m(joinString()[:\u001b[38;5;241m24\u001b[39m])\n",
      "Cell \u001b[0;32mIn[114], line 5\u001b[0m, in \u001b[0;36mconcatString\u001b[0;34m()\u001b[0m\n\u001b[1;32m      3\u001b[0m cat \u001b[38;5;241m=\u001b[39m strings[\u001b[38;5;241m0\u001b[39m]\n\u001b[1;32m      4\u001b[0m \u001b[38;5;28;01mfor\u001b[39;00m s \u001b[38;5;129;01min\u001b[39;00m strings[\u001b[38;5;241m1\u001b[39m:]:\n\u001b[0;32m----> 5\u001b[0m     cat \u001b[38;5;241m=\u001b[39m cat \u001b[38;5;241m+\u001b[39m \u001b[38;5;124m'\u001b[39m\u001b[38;5;124m, \u001b[39m\u001b[38;5;124m'\u001b[39m \u001b[38;5;241m+\u001b[39m s\n\u001b[1;32m      6\u001b[0m \u001b[38;5;28;01mreturn\u001b[39;00m cat\n",
      "\u001b[0;31mKeyboardInterrupt\u001b[0m: "
     ]
    }
   ],
   "source": [
    "print(concatString()[:24])\n",
    "print(joinString()[:24])"
   ]
  },
  {
   "cell_type": "code",
   "execution_count": 117,
   "id": "0841adb1-f1e4-4890-82eb-d4ef963c260b",
   "metadata": {},
   "outputs": [
    {
     "name": "stdout",
     "output_type": "stream",
     "text": [
      "['-0.3951644242375476', '2.3828589358585397', '0.3213714501706496']\n",
      "[-0.39516442423754755, 2.3828589358585397, 0.3213714501706496]\n"
     ]
    }
   ],
   "source": [
    "print(strings[:3])\n",
    "print(l[:3])"
   ]
  },
  {
   "cell_type": "markdown",
   "id": "39e9440d",
   "metadata": {},
   "source": [
    "## Please Sr., may I have another?"
   ]
  },
  {
   "cell_type": "markdown",
   "id": "93f28a35",
   "metadata": {},
   "source": [
    "### List lookup O(n) Vs O(1)\n",
    "O(n) - Bad"
   ]
  },
  {
   "cell_type": "code",
   "execution_count": 121,
   "id": "7a23f1d8",
   "metadata": {},
   "outputs": [
    {
     "name": "stdout",
     "output_type": "stream",
     "text": [
      "950 ns ± 49 ns per loop (mean ± std. dev. of 7 runs, 1,000,000 loops each)\n"
     ]
    }
   ],
   "source": [
    "items = list(range(100))\n",
    "def OnList():\n",
    "    return 99999 in items\n",
    "\n",
    "%timeit OnList()"
   ]
  },
  {
   "cell_type": "markdown",
   "id": "9bbe86e3",
   "metadata": {},
   "source": [
    "  O(1) - Mind blowing"
   ]
  },
  {
   "cell_type": "code",
   "execution_count": 122,
   "id": "c0a07022",
   "metadata": {},
   "outputs": [
    {
     "name": "stdout",
     "output_type": "stream",
     "text": [
      "54.8 ns ± 1.99 ns per loop (mean ± std. dev. of 7 runs, 10,000,000 loops each)\n"
     ]
    }
   ],
   "source": [
    "#items_set = set(items)\n",
    "items_set= set(range(100)) #same results\n",
    "def O1set():\n",
    "    return 99999 in items_set\n",
    "\n",
    "%timeit O1set()"
   ]
  },
  {
   "cell_type": "markdown",
   "id": "4a2ec63c",
   "metadata": {},
   "source": [
    "list.__contains__() does linear search\n",
    "\n",
    "set.__contains__() uses a hash table, giving near constant time lookup"
   ]
  },
  {
   "cell_type": "markdown",
   "id": "3b240947",
   "metadata": {},
   "source": [
    "## List Comprehensions vs append in a Loop\n",
    "\n",
    "Loop + append"
   ]
  },
  {
   "cell_type": "code",
   "execution_count": 120,
   "id": "865e1a13",
   "metadata": {},
   "outputs": [
    {
     "name": "stdout",
     "output_type": "stream",
     "text": [
      "684 ms ± 5.92 ms per loop (mean ± std. dev. of 7 runs, 1 loop each)\n"
     ]
    }
   ],
   "source": [
    "def build_list_loop():\n",
    "    result = []\n",
    "    for i in range(10000000):\n",
    "        result.append(i * 2)\n",
    "    return result\n",
    "\n",
    "%timeit build_list_loop()"
   ]
  },
  {
   "cell_type": "markdown",
   "id": "3ba139fa",
   "metadata": {},
   "source": [
    "List comprehension"
   ]
  },
  {
   "cell_type": "code",
   "execution_count": 123,
   "id": "45c5cc26",
   "metadata": {},
   "outputs": [
    {
     "name": "stdout",
     "output_type": "stream",
     "text": [
      "648 ms ± 35.2 ms per loop (mean ± std. dev. of 7 runs, 1 loop each)\n"
     ]
    }
   ],
   "source": [
    "def build_list_comp():\n",
    "    return [i * 2 for i in range(10000000)]\n",
    "\n",
    "%timeit build_list_comp()"
   ]
  },
  {
   "cell_type": "markdown",
   "id": "791c9be8",
   "metadata": {},
   "source": [
    "## Dictionary Lookup Optimization"
   ]
  },
  {
   "cell_type": "code",
   "execution_count": 1,
   "id": "4c651761",
   "metadata": {},
   "outputs": [],
   "source": [
    "d = {i: i * 2 for i in range(10000000)}\n"
   ]
  },
  {
   "cell_type": "code",
   "execution_count": 6,
   "id": "767192f4",
   "metadata": {},
   "outputs": [
    {
     "name": "stdout",
     "output_type": "stream",
     "text": [
      "77.4 ns ± 15.1 ns per loop (mean ± std. dev. of 7 runs, 10,000,000 loops each)\n"
     ]
    }
   ],
   "source": [
    "def redundant_dict_lookup():\n",
    "    if 10000001 in d:\n",
    "        return d[10000001]\n",
    "\n",
    "%timeit redundant_dict_lookup()"
   ]
  },
  {
   "cell_type": "code",
   "execution_count": 3,
   "id": "b7ed8b80",
   "metadata": {},
   "outputs": [
    {
     "name": "stdout",
     "output_type": "stream",
     "text": [
      "103 ns ± 30.5 ns per loop (mean ± std. dev. of 7 runs, 10,000,000 loops each)\n"
     ]
    }
   ],
   "source": [
    "def efficient_dict_lookup():\n",
    "    return d.get(9999999)\n",
    "\n",
    "%timeit efficient_dict_lookup()"
   ]
  },
  {
   "cell_type": "markdown",
   "id": "1df9266d",
   "metadata": {},
   "source": [
    "## Global Vs Local (with a bonus)"
   ]
  },
  {
   "cell_type": "code",
   "execution_count": 135,
   "id": "20f8f58f",
   "metadata": {},
   "outputs": [
    {
     "name": "stdout",
     "output_type": "stream",
     "text": [
      "10.2 ms ± 1.04 ms per loop (mean ± std. dev. of 7 runs, 100 loops each)\n"
     ]
    }
   ],
   "source": [
    "#Use local variables inside loops:\n",
    "#Accessing local variables is faster than globals or attribute lookups.\n",
    "import math\n",
    "gtotal = 0\n",
    "def global_lookup():\n",
    "    global gtotal\n",
    "    for i in range(100000):\n",
    "        gtotal += math.sqrt(i)\n",
    "    return gtotal\n",
    "\n",
    "%timeit global_lookup()\n"
   ]
  },
  {
   "cell_type": "code",
   "execution_count": 136,
   "id": "a5709605",
   "metadata": {},
   "outputs": [
    {
     "name": "stdout",
     "output_type": "stream",
     "text": [
      "8.05 ms ± 863 µs per loop (mean ± std. dev. of 7 runs, 100 loops each)\n"
     ]
    }
   ],
   "source": [
    "\n",
    "def local_passed(total):\n",
    "    for i in range(100000):\n",
    "        total += math.sqrt(i)\n",
    "    return total\n",
    "\n",
    "%timeit local_passed(0)\n"
   ]
  },
  {
   "cell_type": "code",
   "execution_count": 141,
   "id": "8003bf93",
   "metadata": {},
   "outputs": [
    {
     "name": "stdout",
     "output_type": "stream",
     "text": [
      "6.9 ms ± 90.3 µs per loop (mean ± std. dev. of 7 runs, 1,000 loops each)\n"
     ]
    }
   ],
   "source": [
    "\n",
    "def local_lookup():\n",
    "    ltotal = 0\n",
    "    for i in range(100000):\n",
    "        ltotal += math.sqrt(i)\n",
    "    return ltotal\n",
    "\n",
    "%timeit -n 1000 local_lookup()"
   ]
  },
  {
   "cell_type": "code",
   "execution_count": 139,
   "id": "18b79b0b",
   "metadata": {},
   "outputs": [
    {
     "name": "stdout",
     "output_type": "stream",
     "text": [
      "5.85 ms ± 77.1 µs per loop (mean ± std. dev. of 7 runs, 1,000 loops each)\n"
     ]
    }
   ],
   "source": [
    "def local_lookup():\n",
    "    ltotal = 0\n",
    "    sqrt = math.sqrt  # Local binding\n",
    "    for i in range(100000):\n",
    "        ltotal += sqrt(i)\n",
    "    return ltotal\n",
    "\n",
    "%timeit -n 1000 local_lookup()"
   ]
  },
  {
   "cell_type": "markdown",
   "id": "54ebd65d",
   "metadata": {},
   "source": [
    "## Some other random stuff thank you ChatGPT"
   ]
  },
  {
   "cell_type": "markdown",
   "id": "1a6929fd",
   "metadata": {},
   "source": [
    "Watch out for unessasaraly complicated things"
   ]
  },
  {
   "cell_type": "code",
   "execution_count": null,
   "id": "97394c46",
   "metadata": {},
   "outputs": [],
   "source": [
    "#Bad\n",
    "for i in range(10000):\n",
    "    math.sqrt(4)\n",
    "\n",
    "# Good\n",
    "root = math.sqrt(4)\n",
    "for i in range(10000):\n",
    "    pass  # reuse root\n"
   ]
  },
  {
   "cell_type": "markdown",
   "id": "0f30cd88",
   "metadata": {},
   "source": [
    "   Extra special just for you local binding of a function"
   ]
  },
  {
   "cell_type": "markdown",
   "id": "2fb45ad1",
   "metadata": {},
   "source": [
    "## Avoid Repeated Attribute Lookups in Loops"
   ]
  },
  {
   "cell_type": "code",
   "execution_count": null,
   "id": "9681addd",
   "metadata": {},
   "outputs": [],
   "source": [
    "# Bad\n",
    "for x in items:\n",
    "    total += x.value\n",
    "\n",
    "# Good\n",
    "value_getter = operator.attrgetter(\"value\")\n",
    "for x in items:\n",
    "    total += value_getter(x)"
   ]
  },
  {
   "cell_type": "markdown",
   "id": "7be160c2",
   "metadata": {},
   "source": [
    "Vectorize Computations with NumPy"
   ]
  },
  {
   "cell_type": "code",
   "execution_count": null,
   "id": "a4b5ee55",
   "metadata": {},
   "outputs": [],
   "source": [
    "# Slow\n",
    "[x ** 2 for x in range(100000)]\n",
    "\n",
    "# Fast\n",
    "import numpy as np\n",
    "np.arange(100000) ** 2"
   ]
  },
  {
   "cell_type": "markdown",
   "id": "55707516-3c2c-49f3-a504-e3406024a5a0",
   "metadata": {},
   "source": [
    "# OMG ITS SO FAST\n",
    "\n",
    "[Numba](https://numba.pydata.org/) is a Just-in-Time (JIT) compiler that translates a subset of Python (primarily numerical code) into optimized machine code using LLVM.\n",
    "\n",
    "\n",
    "Performance speedups when compared to pure Python code can reach several orders of magnitude (10x to 1000x) and may even outmatch manually-vectorized NumPy code.\n",
    "\n",
    "In this section, we will show you how to accelerate pure Python code generating a Mandelbrot fractal.\n"
   ]
  },
  {
   "cell_type": "code",
   "execution_count": 147,
   "id": "b2fa65e8-21f4-487a-ae00-6a3a27d8afc0",
   "metadata": {},
   "outputs": [],
   "source": [
    "import numpy as np\n",
    "import matplotlib.pyplot as plt\n",
    "from numba import jit\n",
    "%matplotlib inline"
   ]
  },
  {
   "cell_type": "code",
   "execution_count": 143,
   "id": "c638a5a3-57ea-499d-b7a4-cc9e83d4a397",
   "metadata": {},
   "outputs": [],
   "source": [
    "size = 400\n",
    "iterations = 100"
   ]
  },
  {
   "cell_type": "markdown",
   "id": "42c6ba89",
   "metadata": {},
   "source": [
    "To enable JIT acceleration, decorate your functions with:\n",
    "\n",
    "```python\n",
    "from numba import jit\n",
    "\n",
    "@jit\n",
    "def compute(...):\n",
    "    #code goes here\n",
    "```\n"
   ]
  },
  {
   "cell_type": "code",
   "execution_count": 152,
   "id": "bc9244a7-6b37-489c-a30d-0168c6e13cb6",
   "metadata": {},
   "outputs": [],
   "source": [
    "\n",
    "def mandelbrot_python(size, iterations):\n",
    "    m = np.zeros((size, size))\n",
    "    for i in range(size):\n",
    "        for j in range(size):\n",
    "            c = (-2 + 3. / size * j +\n",
    "                 1j * (1.5 - 3. / size * i))\n",
    "            z = 0\n",
    "            for n in range(iterations):\n",
    "                if np.abs(z) <= 10:\n",
    "                    z = z * z + c\n",
    "                    m[i, j] = n\n",
    "                else:\n",
    "                    break\n",
    "    return m"
   ]
  },
  {
   "cell_type": "code",
   "execution_count": 150,
   "id": "072d0083-2f2f-4548-87c1-863162956b5f",
   "metadata": {},
   "outputs": [
    {
     "data": {
      "image/png": "[encoded data removed]",
      "text/plain": [
       "<Figure size 1000x1000 with 1 Axes>"
      ]
     },
     "metadata": {},
     "output_type": "display_data"
    }
   ],
   "source": [
    "m = mandelbrot_python(size, iterations)\n",
    "fig, ax = plt.subplots(1, 1, figsize=(10, 10))\n",
    "ax.imshow(np.log(m), cmap=plt.cm.hot)\n",
    "ax.set_axis_off()"
   ]
  },
  {
   "cell_type": "code",
   "execution_count": 151,
   "id": "30ba83b0-72db-4adc-8c9c-8c057916ddee",
   "metadata": {},
   "outputs": [
    {
     "name": "stdout",
     "output_type": "stream",
     "text": [
      "39.7 ms ± 1.15 ms per loop (mean ± std. dev. of 7 runs, 10 loops each)\n"
     ]
    }
   ],
   "source": [
    "%timeit mandelbrot_python(size, iterations)"
   ]
  },
  {
   "cell_type": "code",
   "execution_count": null,
   "id": "527e1647-0fff-41b9-8a67-bec87309c115",
   "metadata": {},
   "outputs": [],
   "source": [
    "#!pip install numba\n",
    "from numba import jit"
   ]
  },
  {
   "cell_type": "code",
   "execution_count": 153,
   "id": "7d07c326-90d3-4852-8d9e-4d8d10061028",
   "metadata": {},
   "outputs": [
    {
     "name": "stdout",
     "output_type": "stream",
     "text": [
      "5.13 s ± 199 ms per loop (mean ± std. dev. of 7 runs, 1 loop each)\n"
     ]
    }
   ],
   "source": [
    "%timeit mandelbrot_python(size, iterations) #do it again with numba"
   ]
  },
  {
   "cell_type": "markdown",
   "id": "6bbe0251-3d7f-431e-ada5-de2e5878f864",
   "metadata": {},
   "source": [
    "## NOTE on JIT Compilation: \n",
    "Python bytecode is normally interpreted at runtime by the Python interpreter (most often, CPython). \n",
    "\n",
    "Numba functions are parsed and translated directly to machine code ahead of execution, using a powerful compiler architecture named Low Level Virtual Machine (LLVM).\n",
    "\n",
    "Numba generally gives the most impressive speedups on functions that involve tight loops on NumPy arrays.\n",
    "\n",
    "\n",
    "\n",
    "The @jit can only compile code that is also decorated with @jit or there is a known replacement inside Numba.\n",
    "\n",
    "Please see http://numba.pydata.org/numba-doc/latest/user/5minguide.html#will-numba-work-for-my-code for a quick description of what Numba support."
   ]
  },
  {
   "cell_type": "code",
   "execution_count": null,
   "id": "a9149a1a-e5db-4e4e-81fb-bcef00de0ce0",
   "metadata": {},
   "outputs": [],
   "source": []
  }
 ],
 "metadata": {
  "kernelspec": {
   "display_name": "Python 3",
   "language": "python",
   "name": "python3"
  },
  "language_info": {
   "codemirror_mode": {
    "name": "ipython",
    "version": 3
   },
   "file_extension": ".py",
   "mimetype": "text/x-python",
   "name": "python",
   "nbconvert_exporter": "python",
   "pygments_lexer": "ipython3",
   "version": "3.12.3"
  }
 },
 "nbformat": 4,
 "nbformat_minor": 5
}
