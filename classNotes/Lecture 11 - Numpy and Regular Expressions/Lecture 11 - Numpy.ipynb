{
 "cells": [
  {
   "cell_type": "markdown",
   "metadata": {},
   "source": [
    "## Numpy - the hero you never new you needed"
   ]
  },
  {
   "cell_type": "code",
   "execution_count": null,
   "metadata": {},
   "outputs": [
    {
     "ename": "TypeError",
     "evalue": "unsupported operand type(s) for /: 'int' and 'list'",
     "output_type": "error",
     "traceback": [
      "\u001b[0;31m---------------------------------------------------------------------------\u001b[0m",
      "\u001b[0;31mTypeError\u001b[0m                                 Traceback (most recent call last)",
      "Cell \u001b[0;32mIn[1], line 1\u001b[0m\n\u001b[0;32m----> 1\u001b[0m \u001b[38;5;241;43m1\u001b[39;49m\u001b[38;5;241;43m/\u001b[39;49m\u001b[43m[\u001b[49m\u001b[38;5;241;43m1\u001b[39;49m\u001b[43m,\u001b[49m\u001b[43m \u001b[49m\u001b[38;5;241;43m2\u001b[39;49m\u001b[43m,\u001b[49m\u001b[43m \u001b[49m\u001b[38;5;241;43m3\u001b[39;49m\u001b[43m,\u001b[49m\u001b[43m \u001b[49m\u001b[38;5;241;43m4\u001b[39;49m\u001b[43m,\u001b[49m\u001b[43m \u001b[49m\u001b[38;5;241;43m5\u001b[39;49m\u001b[43m,\u001b[49m\u001b[43m \u001b[49m\u001b[38;5;241;43m6\u001b[39;49m\u001b[43m,\u001b[49m\u001b[43m \u001b[49m\u001b[38;5;241;43m7\u001b[39;49m\u001b[43m]\u001b[49m\n",
      "\u001b[0;31mTypeError\u001b[0m: unsupported operand type(s) for /: 'int' and 'list'"
     ]
    }
   ],
   "source": [
    "#1/[1, 2, 3, 4, 5, 6, 7]"
   ]
  },
  {
   "cell_type": "markdown",
   "metadata": {},
   "source": [
    "Like matplotlib We need to install a the numpy library to do that run the following command. "
   ]
  },
  {
   "cell_type": "code",
   "execution_count": null,
   "metadata": {},
   "outputs": [],
   "source": [
    "#!pip install --user numpy\n",
    "#Windows python -m pip install --user numpy*"
   ]
  },
  {
   "cell_type": "code",
   "execution_count": 2,
   "metadata": {},
   "outputs": [],
   "source": [
    "import numpy as np\n",
    "#By convention, NumPy is imported as np."
   ]
  },
  {
   "cell_type": "markdown",
   "metadata": {},
   "source": [
    "# One D"
   ]
  },
  {
   "cell_type": "code",
   "execution_count": 4,
   "metadata": {},
   "outputs": [
    {
     "name": "stdout",
     "output_type": "stream",
     "text": [
      "[1 2 3 4 5 6]\n",
      "<class 'numpy.ndarray'>\n"
     ]
    },
    {
     "data": {
      "text/plain": [
       "array([1.        , 0.5       , 0.33333333, 0.25      , 0.2       ,\n",
       "       0.16666667])"
      ]
     },
     "execution_count": 4,
     "metadata": {},
     "output_type": "execute_result"
    }
   ],
   "source": [
    "npList = np.array([1, 2, 3, 4, 5, 6])\n",
    "print(npList)\n",
    "print(type(npList))\n",
    "1/npList\n"
   ]
  },
  {
   "cell_type": "markdown",
   "metadata": {},
   "source": [
    "## creating a vector"
   ]
  },
  {
   "cell_type": "code",
   "execution_count": 8,
   "metadata": {},
   "outputs": [
    {
     "name": "stdout",
     "output_type": "stream",
     "text": [
      "\n",
      "Zero array\n",
      " [0. 0. 0. 0. 0. 0. 0. 0. 0. 0.]\n",
      "\n",
      "Ones array\n",
      " [1. 1. 1. 1. 1. 1. 1. 1. 1. 1.]\n",
      "\n",
      "Twos array\n",
      " [2. 2. 2. 2. 2. 2. 2. 2. 2. 2.]\n",
      "Random array:\n",
      " [0.44720027 0.83459745 0.21397033 0.49035821 0.54263611]\n"
     ]
    }
   ],
   "source": [
    "zeros = np.zeros(10) #creates an array of 10 zeros\n",
    "ones = np.ones(10) #creates an array of 10 ones\n",
    "twos = np.full(10, 2.) #creates an array of 10 twos\n",
    "random_array = np.random.random(size=5)# Creating an array with 5 elements and random values from 0 to 9\n",
    "\n",
    "print(\"\\nZero array\\n\",zeros)\n",
    "print(\"\\nOnes array\\n\",ones)\n",
    "print(\"\\nTwos array\\n\",twos)\n",
    "print(\"Random array:\\n\", random_array)\n"
   ]
  },
  {
   "cell_type": "markdown",
   "metadata": {},
   "source": [
    "## Basic Operations"
   ]
  },
  {
   "cell_type": "code",
   "execution_count": 9,
   "metadata": {},
   "outputs": [
    {
     "name": "stdout",
     "output_type": "stream",
     "text": [
      "[1.         0.5        0.33333333 0.25       0.2        0.16666667]\n",
      "[1 0 0 0 0 0]\n",
      "[ 2  4  6  8 10 12]\n",
      "[ 2  4  6  8 10 12]\n",
      "[0 0 0 0 0 0]\n",
      "[ 1  4  9 16 25 36]\n",
      "[1. 1. 1. 1. 1. 1.]\n",
      "[1 1 1 1 1 1]\n",
      "[0 0 0 0 0 0]\n",
      "[    1     4    27   256  3125 46656]\n"
     ]
    }
   ],
   "source": [
    "print(1/npList) #True Division\n",
    "print(1//npList) # Floor Division\n",
    "print(2*npList)\n",
    "print(npList+npList)\n",
    "print(npList-npList)\n",
    "print(npList*npList)\n",
    "print(npList/npList) #True Division\n",
    "print(npList//npList) #Floor Division\n",
    "print(npList%npList) #Modulus\n",
    "print(npList**npList) #Exponentiation\n"
   ]
  },
  {
   "cell_type": "code",
   "execution_count": 10,
   "metadata": {},
   "outputs": [
    {
     "name": "stdout",
     "output_type": "stream",
     "text": [
      "The dementions of the list is:  1\n",
      "The shape of the list is:  (6,)\n",
      "The size of the list is:  6\n",
      "The data type of the list is:  int64\n",
      "The size of each element in the list is:  8\n",
      "The total size of the list is:  48\n"
     ]
    }
   ],
   "source": [
    "npList.ndim # the dementions of the list\n",
    "print(\"The dementions of the list is: \", npList.ndim)\n",
    "\n",
    "npList.shape # the shape of the list\n",
    "print(\"The shape of the list is: \", npList.shape)\n",
    "\n",
    "npList.size # the size of the list\n",
    "print(\"The size of the list is: \", npList.size)\n",
    "\n",
    "npList.dtype # the data type of the list\n",
    "print(\"The data type of the list is: \", npList.dtype)\n",
    "\n",
    "npList.itemsize # the size of each element in the list\n",
    "print(\"The size of each element in the list is: \", npList.itemsize)\n",
    "\n",
    "npList.nbytes # the total size of the list\n",
    "print(\"The total size of the list is: \", npList.nbytes)"
   ]
  },
  {
   "cell_type": "markdown",
   "metadata": {},
   "source": [
    "# Reshape and 2 D's"
   ]
  },
  {
   "cell_type": "code",
   "execution_count": 23,
   "metadata": {},
   "outputs": [
    {
     "name": "stdout",
     "output_type": "stream",
     "text": [
      "Reshaped array:\n",
      " [[1 2 3]\n",
      " [4 5 6]]\n",
      "\n",
      "Not reshaped array:\n",
      " [1 2 3 4 5 6]\n",
      "\n",
      "Reshaped array:\n",
      " [[1 2 3]\n",
      " [4 5 6]]\n",
      "\n",
      "Flattened array:\n",
      " [1 2 3 4 5 6]\n"
     ]
    }
   ],
   "source": [
    "print(\"Reshaped array:\\n\",npList.reshape((2,3)))\n",
    "#notice how the array does not change. T\n",
    "# his is because the reshape function does not change the original array, it returns a new array with the new shape.\n",
    "print(\"\\nNot reshaped array:\\n\", npList) \n",
    "#of corse you can do this:\n",
    "reshaped_array = npList.reshape((2,3))\n",
    "print(\"\\nReshaped array:\\n\", reshaped_array)\n",
    "\n",
    "# Flattening an array\n",
    "flattened_array = reshaped_array.flatten()\n",
    "print(\"\\nFlattened array:\\n\", flattened_array)"
   ]
  },
  {
   "cell_type": "markdown",
   "metadata": {},
   "source": [
    "    Important Note: When using reshape NumPy stores the 2 lists as a copy so changing one will change the other. "
   ]
  },
  {
   "cell_type": "code",
   "execution_count": null,
   "metadata": {},
   "outputs": [
    {
     "name": "stdout",
     "output_type": "stream",
     "text": [
      "Not reshaped array:\n",
      " [1 2 3 4 5 6]\n",
      "\n",
      "reshaped array:\n",
      " [[1 2 3]\n",
      " [4 5 6]]\n",
      "npList after reshaped_array[0,0] [100   2   3   4   5   6]\n",
      "\n",
      "reshaped array:\n",
      " [[100 100 100]\n",
      " [  4   5   6]]\n",
      "[100 100 100   4   5   6]\n"
     ]
    }
   ],
   "source": [
    "npList = np.array([1, 2, 3, 4, 5, 6])\n",
    "print(\"Not reshaped array:\\n\", npList) \n",
    "reshaped_array = npList.reshape((2,3))\n",
    "print(\"\\nreshaped array:\\n\", reshaped_array)\n",
    "\n",
    "#the following will change only 1 time in the list\n",
    "reshaped_array[0,0]=100\n",
    "print(\"npList after reshaped_array[0,0]\", npList)\n",
    "\n",
    "#the will change the whole row\n",
    "reshaped_array[0]=100\n",
    "print(\"\\nreshaped array:\\n\", reshaped_array)\n",
    "\n",
    "print(npList)"
   ]
  },
  {
   "cell_type": "code",
   "execution_count": 15,
   "metadata": {},
   "outputs": [
    {
     "name": "stdout",
     "output_type": "stream",
     "text": [
      "2D array:\n",
      " [[1 2 3]\n",
      " [4 5 6]]\n",
      "Random array:\n",
      " [[0.25749006 0.6934597  0.75081474]\n",
      " [0.62083213 0.10503487 0.10936476]]\n"
     ]
    }
   ],
   "source": [
    "\n",
    "two_d = np.array([[1, 2, 3], [4, 5, 6]])\n",
    "print(\"2D array:\\n\", two_d)\n",
    "\n",
    "#like before you can use np.zeros, np.ones etc wiht (x,y) to create a 2D array\n",
    "# Creating an array of zeros\n",
    "# zeros_array = np.zeros((3, 3))\n",
    "# ones_array = np.ones((2, 4))\n",
    "\n",
    "\n",
    "# Creating an array with random values\n",
    "random_array = np.random.random((2, 3))\n",
    "print(\"Random array:\\n\", random_array)"
   ]
  },
  {
   "cell_type": "markdown",
   "metadata": {},
   "source": [
    "# 3 D's\n",
    "<img src=\"3.jpg\" alt=\"3.jpg\" style=\"height:300px; width:300px;\"/>\n",
    "\n",
    "Everything is better with 3\n"
   ]
  },
  {
   "cell_type": "code",
   "execution_count": 16,
   "metadata": {},
   "outputs": [
    {
     "name": "stdout",
     "output_type": "stream",
     "text": [
      "3D array:\n",
      " [[[0 9 1]\n",
      "  [8 8 1]\n",
      "  [2 3 3]]\n",
      "\n",
      " [[2 6 2]\n",
      "  [6 1 8]\n",
      "  [9 8 1]]\n",
      "\n",
      " [[3 9 7]\n",
      "  [1 5 8]\n",
      "  [6 6 3]]]\n",
      "\n",
      "Number of dimentions: 3\n",
      "Shape of the array: (3, 2, 5)\n",
      "Size of the array: 30\n"
     ]
    }
   ],
   "source": [
    "array_3d = np.random.randint(0, 10, (3, 3, 3))\n",
    "\n",
    "print(\"3D array:\\n\", array_3d)\n",
    "\n",
    "three_d = np.array([\n",
    "    [[5, 78, 2, 34, 0],  \n",
    "     [7, 80, 4, 36, 2]],\n",
    "   \n",
    "    [[5, 78, 2, 34, 0], \n",
    "     [6, 79, 3, 35, 1]], \n",
    "   \n",
    "    [[5, 78, 2, 34, 0],\n",
    "     [7, 80, 4, 36, 2]]]) \n",
    "\n",
    "print(\"\\nNumber of dimentions:\",three_d.ndim)\n",
    "print(\"Shape of the array:\",three_d.shape) #(dimentions, rows, columns)\n",
    "print(\"Size of the array:\",three_d.size)\n",
    "\n",
    "\n"
   ]
  },
  {
   "cell_type": "markdown",
   "metadata": {},
   "source": [
    "# 4 D's\n",
    "because why not"
   ]
  },
  {
   "cell_type": "code",
   "execution_count": 20,
   "metadata": {},
   "outputs": [
    {
     "name": "stdout",
     "output_type": "stream",
     "text": [
      "4D array:\n",
      " [[[[8 6 9 3 9]\n",
      "   [9 7 1 7 1]]\n",
      "\n",
      "  [[4 0 0 2 8]\n",
      "   [3 0 7 6 9]]\n",
      "\n",
      "  [[8 8 1 9 2]\n",
      "   [5 6 3 1 8]]]\n",
      "\n",
      "\n",
      " [[[6 1 1 1 4]\n",
      "   [8 7 8 4 3]]\n",
      "\n",
      "  [[3 3 6 9 7]\n",
      "   [8 4 4 2 6]]\n",
      "\n",
      "  [[1 7 8 7 0]\n",
      "   [5 1 7 6 2]]]]\n",
      "\n",
      "Number of dimensions: 4\n",
      "Shape of the array: (2, 3, 2, 5)\n",
      "Size of the array: 60\n",
      "\n",
      "\n",
      "Number of dimensions: 4\n",
      "Shape of the array: (2, 3, 2, 5)\n",
      "Size of the array: 60\n"
     ]
    }
   ],
   "source": [
    "array_4d = np.random.randint(0, 10, (2, 3, 2, 5))#(Outer blocks, matrices, rows, columns)\n",
    "\n",
    "print(\"4D array:\\n\", array_4d)\n",
    "print(\"\\nNumber of dimensions:\", array_4d.ndim)\n",
    "print(\"Shape of the array:\", array_4d.shape)  #\n",
    "print(\"Size of the array:\", array_4d.size)\n",
    "\n",
    "four_d = np.array([\n",
    "    [\n",
    "        [[5, 78, 2, 34, 0],\n",
    "         [7, 80, 4, 36, 2]],\n",
    "        [[5, 79, 2, 34, 0],\n",
    "         [6, 80, 3, 35, 1]],\n",
    "        [[5, 81, 2, 34, 0],\n",
    "         [7, 82, 4, 36, 2]]\n",
    "    ],\n",
    "    [\n",
    "        [[5, 78, 2, 34, 0],\n",
    "         [7, 80, 4, 36, 2]],\n",
    "        [[5, 78, 2, 34, 0],\n",
    "         [6, 79, 3, 35, 1]],\n",
    "        [[5, 78, 2, 34, 0],\n",
    "         [7, 80, 4, 36, 2]]\n",
    "    ]\n",
    "])\n",
    "\n",
    "print(\"\\n\\nNumber of dimensions:\", four_d.ndim)\n",
    "print(\"Shape of the array:\", four_d.shape)  #\n",
    "print(\"Size of the array:\", four_d.size)"
   ]
  },
  {
   "cell_type": "markdown",
   "metadata": {},
   "source": [
    "# Indexing"
   ]
  },
  {
   "cell_type": "code",
   "execution_count": 18,
   "metadata": {},
   "outputs": [
    {
     "name": "stdout",
     "output_type": "stream",
     "text": [
      "[1, 2, 3]\n"
     ]
    }
   ],
   "source": [
    "#refresh\n",
    "aList = [1, 2, 3, 4, 5, 6]\n",
    "print(aList[:3])\n",
    "#aList=<2"
   ]
  },
  {
   "cell_type": "code",
   "execution_count": 26,
   "metadata": {},
   "outputs": [
    {
     "name": "stdout",
     "output_type": "stream",
     "text": [
      "2D array:\n",
      " [[1 2 3]\n",
      " [4 5 6]]\n",
      "\n",
      "slice the row\n",
      " [4 5 6]\n",
      "\n",
      "slice the column\n",
      " [2 5]\n",
      "print the element: 6\n",
      "\n",
      "Sliced element of the 4d array: 80\n"
     ]
    }
   ],
   "source": [
    "print(\"2D array:\\n\", two_d)\n",
    "print(\"\\nslice the row\\n\",two_d[1]) \n",
    "print(\"\\nslice the column\\n\",two_d[:,1]) \n",
    "print(\"print the element:\", two_d[1,2])\n",
    "\n",
    "print(\"\\nSliced element of the 4d array:\", four_d[0, 1, 1, 1])"
   ]
  },
  {
   "cell_type": "code",
   "execution_count": 49,
   "metadata": {},
   "outputs": [
    {
     "name": "stdout",
     "output_type": "stream",
     "text": [
      "[[1 2 3]\n",
      " [1 2 3]\n",
      " [4 5 6]\n",
      " [4 5 6]\n",
      " [4 5 6]]\n"
     ]
    }
   ],
   "source": [
    "print(two_d[[0,0,1,1,1]]) #prints the first row twice and the second row 3 times"
   ]
  },
  {
   "cell_type": "code",
   "execution_count": 59,
   "metadata": {},
   "outputs": [
    {
     "name": "stdout",
     "output_type": "stream",
     "text": [
      "what values are greater than 3:\n",
      " [[ True  True False]\n",
      " [False False False]]\n"
     ]
    }
   ],
   "source": [
    "print(\"what values are greater than 3:\\n\",two_d<3)"
   ]
  },
  {
   "cell_type": "code",
   "execution_count": 27,
   "metadata": {},
   "outputs": [
    {
     "name": "stdout",
     "output_type": "stream",
     "text": [
      "returning to the two_d will print the values\n",
      " []\n"
     ]
    }
   ],
   "source": [
    "print(\"returning to the two_d will print the values\\n\",two_d[two_d<1])"
   ]
  },
  {
   "cell_type": "markdown",
   "metadata": {},
   "source": [
    "## nan and inf"
   ]
  },
  {
   "cell_type": "code",
   "execution_count": 28,
   "metadata": {},
   "outputs": [
    {
     "name": "stdout",
     "output_type": "stream",
     "text": [
      "[[nan inf]\n",
      " [ 0.  1.]]\n"
     ]
    },
    {
     "name": "stderr",
     "output_type": "stream",
     "text": [
      "/tmp/ipykernel_29228/2915045236.py:1: RuntimeWarning: divide by zero encountered in divide\n",
      "  inf_list = np.array([0, 1])/np.array([[0],[1]])\n",
      "/tmp/ipykernel_29228/2915045236.py:1: RuntimeWarning: invalid value encountered in divide\n",
      "  inf_list = np.array([0, 1])/np.array([[0],[1]])\n"
     ]
    }
   ],
   "source": [
    "inf_list = np.array([0, 1])/np.array([[0],[1]])\n",
    "print(inf_list)"
   ]
  },
  {
   "cell_type": "code",
   "execution_count": 29,
   "metadata": {},
   "outputs": [
    {
     "name": "stdout",
     "output_type": "stream",
     "text": [
      "[[ True False]\n",
      " [False False]]\n"
     ]
    },
    {
     "data": {
      "text/plain": [
       "array([inf,  0.,  1.])"
      ]
     },
     "execution_count": 29,
     "metadata": {},
     "output_type": "execute_result"
    }
   ],
   "source": [
    "print(np.isnan(inf_list))\n",
    "inf_list[~np.isnan(inf_list)]"
   ]
  },
  {
   "cell_type": "code",
   "execution_count": 34,
   "metadata": {},
   "outputs": [
    {
     "data": {
      "text/plain": [
       "inf"
      ]
     },
     "execution_count": 34,
     "metadata": {},
     "output_type": "execute_result"
    }
   ],
   "source": [
    "np.mean(inf_list[~np.isnan(inf_list)])"
   ]
  },
  {
   "cell_type": "markdown",
   "metadata": {},
   "source": [
    "# Matrix Multiplication"
   ]
  },
  {
   "cell_type": "code",
   "execution_count": 36,
   "metadata": {},
   "outputs": [
    {
     "name": "stdout",
     "output_type": "stream",
     "text": [
      "Matrix A:\n",
      " [[0 3 5]\n",
      " [5 5 2]]\n",
      "Matrix B:\n",
      " [[ 3  4]\n",
      " [ 3 -2]\n",
      " [ 4 -2]]\n"
     ]
    }
   ],
   "source": [
    "mat_a = np.matrix([0, 3, 5, 5, 5, 2]).reshape(2,3)\n",
    "mat_b = np.matrix([3, 4, 3, -2, 4, -2]). reshape(3,2)\n",
    "print(\"Matrix A:\\n\",mat_a)\n",
    "print(\"Matrix B:\\n\",mat_b)"
   ]
  },
  {
   "cell_type": "code",
   "execution_count": 37,
   "metadata": {},
   "outputs": [
    {
     "data": {
      "text/plain": [
       "matrix([[ 29, -16],\n",
       "        [ 38,   6]])"
      ]
     },
     "execution_count": 37,
     "metadata": {},
     "output_type": "execute_result"
    }
   ],
   "source": [
    "mat_a * mat_b"
   ]
  },
  {
   "cell_type": "code",
   "execution_count": 38,
   "metadata": {},
   "outputs": [
    {
     "data": {
      "text/plain": [
       "matrix([[ 29, -16],\n",
       "        [ 38,   6]])"
      ]
     },
     "execution_count": 38,
     "metadata": {},
     "output_type": "execute_result"
    }
   ],
   "source": [
    "mat_a @ mat_b"
   ]
  },
  {
   "cell_type": "markdown",
   "metadata": {},
   "source": [
    "## Stacking"
   ]
  },
  {
   "cell_type": "code",
   "execution_count": 40,
   "metadata": {},
   "outputs": [
    {
     "name": "stdout",
     "output_type": "stream",
     "text": [
      "[[0 1 2]\n",
      " [3 4 5]\n",
      " [0 1 2]\n",
      " [3 4 5]]\n"
     ]
    }
   ],
   "source": [
    "#Note: the arrays must have the same dimension \n",
    "# in the Horizontal  ie (a,b) (a,c)\n",
    "xArray = np.arange(6).reshape(2,3)\n",
    "yArray = np.arange(6).reshape(2,3)\n",
    "\n",
    "zArray= np.vstack((xArray,yArray))\n",
    "print(zArray)"
   ]
  },
  {
   "cell_type": "code",
   "execution_count": 96,
   "metadata": {},
   "outputs": [
    {
     "name": "stdout",
     "output_type": "stream",
     "text": [
      "[[ 0  1  4  5]\n",
      " [ 2  3  6  7]\n",
      " [ 4  5  8  9]\n",
      " [ 6  7 10 11]]\n"
     ]
    }
   ],
   "source": [
    "#Note: In vertical stacking must have the same dimension\n",
    "# in the horizontal ie (a,b) (c,b)\n",
    "xArray = np.arange(8).reshape(4,2)\n",
    "yArray = np.arange(4,12).reshape(4,2)\n",
    "zArray = np.hstack((xArray,yArray)) \n",
    "print(zArray)\n"
   ]
  },
  {
   "cell_type": "markdown",
   "metadata": {},
   "source": [
    "## Depth Stacking"
   ]
  },
  {
   "cell_type": "code",
   "execution_count": 89,
   "metadata": {},
   "outputs": [
    {
     "name": "stdout",
     "output_type": "stream",
     "text": [
      "[[0 1]\n",
      " [2 3]\n",
      " [4 5]\n",
      " [6 7]]\n",
      "[[ 4  5]\n",
      " [ 6  7]\n",
      " [ 8  9]\n",
      " [10 11]]\n"
     ]
    },
    {
     "data": {
      "text/plain": [
       "array([[[ 0,  4],\n",
       "        [ 1,  5]],\n",
       "\n",
       "       [[ 2,  6],\n",
       "        [ 3,  7]],\n",
       "\n",
       "       [[ 4,  8],\n",
       "        [ 5,  9]],\n",
       "\n",
       "       [[ 6, 10],\n",
       "        [ 7, 11]]])"
      ]
     },
     "execution_count": 89,
     "metadata": {},
     "output_type": "execute_result"
    }
   ],
   "source": [
    "print(xArray)\n",
    "print(yArray)\n",
    "\n",
    "d_stack = np.dstack((xArray,yArray))\n",
    "d_stack"
   ]
  },
  {
   "cell_type": "markdown",
   "metadata": {},
   "source": [
    "## Np Statistics"
   ]
  },
  {
   "cell_type": "code",
   "execution_count": 46,
   "metadata": {},
   "outputs": [
    {
     "name": "stdout",
     "output_type": "stream",
     "text": [
      "Maximum value xArray.max(): 5\n",
      "Sum of the array xArray.sum(): 15\n",
      "Mean of the array xArray.mean(): 2.5\n",
      "Variance xArray.var(): 2.9166666666666665\n",
      "Standard deviation xArray.std(): 1.707825127659933\n"
     ]
    }
   ],
   "source": [
    "print(\"Maximum value xArray.max():\", xArray.max()) \n",
    "print(\"Sum of the array xArray.sum():\", xArray.sum())\n",
    "print(\"Mean of the array xArray.mean():\", xArray.mean()) \n",
    "\n",
    "# Variance of the array (measure of spread)\n",
    "print(\"Variance xArray.var():\", xArray.var())\n",
    "\n",
    "# Standard deviation of the array (measure of dispersion)\n",
    "print(\"Standard deviation xArray.std():\", xArray.std())  "
   ]
  },
  {
   "cell_type": "code",
   "execution_count": 100,
   "metadata": {},
   "outputs": [
    {
     "data": {
      "text/plain": [
       "1478"
      ]
     },
     "execution_count": 100,
     "metadata": {},
     "output_type": "execute_result"
    }
   ],
   "source": [
    "four_d.sum()\n"
   ]
  },
  {
   "cell_type": "code",
   "execution_count": null,
   "metadata": {},
   "outputs": [
    {
     "name": "stdout",
     "output_type": "stream",
     "text": [
      "[[0 1]\n",
      " [2 3]\n",
      " [4 5]\n",
      " [6 7]]\n"
     ]
    },
    {
     "data": {
      "text/plain": [
       "array([12, 16])"
      ]
     },
     "execution_count": 107,
     "metadata": {},
     "output_type": "execute_result"
    }
   ],
   "source": [
    "print(xArray)\n",
    "#four_d.sum(axis=0)# Sum the rows of the 4D array\n",
    "xArray.sum(axis=0)# Sum the rows of the 2D array\n"
   ]
  },
  {
   "cell_type": "code",
   "execution_count": 104,
   "metadata": {},
   "outputs": [
    {
     "data": {
      "text/plain": [
       "array([ 1,  5,  9, 13])"
      ]
     },
     "execution_count": 104,
     "metadata": {},
     "output_type": "execute_result"
    }
   ],
   "source": [
    "xArray.sum(axis=1)# colums "
   ]
  },
  {
   "cell_type": "markdown",
   "metadata": {},
   "source": [
    "## How fast is NP?\n",
    "NP is an amazing tool and is fast at some tasks but a waist at others. so you need to understand when to use it and when not to. \n",
    "we will not dig to deep into the math but below are just some examples of the math you can do with NP"
   ]
  },
  {
   "cell_type": "code",
   "execution_count": 45,
   "metadata": {},
   "outputs": [
    {
     "name": "stdout",
     "output_type": "stream",
     "text": [
      "Normal Python: 0.603534 sec\n",
      "Mult NumPy: 0.602592 sec\n",
      "Dot NumPy: 0.017102 sec\n"
     ]
    }
   ],
   "source": [
    "# code provided by NumPy Beginner's Guide - Second Edition, Ivan Idri with minor changes\n",
    "import timeit\n",
    "normal_py_sec = timeit.timeit( #use Python range to calculate\n",
    "    'sum(x*x for x in range(1000))',\n",
    "    number=10000)\n",
    "\n",
    "mult_np_sec = timeit.timeit( #use Python multiplication to process np\n",
    "    'sum(na*na)',\n",
    "    setup=\"import numpy as np; na=np.arange(1000)\",\n",
    "    number=10000)\n",
    "\n",
    "dot_np_sec = timeit.timeit( #use np dot to process \n",
    "    'na.dot(na)',\n",
    "    setup=\"import numpy as np; na=np.arange(1000)\",\n",
    "    number=10000)\n",
    "\n",
    "print(\"Normal Python: %f sec\" % normal_py_sec)\n",
    "print(\"Mult NumPy: %f sec\" % mult_np_sec)\n",
    "print(\"Dot NumPy: %f sec\" % dot_np_sec)"
   ]
  }
 ],
 "metadata": {
  "kernelspec": {
   "display_name": "Python 3",
   "language": "python",
   "name": "python3"
  },
  "language_info": {
   "codemirror_mode": {
    "name": "ipython",
    "version": 3
   },
   "file_extension": ".py",
   "mimetype": "text/x-python",
   "name": "python",
   "nbconvert_exporter": "python",
   "pygments_lexer": "ipython3",
   "version": "3.12.3"
  }
 },
 "nbformat": 4,
 "nbformat_minor": 2
}
