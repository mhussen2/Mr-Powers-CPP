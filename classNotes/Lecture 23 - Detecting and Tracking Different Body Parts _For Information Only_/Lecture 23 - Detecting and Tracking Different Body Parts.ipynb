{
 "cells": [
  {
   "cell_type": "markdown",
   "id": "a12963d1-f487-4337-9e06-7764727ff707",
   "metadata": {},
   "source": [
    "# Face detection and the process\n",
    "## Haar cascades\n",
    "Last lecture we talked about edge detection using Hough Transform this lecture we will be talking about Haar cascades or classifirers based on Haar features. \n",
    "\n",
    "~ note: if you want to learn more read the paper from 2001 by Paul Viola and Michael Jones  (for a quick read here is a powerpoint) https://www.cs.ubc.ca/~lowe/425/slides/13-ViolaJones.pdf ~\n",
    "\n",
    "A lot of training models are computer intensive so it is slow but accurate\n",
    "Harr cascate is a cascading model based on ViolaJones. \n",
    "\n",
    "The calculation involves summing the pixel intensities in each region and calculating the differences between the sums. IE edge detection."
   ]
  },
  {
   "cell_type": "code",
   "execution_count": null,
   "id": "ae5f81c6-0ea7-4fec-acf7-1cef5356e370",
   "metadata": {},
   "outputs": [],
   "source": [
    "# code supplyed by opencv-with-python by Prateek Joshi\n",
    "\n",
    "import cv2\n",
    "import numpy as np\n",
    "\n",
    "face_cascade = cv2.CascadeClassifier('./cascade_files/haarcascade_frontalface_alt.xml')\n",
    "\n",
    "cap = cv2.VideoCapture(0)\n",
    "scaling_factor = 0.5\n",
    "\n",
    "while True:\n",
    "    ret, frame = cap.read()\n",
    "    frame = cv2.resize(frame, None, fx=scaling_factor, fy=scaling_factor, interpolation=cv2.INTER_AREA)\n",
    "    gray = cv2.cvtColor(frame, cv2.COLOR_BGR2GRAY)\n",
    "\n",
    "    face_rects = face_cascade.detectMultiScale(gray, 1.3, 5)\n",
    "    for (x,y,w,h) in face_rects:\n",
    "        cv2.rectangle(frame, (x,y), (x+w,y+h), (0,255,0), 3)\n",
    "\n",
    "    cv2.imshow('Face Detector', frame)\n",
    "\n",
    "    c = cv2.waitKey(1)\n",
    "    if c == 27:\n",
    "        break\n",
    "\n",
    "cap.release()\n",
    "cv2.destroyAllWindows()"
   ]
  }
 ],
 "metadata": {
  "kernelspec": {
   "display_name": "Python 3 (ipykernel)",
   "language": "python",
   "name": "python3"
  },
  "language_info": {
   "codemirror_mode": {
    "name": "ipython",
    "version": 3
   },
   "file_extension": ".py",
   "mimetype": "text/x-python",
   "name": "python",
   "nbconvert_exporter": "python",
   "pygments_lexer": "ipython3",
   "version": "3.11.2"
  }
 },
 "nbformat": 4,
 "nbformat_minor": 5
}
