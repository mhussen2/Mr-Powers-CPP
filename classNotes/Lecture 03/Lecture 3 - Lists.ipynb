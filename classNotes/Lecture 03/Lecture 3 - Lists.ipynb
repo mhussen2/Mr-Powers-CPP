{
 "cells": [
  {
   "cell_type": "markdown",
   "id": "4e51d199",
   "metadata": {},
   "source": [
    "# Lists"
   ]
  },
  {
   "cell_type": "markdown",
   "id": "711f0284",
   "metadata": {},
   "source": [
    "Refresher: What Is a List? \n",
    "\n",
    "A list is a collection of items.  A list can include anything you want and do not need to be related in any way.\n",
    "\n",
    "Lists are normaly more than one element."
   ]
  },
  {
   "cell_type": "code",
   "execution_count": null,
   "id": "fb7cf5e5",
   "metadata": {},
   "outputs": [],
   "source": [
    "aList = [1, 2, 3, \"word1\", \"word2\"]"
   ]
  },
  {
   "cell_type": "code",
   "execution_count": null,
   "id": "214b3c8f",
   "metadata": {},
   "outputs": [],
   "source": [
    "print(aList)"
   ]
  },
  {
   "cell_type": "markdown",
   "id": "162f0827",
   "metadata": {},
   "source": [
    "## Accessing Elements in a List\n",
    "\n",
    "Since lists are a collection of elements you want to access the information in that list. To do that you use what is called the index.\n",
    "\n",
    "In python Lists start at index 0 "
   ]
  },
  {
   "cell_type": "code",
   "execution_count": null,
   "id": "f4dfdab4",
   "metadata": {},
   "outputs": [],
   "source": [
    "print(type(aList[3]))"
   ]
  },
  {
   "cell_type": "markdown",
   "id": "2ca703ac",
   "metadata": {},
   "source": [
    "You are able to perform all the same action of a list as you would just using the information at that indexed location"
   ]
  },
  {
   "cell_type": "code",
   "execution_count": null,
   "id": "5162a58d",
   "metadata": {},
   "outputs": [],
   "source": [
    "aList[3].title()\n"
   ]
  },
  {
   "cell_type": "code",
   "execution_count": null,
   "id": "c40e93cb",
   "metadata": {
    "scrolled": true
   },
   "outputs": [],
   "source": [
    "aList[1] + aList[2]"
   ]
  },
  {
   "cell_type": "code",
   "execution_count": null,
   "id": "b6e2e4d3-c420-4d2d-be9c-76f413838173",
   "metadata": {},
   "outputs": [],
   "source": [
    "bList = aList[1]"
   ]
  },
  {
   "cell_type": "code",
   "execution_count": null,
   "id": "030501c7",
   "metadata": {},
   "outputs": [],
   "source": [
    "aList[1] + bList[2]"
   ]
  },
  {
   "cell_type": "code",
   "execution_count": null,
   "id": "c1158f4c-e766-4c86-8b8e-bc805efc2ad0",
   "metadata": {},
   "outputs": [],
   "source": [
    "bList\n",
    "aList"
   ]
  },
  {
   "cell_type": "code",
   "execution_count": null,
   "id": "322fad14-8f83-4753-9f3c-053cd530a1ac",
   "metadata": {},
   "outputs": [],
   "source": [
    "bList[0] = \"bla bla\"\n",
    "aList[0]"
   ]
  },
  {
   "cell_type": "code",
   "execution_count": null,
   "id": "b54d6ad6",
   "metadata": {
    "scrolled": true
   },
   "outputs": [],
   "source": [
    "aList[4] + aList[3]"
   ]
  },
  {
   "cell_type": "code",
   "execution_count": null,
   "id": "df8914ab",
   "metadata": {},
   "outputs": [],
   "source": [
    "print(aList[-1])"
   ]
  },
  {
   "cell_type": "code",
   "execution_count": null,
   "id": "024dc928",
   "metadata": {},
   "outputs": [],
   "source": [
    "print(\"My list contains the following at index 3:\", aList[3], aList[3])"
   ]
  },
  {
   "cell_type": "markdown",
   "id": "024853db",
   "metadata": {},
   "source": [
    "# Testing Multiple conditions\n",
    "\n",
    "The if-elif-else chain is widly use. \n",
    "\n",
    "An if-elif-else is looking to satisfy one condition and once found it skips the rest of the tests. \n",
    "\n",
    "\n"
   ]
  },
  {
   "cell_type": "code",
   "execution_count": 3,
   "id": "3779970b",
   "metadata": {},
   "outputs": [],
   "source": [
    "brands = [ [\"Jeep\", \"BMW\"], \"Audi\", \"Kia\"]"
   ]
  },
  {
   "cell_type": "code",
   "execution_count": 4,
   "id": "73ce7bb7",
   "metadata": {},
   "outputs": [
    {
     "name": "stdout",
     "output_type": "stream",
     "text": [
      "BMW is in brands\n"
     ]
    }
   ],
   "source": [
    "if \"BMW\" in brands:\n",
    "    print(\"BMW is in brands\")\n",
    "elif \"Jeep\" in brands:\n",
    "    print (\"Jeep is in brands\")\n",
    "else:\n",
    "    print (\"Audi is in brands\")\n"
   ]
  },
  {
   "cell_type": "markdown",
   "id": "40240b10",
   "metadata": {},
   "source": [
    "Sometimes we need to check if there are more than one condition. \n",
    "\n",
    "To do this you remove the elif or else blocks. This helps when looking for more than one condition to be True."
   ]
  },
  {
   "cell_type": "code",
   "execution_count": 9,
   "id": "7d94b89b-95c1-41d8-8e39-54429efb20ed",
   "metadata": {},
   "outputs": [],
   "source": [
    "brands = [ \"Jeep\", \"Audi\", \"Kia\"]"
   ]
  },
  {
   "cell_type": "code",
   "execution_count": 10,
   "id": "01d40bf6",
   "metadata": {},
   "outputs": [
    {
     "name": "stdout",
     "output_type": "stream",
     "text": [
      "Audi is in brands\n"
     ]
    }
   ],
   "source": [
    "if \"BMW\" in brands:\n",
    "    print(\"BMW is in brands\")\n",
    "if \"Jeep\" in brands:\n",
    "    print (\"Jeep is in brands\")\n",
    "if \"Audi\" in brands:\n",
    "    print (\"Audi is in brands\")\n",
    "\n"
   ]
  },
  {
   "cell_type": "markdown",
   "id": "8fa21725",
   "metadata": {},
   "source": [
    "As you can see all of the if statments have been ran."
   ]
  },
  {
   "cell_type": "code",
   "execution_count": 11,
   "id": "79b962c3",
   "metadata": {},
   "outputs": [
    {
     "name": "stdout",
     "output_type": "stream",
     "text": [
      "Jeep is in brands Subaru is not in brans "
     ]
    }
   ],
   "source": [
    "if \"BMW\" in brands:\n",
    "    print(\"BMW is in brands\", end = \" \")\n",
    "if \"Jeep\" in brands:\n",
    "    print (\"Jeep is in brands\", end = \" \")\n",
    "if \"Subaru\" in brands:\n",
    "    print (\"Subaru is in brands\")\n",
    "else:\n",
    "    print(\"Subaru is not in brans\", end = \" \")\n",
    "\n"
   ]
  },
  {
   "cell_type": "markdown",
   "id": "8fe54cce",
   "metadata": {},
   "source": [
    "## Changing, Adding, and Removing Elements\n",
    "\n",
    "Lists that you create will be dynamic. You will add, remove, and minipulate the list.\n",
    "\n",
    "## Modifying a List\n",
    "Modifying a list is very simple. The syntax for modifying is the same as accessing the list."
   ]
  },
  {
   "cell_type": "code",
   "execution_count": 14,
   "id": "fb4826da",
   "metadata": {},
   "outputs": [],
   "source": [
    "brands = [\"BMW\", \"Jeep\", \"Audi\", \"Kia\"]"
   ]
  },
  {
   "cell_type": "code",
   "execution_count": 17,
   "id": "bfb1403e",
   "metadata": {},
   "outputs": [
    {
     "ename": "IndexError",
     "evalue": "list assignment index out of range",
     "output_type": "error",
     "traceback": [
      "\u001b[0;31m---------------------------------------------------------------------------\u001b[0m",
      "\u001b[0;31mIndexError\u001b[0m                                Traceback (most recent call last)",
      "Cell \u001b[0;32mIn[17], line 1\u001b[0m\n\u001b[0;32m----> 1\u001b[0m \u001b[43mbrands\u001b[49m\u001b[43m[\u001b[49m\u001b[38;5;241;43m4\u001b[39;49m\u001b[43m]\u001b[49m \u001b[38;5;241m=\u001b[39m \u001b[38;5;124m\"\u001b[39m\u001b[38;5;124mHonda\u001b[39m\u001b[38;5;124m\"\u001b[39m\n",
      "\u001b[0;31mIndexError\u001b[0m: list assignment index out of range"
     ]
    }
   ],
   "source": [
    "brands[4] = \"Honda\""
   ]
  },
  {
   "cell_type": "code",
   "execution_count": 42,
   "id": "163b7da0",
   "metadata": {},
   "outputs": [],
   "source": [
    "brands = []\n",
    "\n",
    "#brands.count(1)"
   ]
  },
  {
   "cell_type": "code",
   "execution_count": 45,
   "id": "63dea023",
   "metadata": {},
   "outputs": [
    {
     "name": "stdout",
     "output_type": "stream",
     "text": [
      "[]\n"
     ]
    }
   ],
   "source": [
    "print(brands)"
   ]
  },
  {
   "cell_type": "code",
   "execution_count": 41,
   "id": "ba20696f",
   "metadata": {},
   "outputs": [
    {
     "ename": "NameError",
     "evalue": "name 'brands' is not defined",
     "output_type": "error",
     "traceback": [
      "\u001b[0;31m---------------------------------------------------------------------------\u001b[0m",
      "\u001b[0;31mNameError\u001b[0m                                 Traceback (most recent call last)",
      "Cell \u001b[0;32mIn[41], line 1\u001b[0m\n\u001b[0;32m----> 1\u001b[0m \u001b[43mbrands\u001b[49m\u001b[38;5;241m.\u001b[39mappend(\u001b[38;5;124m\"\u001b[39m\u001b[38;5;124mHonda\u001b[39m\u001b[38;5;124m\"\u001b[39m)\n",
      "\u001b[0;31mNameError\u001b[0m: name 'brands' is not defined"
     ]
    }
   ],
   "source": [
    "brands.append(\"Honda\")"
   ]
  },
  {
   "cell_type": "code",
   "execution_count": 26,
   "id": "dc1b3fb7",
   "metadata": {},
   "outputs": [],
   "source": [
    "brands.append(\"BMW\")\n",
    "#brands.append(\"Jeep\")\n",
    "brands.append(\"Audi\")"
   ]
  },
  {
   "cell_type": "markdown",
   "id": "8b6646db",
   "metadata": {},
   "source": [
    "While the above code looks a little strange this is very common way to build a list because we often won't know the data that will be sent to us. \n",
    "\n",
    "## Inserting\n",
    "Another way to add information to a list is by Inserting the elements"
   ]
  },
  {
   "cell_type": "code",
   "execution_count": 32,
   "id": "440156f6",
   "metadata": {},
   "outputs": [
    {
     "data": {
      "text/plain": [
       "['BMW', 'Audi', 'Honda', 'hello', 'Honda']"
      ]
     },
     "execution_count": 32,
     "metadata": {},
     "output_type": "execute_result"
    }
   ],
   "source": [
    "brands.insert(3, \"Toyota\")\n",
    "brands[3]= \"hello\"\n",
    "brands"
   ]
  },
  {
   "cell_type": "markdown",
   "id": "b25e2d67",
   "metadata": {},
   "source": [
    "## Removing\n",
    "There are many ways to remove an item from a list. \n",
    "    \n",
    "    Note: While obvious remember once an item has been removed it can no longer be accessed\n",
    "\n",
    "### If you know the index: \n"
   ]
  },
  {
   "cell_type": "code",
   "execution_count": 43,
   "id": "91964280-f755-4e2c-94bf-18ca84af4579",
   "metadata": {},
   "outputs": [],
   "source": [
    "brand = brands"
   ]
  },
  {
   "cell_type": "code",
   "execution_count": 44,
   "id": "458dd758",
   "metadata": {},
   "outputs": [],
   "source": [
    "del brand"
   ]
  },
  {
   "cell_type": "markdown",
   "id": "6aadabb9",
   "metadata": {},
   "source": [
    "### Using the pop() Method\n",
    "\n",
    "The pop() Method will remove an item from the list then allow you to use it. \n",
    "\n",
    "The pop method removes the last item in the list but lets you work with that item after removing it. \n",
    "\n",
    "Think of a pez despenser, and the candy pops out of the stack. In a list the tops of the stack is the last item of the list. "
   ]
  },
  {
   "cell_type": "code",
   "execution_count": null,
   "id": "47e0e1ef",
   "metadata": {},
   "outputs": [],
   "source": [
    "brands = [[\"BMW\", \"Jeep\"], \"Audi\", \"Kia\"]"
   ]
  },
  {
   "cell_type": "code",
   "execution_count": null,
   "id": "c338afb6",
   "metadata": {},
   "outputs": [],
   "source": [
    "popped_brands = brands.pop(2)\n",
    "print(brands)\n",
    "print(popped_brands)"
   ]
  },
  {
   "cell_type": "code",
   "execution_count": null,
   "id": "6a4dd0c9",
   "metadata": {},
   "outputs": [],
   "source": [
    "#popped_brands = brands.pop(1) # you can also pop at an index\n",
    "#print(popped_brands)\n",
    "print(type(brands[0]))\n"
   ]
  },
  {
   "cell_type": "markdown",
   "id": "bfe0e9a6",
   "metadata": {},
   "source": [
    "## Removing by item value\n",
    "\n",
    "you may not know the location of an item you want to remove but you know its value."
   ]
  },
  {
   "cell_type": "code",
   "execution_count": null,
   "id": "dea84d72",
   "metadata": {},
   "outputs": [],
   "source": [
    "#brands.remove(\"Toyota\")\n",
    "print(brands) #what do you think happens if I do this again?"
   ]
  },
  {
   "cell_type": "code",
   "execution_count": null,
   "id": "91223c87-a3f9-44eb-8d6f-075d4244e10d",
   "metadata": {},
   "outputs": [],
   "source": [
    "brands = [[\"BMW\", \"Jeep\"], \"Audi\", \"Kia\"]"
   ]
  },
  {
   "cell_type": "code",
   "execution_count": null,
   "id": "94eef281",
   "metadata": {},
   "outputs": [],
   "source": [
    "disliked_brands = [\"BMW\", \"Jeep\"]\n",
    "brands.remove(disliked_brands)\n",
    "brands"
   ]
  },
  {
   "cell_type": "markdown",
   "id": "b06bd980-ac10-46d1-b89e-016af1f6983b",
   "metadata": {},
   "source": [
    "# Will this work?"
   ]
  },
  {
   "cell_type": "code",
   "execution_count": null,
   "id": "8083aed0-beaf-4a8d-8514-b042742371d9",
   "metadata": {},
   "outputs": [],
   "source": [
    "brands = [\"BMW\", \"Jeep\", \"Audi\", \"Kia\"]"
   ]
  },
  {
   "cell_type": "code",
   "execution_count": null,
   "id": "0a146ade-819a-4ec8-9fbc-970abb7a9c15",
   "metadata": {},
   "outputs": [],
   "source": [
    "disliked_brands = [\"BMW\", \"Jeep\"]\n",
    "brands.remove(disliked_brands)"
   ]
  },
  {
   "cell_type": "code",
   "execution_count": null,
   "id": "4911f7ec-4e71-42c7-9746-5a45565c243c",
   "metadata": {},
   "outputs": [],
   "source": [
    "disliked_brands\n",
    "print(type(disliked_brands))"
   ]
  },
  {
   "cell_type": "code",
   "execution_count": null,
   "id": "246dcd80",
   "metadata": {},
   "outputs": [],
   "source": [
    "def disliked_brands (aList):\n",
    "    global brands\n",
    "    for i in aList:\n",
    "        brands.remove(i)"
   ]
  },
  {
   "cell_type": "code",
   "execution_count": null,
   "id": "21c13cb7",
   "metadata": {},
   "outputs": [],
   "source": [
    "brands = [\"BMW\", \"Jeep\", \"Audi\", \"Kia\"]\n",
    "disliked_brands([\"J\",\"BMW\"])\n",
    "print(brands)"
   ]
  },
  {
   "cell_type": "markdown",
   "id": "6081f4ab",
   "metadata": {},
   "source": [
    "# Organizing a List\n",
    "\n",
    "Often you will need to organize a list due to not being able to control its order. This is called Sorting."
   ]
  },
  {
   "cell_type": "code",
   "execution_count": null,
   "id": "2cd04018",
   "metadata": {},
   "outputs": [],
   "source": [
    "favorite_numbers = [2, 4, 7, 1, 6, 3]\n",
    "\n",
    "favorite_numbers.sort()\n",
    "print(favorite_numbers)"
   ]
  },
  {
   "cell_type": "code",
   "execution_count": null,
   "id": "8a2464df",
   "metadata": {},
   "outputs": [],
   "source": [
    "favorite_numbers.sort(reverse=True) #the sort method also takes arguments\n",
    "print(favorite_numbers)"
   ]
  },
  {
   "cell_type": "code",
   "execution_count": null,
   "id": "0c66299e",
   "metadata": {},
   "outputs": [],
   "source": [
    "print(\"this is temporarily sorted:\", sorted(favorite_numbers))\n",
    "print(favorite_numbers)"
   ]
  },
  {
   "cell_type": "code",
   "execution_count": null,
   "id": "70386573",
   "metadata": {},
   "outputs": [],
   "source": [
    "favorite_numbers = [2, 4, 7, 1, 6, 3]\n",
    "favorite_numbers.reverse()\n",
    "print(favorite_numbers)"
   ]
  },
  {
   "cell_type": "markdown",
   "id": "ece1c0cf",
   "metadata": {},
   "source": [
    "## Length of a list\n",
    "\n",
    "to quickly find the length of a list use use the len"
   ]
  },
  {
   "cell_type": "code",
   "execution_count": null,
   "id": "147b2525",
   "metadata": {},
   "outputs": [],
   "source": [
    "print(len(favorite_numbers))\n",
    "print(len(brands))\n",
    "brands"
   ]
  },
  {
   "cell_type": "markdown",
   "id": "c2e17dd9",
   "metadata": {},
   "source": [
    "Knowing the length of you list will help you to reduce the odds of reciving an index Error"
   ]
  },
  {
   "cell_type": "code",
   "execution_count": null,
   "id": "9ed359c7",
   "metadata": {},
   "outputs": [],
   "source": [
    "print(favorite_numbers[6])"
   ]
  },
  {
   "cell_type": "markdown",
   "id": "2d3ad6bd",
   "metadata": {},
   "source": [
    "## Other ways to create a List"
   ]
  },
  {
   "cell_type": "code",
   "execution_count": null,
   "id": "9a35b76d",
   "metadata": {},
   "outputs": [],
   "source": [
    "numbers = list(range(1,6)) #if we need a quick list of numbers you can use this\n",
    "print(numbers)"
   ]
  },
  {
   "cell_type": "code",
   "execution_count": null,
   "id": "f8c0d4e6",
   "metadata": {},
   "outputs": [],
   "source": [
    "numbers = list(range(1,14,3)) # Or you can perfrom the following (Start, end, add)\n",
    "print(numbers)"
   ]
  },
  {
   "cell_type": "code",
   "execution_count": null,
   "id": "4e422ca6",
   "metadata": {},
   "outputs": [],
   "source": [
    "numbers = numbers*numbers"
   ]
  },
  {
   "cell_type": "code",
   "execution_count": null,
   "id": "2f421c79",
   "metadata": {},
   "outputs": [],
   "source": [
    "squares = numbers**2 "
   ]
  },
  {
   "cell_type": "code",
   "execution_count": 1,
   "id": "67b0660d",
   "metadata": {},
   "outputs": [
    {
     "name": "stdout",
     "output_type": "stream",
     "text": [
      "[1, 4, 9, 16, 25, 36, 49, 64, 81, 100]\n"
     ]
    }
   ],
   "source": [
    "squares = []\n",
    "for i in range(1,11):\n",
    "    squares.append(i**2) # what is wrong here\n",
    "print(squares)"
   ]
  },
  {
   "cell_type": "markdown",
   "id": "10d25828",
   "metadata": {},
   "source": [
    "## Simple operators"
   ]
  },
  {
   "cell_type": "code",
   "execution_count": null,
   "id": "3b2f9d2d",
   "metadata": {},
   "outputs": [],
   "source": [
    "\n",
    "print(min(numbers))\n",
    "print(max(numbers))\n",
    "print(sum(numbers))"
   ]
  },
  {
   "cell_type": "code",
   "execution_count": 2,
   "id": "3c9ba4f8",
   "metadata": {},
   "outputs": [
    {
     "name": "stdout",
     "output_type": "stream",
     "text": [
      "[1, 4, 9, 16, 25, 36, 49, 64, 81, 100]\n"
     ]
    }
   ],
   "source": [
    "square = [i**2 for i in range(1,11)] # here is another way to perform the same action as above\n",
    "print(square)"
   ]
  },
  {
   "cell_type": "markdown",
   "id": "b5aac10a",
   "metadata": {},
   "source": [
    "# Slicing a list\n",
    "To make a slice of a list all you need to do is include the index of the list."
   ]
  },
  {
   "cell_type": "code",
   "execution_count": null,
   "id": "d522021f",
   "metadata": {},
   "outputs": [],
   "source": [
    "square[3:5]"
   ]
  },
  {
   "cell_type": "code",
   "execution_count": null,
   "id": "ea67df90",
   "metadata": {},
   "outputs": [],
   "source": [
    "square[1:]"
   ]
  },
  {
   "cell_type": "code",
   "execution_count": null,
   "id": "4fa2e1b8",
   "metadata": {},
   "outputs": [],
   "source": [
    "square[1:3,5:7] #will not work "
   ]
  },
  {
   "cell_type": "markdown",
   "id": "383a2aa7",
   "metadata": {},
   "source": [
    "As you can see above we do not recive the end index."
   ]
  },
  {
   "cell_type": "markdown",
   "id": "f7a84aa3",
   "metadata": {},
   "source": [
    "## Copying a list\n",
    "In many cases you will need to copy a list as you do not want to edit an exsiting list (or posible tuple) so you will need to copy the contents."
   ]
  },
  {
   "cell_type": "code",
   "execution_count": null,
   "id": "ef6c4b75",
   "metadata": {},
   "outputs": [],
   "source": [
    "print(square)\n",
    "bak_square = square"
   ]
  },
  {
   "cell_type": "code",
   "execution_count": null,
   "id": "d0fad1d6",
   "metadata": {},
   "outputs": [],
   "source": [
    "bak_square[1] = 0 # will this work?\n",
    "print(square)"
   ]
  },
  {
   "cell_type": "code",
   "execution_count": null,
   "id": "bee70f55",
   "metadata": {},
   "outputs": [],
   "source": [
    "bak_square is square"
   ]
  },
  {
   "cell_type": "markdown",
   "id": "064c6ee4",
   "metadata": {},
   "source": [
    "As you can see from above bak_square is square to make it more clear."
   ]
  },
  {
   "cell_type": "code",
   "execution_count": null,
   "id": "f2830162",
   "metadata": {},
   "outputs": [],
   "source": [
    "hex(id(bak_square))"
   ]
  },
  {
   "cell_type": "code",
   "execution_count": null,
   "id": "0b65dc2c",
   "metadata": {},
   "outputs": [],
   "source": [
    "hex(id(square))"
   ]
  },
  {
   "cell_type": "code",
   "execution_count": null,
   "id": "44824171",
   "metadata": {},
   "outputs": [],
   "source": [
    "bac_square = square[:]\n",
    "bac_square is square"
   ]
  },
  {
   "cell_type": "code",
   "execution_count": null,
   "id": "d4146943",
   "metadata": {},
   "outputs": [],
   "source": [
    "bac_square.append(\"hello\")\n",
    "print(bac_square)"
   ]
  },
  {
   "cell_type": "code",
   "execution_count": null,
   "id": "cea80bfb",
   "metadata": {},
   "outputs": [],
   "source": [
    "print(square)"
   ]
  },
  {
   "cell_type": "code",
   "execution_count": null,
   "id": "55bc0c7d",
   "metadata": {},
   "outputs": [],
   "source": [
    "del square[] = 0"
   ]
  },
  {
   "cell_type": "code",
   "execution_count": null,
   "id": "56b0e8e0-2311-4246-868f-97adfa0a2c46",
   "metadata": {},
   "outputs": [],
   "source": [
    "!jupyter nbconvert --to script Lecture\\ 3\\ -\\ Lists.ipynb"
   ]
  },
  {
   "cell_type": "code",
   "execution_count": null,
   "id": "69c8454e-38fe-4e5e-9df0-ab15971c367f",
   "metadata": {},
   "outputs": [],
   "source": []
  }
 ],
 "metadata": {
  "celltoolbar": "Raw Cell Format",
  "kernelspec": {
   "display_name": "Python 3",
   "language": "python",
   "name": "python3"
  },
  "language_info": {
   "codemirror_mode": {
    "name": "ipython",
    "version": 3
   },
   "file_extension": ".py",
   "mimetype": "text/x-python",
   "name": "python",
   "nbconvert_exporter": "python",
   "pygments_lexer": "ipython3",
   "version": "3.12.3"
  }
 },
 "nbformat": 4,
 "nbformat_minor": 5
}
