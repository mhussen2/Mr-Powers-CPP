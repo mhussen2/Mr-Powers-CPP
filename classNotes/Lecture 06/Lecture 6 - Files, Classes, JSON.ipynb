{
 "cells": [
  {
   "cell_type": "markdown",
   "id": "65f75d29",
   "metadata": {},
   "source": [
    "# Files\n",
    "Files are important to saving data and will make your programs more useful.\n",
    "\n",
    "## Reading a File"
   ]
  },
  {
   "cell_type": "code",
   "execution_count": null,
   "id": "f4808cfa",
   "metadata": {},
   "outputs": [],
   "source": [
    "with open('car_list.txt') as file:\n",
    "    contents = file.read()\n",
    "    print(contents)\n",
    "#contents[1]"
   ]
  },
  {
   "cell_type": "code",
   "execution_count": null,
   "id": "f29f2575",
   "metadata": {},
   "outputs": [],
   "source": [
    "print(list(contents))"
   ]
  },
  {
   "cell_type": "code",
   "execution_count": null,
   "id": "3b5a2c0f",
   "metadata": {},
   "outputs": [],
   "source": [
    "filename = 'cars.txt' \n",
    "aList=[]\n",
    "#filename = 'car_list.txt' \n",
    "with open(filename) as file:\n",
    "    lines = file.readlines()\n",
    "   # print(lines) \n",
    "    aList.append(lines)\n",
    "#print(aList[3])\n",
    "\n",
    "    #    aList.append(lines)"
   ]
  },
  {
   "cell_type": "code",
   "execution_count": null,
   "id": "8ea96447",
   "metadata": {},
   "outputs": [],
   "source": [
    "print(aList)\n",
    "#\"Abarth\","
   ]
  },
  {
   "cell_type": "code",
   "execution_count": null,
   "id": "82a27b15",
   "metadata": {},
   "outputs": [],
   "source": [
    "#filename = 'cars.txt'\n",
    "filename = 'car_list.txt' \n",
    "aList = []\n",
    "with open(filename) as file:\n",
    "    lines = file.readlines()\n",
    "    for line in lines:\n",
    "        aList.append(line.strip())\n",
    "print(aList)\n",
    "    #\n",
    "    #    aList.append(lines)"
   ]
  },
  {
   "cell_type": "code",
   "execution_count": null,
   "id": "9247f823",
   "metadata": {},
   "outputs": [],
   "source": [
    "#filename = 'cars.txt'\n",
    "filename = 'car_list.txt'\n",
    "with open(filename) as file:\n",
    "    #lines = [line.rstrip(\"\\\" \\\"\\,\\n\") for line in file]\n",
    "    lines = [line.rstrip(\"\\,\\n\") for line in file]\n",
    "\n",
    "\"\"\"    for line in file:\n",
    "        lines2 = line.rstrip('\\n')\n",
    "        print(lines2)\"\"\"\n",
    "#print(lines2)\n",
    "print(lines[4])\n",
    "aList = lines[4]\n",
    "bList = \"abc\"\n",
    "print(aList)\n",
    "print(bList)"
   ]
  },
  {
   "cell_type": "markdown",
   "id": "00f16a1b",
   "metadata": {},
   "source": [
    "The open functions allows us to open the file and access it. The open function needs the name of the file you want to open\n",
    "```python\n",
    "open()\n",
    "```\n",
    "The keyword with closes the file once it is access the information in the file. You could Open() and close() the file if you need to do more with the file. Note: if you do not close a file this could lead to corruption or lost data.\n",
    "```python\n",
    " with\n",
    " close()\n",
    "```\n",
    "Note: The .read() method adds a line at the end of the file. if you do not desire this line use the .rstrip()\n",
    "```python\n",
    "contents = file.read()\n",
    "print(contents.rstrip())\n",
    "```\n",
    "To open a file from a directory other then the current you need to provide a file path. \n",
    "IMPORTANT: Windows uses the backslash(\\) insted of the forward slash (/) \n",
    "```python\n",
    "with open('file_path/filename.txt') as file_object:\n",
    "with open('/home/users/files/filename.txt') as file object\n",
    "with open('C:\\Users\\name\\files\\filename.txt')as file object\n",
    "```"
   ]
  },
  {
   "cell_type": "code",
   "execution_count": null,
   "id": "435ff122",
   "metadata": {},
   "outputs": [],
   "source": [
    "import ast\n",
    "\n",
    "with open('car_list.txt', 'r') as f:\n",
    "    mylist = ast.literal_eval(f.read())\n",
    "print(mylist)\n",
    "mylist[4]"
   ]
  },
  {
   "cell_type": "markdown",
   "id": "f0873c17",
   "metadata": {},
   "source": [
    "## Writing to a file\n",
    "### writing to an Empty file"
   ]
  },
  {
   "cell_type": "code",
   "execution_count": null,
   "id": "d93895f7",
   "metadata": {},
   "outputs": [],
   "source": [
    "filename = 'programing.txt'\n",
    "with open(filename,'w') as f:\n",
    "    f.write(\"TADA!\")\n",
    "    f.write(\"WOW\")"
   ]
  },
  {
   "cell_type": "code",
   "execution_count": null,
   "id": "d67f6a4e",
   "metadata": {},
   "outputs": [],
   "source": [
    "filename = 'programing.txt'\n",
    "with open(filename,'w') as f:\n",
    "    f.write(\"TADA!\\n\")\n",
    "    f.write(\"WOW\\n\")"
   ]
  },
  {
   "cell_type": "markdown",
   "id": "9871bdfc",
   "metadata": {},
   "source": [
    "### Appending a file"
   ]
  },
  {
   "cell_type": "code",
   "execution_count": null,
   "id": "45a18585",
   "metadata": {},
   "outputs": [],
   "source": [
    "filename = 'programing.txt'\n",
    "with open(filename, 'w') as f:\n",
    "    f.write(\"now you can see my magic\\n\")"
   ]
  },
  {
   "cell_type": "code",
   "execution_count": null,
   "id": "b16fd223",
   "metadata": {},
   "outputs": [],
   "source": [
    "filename = 'programing.txt'\n",
    "with open(filename,'a') as f:\n",
    "    for i in range(5):\n",
    "        text = 'line number:' + str(i) + '\\n'\n",
    "        f.write(text)"
   ]
  },
  {
   "cell_type": "code",
   "execution_count": null,
   "id": "60699dcf",
   "metadata": {},
   "outputs": [],
   "source": [
    "filename = 'programing.txt'\n",
    "with open(filename,'a') as f:\n",
    "    for i in mylist:\n",
    "        f.write(i + '\\n')"
   ]
  },
  {
   "cell_type": "code",
   "execution_count": null,
   "id": "a12aea84",
   "metadata": {},
   "outputs": [],
   "source": [
    "#filename = 'cars.txt'\n",
    "filename = 'car_list.txt' \n",
    "aList = []\n",
    "with open(filename) as file:\n",
    "    lines = file.readlines()\n",
    "    for line in lines:\n",
    "        aList.append(line.strip())\n",
    "print(aList)\n",
    "    #\n",
    "    #    aList.append(lines)"
   ]
  },
  {
   "cell_type": "markdown",
   "id": "ee4420f4",
   "metadata": {},
   "source": [
    "# Classes \n",
    "\n",
    "Object-oriented programming the most effective approaches to writing software\n",
    "\n",
    "Classes are the things\n",
    "Objects are what you create from those things\n",
    "\n",
    "\n",
    "An object created from a class is called instantiation. This is called an instances of a class"
   ]
  },
  {
   "cell_type": "code",
   "execution_count": null,
   "id": "64204642",
   "metadata": {},
   "outputs": [],
   "source": [
    "class Student(object):\n",
    "    \"\"\"Create a simple model of a student\"\"\"\n",
    "    def __init__(self, name, age, gpa):\n",
    "        \"\"\"Initialize name, age, and gpa attributes.\"\"\"\n",
    "        self.name = name\n",
    "        self.age = age\n",
    "        self.gpa = gpa\n",
    "    \n",
    "    def study(self):\n",
    "        \"\"\"Increase GPA due to studying\"\"\"\n",
    "        print(self.name.title() +  ' has now studyed')\n",
    "        self.gpa += 0.1\n",
    "    \n",
    "    def get_older(self):\n",
    "        \"\"\"Age the student\"\"\"\n",
    "        print(self.name.title() + ', It has been a good year')\n",
    "        self.age += 1"
   ]
  },
  {
   "cell_type": "markdown",
   "id": "017de06d",
   "metadata": {},
   "source": [
    " OK there is a lot here so lets take it step by step\n",
    " \n",
    "```python\n",
    "def __init__() # _ _init_ _ () \n",
    "```\n",
    "\n",
    "The ___init___ method is a special method ran when a new instance of a class is created\n",
    "\n",
    "- The self parameter is required, and it must come first. \n",
    "    - Python automaticly passes the self argument.\n",
    "    - Every method in a class passes self, allowing the instance access to the attributes and methods in the class.\n",
    "\n",
    "```python\n",
    "    self.name = name\n",
    "```\n",
    "\n",
    "Any variable self is available to every method in the class think automatic global self.name = name takes the value stored in the parameter (passed value) name and stores it in the variable name (self.name).\n"
   ]
  },
  {
   "cell_type": "code",
   "execution_count": null,
   "id": "d954606d",
   "metadata": {},
   "outputs": [],
   "source": [
    "billy1 = Student #will not call the constructor\n",
    "#billy = Student() # will call the constructor will error\n",
    "billy = Student('billy', 28, 2.6) #calls the constructor with the values \n",
    "#def __init__(self, name, age, gpa): def __init__(self, \"billy\", 28, 2.6): #this is how it is called\n",
    "# self.name = \"billy\"\n",
    "# elf.age = 28\n",
    "# self.gpa = 2.6"
   ]
  },
  {
   "cell_type": "code",
   "execution_count": null,
   "id": "886d203c-255c-4993-b63f-bc5b250c417c",
   "metadata": {},
   "outputs": [],
   "source": [
    "billy = Student\n",
    "type(billy)"
   ]
  },
  {
   "cell_type": "code",
   "execution_count": null,
   "id": "da77ea7a",
   "metadata": {},
   "outputs": [],
   "source": [
    "#billy.name = \"billy\"\n",
    "billy1.name = \"a\"\n",
    "billy1.gpa = 4\n",
    "#billy.gpa = 1"
   ]
  },
  {
   "cell_type": "code",
   "execution_count": null,
   "id": "d5dbe87c",
   "metadata": {},
   "outputs": [],
   "source": [
    "billy.study(billy1)"
   ]
  },
  {
   "cell_type": "code",
   "execution_count": null,
   "id": "00422b9a",
   "metadata": {},
   "outputs": [],
   "source": [
    "billy.gpa "
   ]
  },
  {
   "cell_type": "code",
   "execution_count": null,
   "id": "44015f3f",
   "metadata": {},
   "outputs": [],
   "source": [
    "billy.get_older()"
   ]
  },
  {
   "cell_type": "code",
   "execution_count": null,
   "id": "84c68ceb",
   "metadata": {},
   "outputs": [],
   "source": [
    "tod = Student('tod', 45, 3.7)"
   ]
  },
  {
   "cell_type": "code",
   "execution_count": null,
   "id": "39a6f031",
   "metadata": {},
   "outputs": [],
   "source": [
    "tod.name"
   ]
  },
  {
   "cell_type": "markdown",
   "id": "3897da40",
   "metadata": {},
   "source": [
    "    Just like a variable you can change the instance's values"
   ]
  },
  {
   "cell_type": "code",
   "execution_count": null,
   "id": "e92165f1",
   "metadata": {},
   "outputs": [],
   "source": [
    "tod.age = 12"
   ]
  },
  {
   "cell_type": "code",
   "execution_count": null,
   "id": "8e92fda3",
   "metadata": {},
   "outputs": [],
   "source": [
    "tod.age"
   ]
  },
  {
   "cell_type": "markdown",
   "id": "3c702508",
   "metadata": {},
   "source": [
    "Say we do not want to allow a user to just change the value we have something called a getter and a setter methods"
   ]
  },
  {
   "cell_type": "code",
   "execution_count": 145,
   "id": "ac0963ba",
   "metadata": {},
   "outputs": [],
   "source": [
    "class Student(object):\n",
    "    \"\"\"Create a simple model of a student\"\"\"\n",
    "    def __init__(self, name=\"None\" , age=-1, gpa=-1):\n",
    "        \"\"\"Initialize name, age, and gpa attributes.\"\"\"\n",
    "        self.name = name\n",
    "        self._age = age\n",
    "        self.gpa = gpa\n",
    "    \n",
    "    def study(self):\n",
    "        \"\"\"Increase GPA due to studying\"\"\"\n",
    "        print(self.name.title() +  ' has now studdieder')\n",
    "        self.gpa += 0.1\n",
    "    \n",
    "    def get_older(self):\n",
    "        \"\"\"Age the student\"\"\"\n",
    "        print(self.name.title() + ', It has been a good year')\n",
    "        self._age += 1\n",
    "        \n",
    "    @property #this is a property of the object\n",
    "    def age(self):\n",
    "        print('Getting value')\n",
    "        return self._age\n",
    " \n",
    "    # setting the values\n",
    "    @age.setter\n",
    "    def age(self, value):\n",
    "        print('Setting age to ' + str(value))\n",
    "        self._age = value #underscore is just consitered private."
   ]
  },
  {
   "cell_type": "code",
   "execution_count": 27,
   "id": "8265f4b0",
   "metadata": {},
   "outputs": [],
   "source": [
    "todd =  Student('tod', 45, 3.7)"
   ]
  },
  {
   "cell_type": "code",
   "execution_count": 18,
   "id": "31e7859d",
   "metadata": {
    "scrolled": true
   },
   "outputs": [
    {
     "name": "stdout",
     "output_type": "stream",
     "text": [
      "Tod, It has been a good year\n"
     ]
    }
   ],
   "source": [
    "todd.get_older()"
   ]
  },
  {
   "cell_type": "code",
   "execution_count": 28,
   "id": "2006b6d3-be92-452e-994a-a93537be3929",
   "metadata": {},
   "outputs": [
    {
     "ename": "AttributeError",
     "evalue": "can't set attribute",
     "output_type": "error",
     "traceback": [
      "\u001b[0;31m---------------------------------------------------------------------------\u001b[0m",
      "\u001b[0;31mAttributeError\u001b[0m                            Traceback (most recent call last)",
      "Cell \u001b[0;32mIn[28], line 1\u001b[0m\n\u001b[0;32m----> 1\u001b[0m \u001b[43mtodd\u001b[49m\u001b[38;5;241;43m.\u001b[39;49m\u001b[43mage\u001b[49m \u001b[38;5;241m=\u001b[39m \u001b[38;5;241m1\u001b[39m\n",
      "\u001b[0;31mAttributeError\u001b[0m: can't set attribute"
     ]
    }
   ],
   "source": [
    "todd.age = 1"
   ]
  },
  {
   "cell_type": "code",
   "execution_count": 31,
   "id": "84b520d4",
   "metadata": {},
   "outputs": [
    {
     "name": "stdout",
     "output_type": "stream",
     "text": [
      "Setting age to 1\n"
     ]
    }
   ],
   "source": [
    "todd.student_age =1"
   ]
  },
  {
   "cell_type": "code",
   "execution_count": null,
   "id": "a5271ddf",
   "metadata": {},
   "outputs": [],
   "source": [
    "todd.age"
   ]
  },
  {
   "cell_type": "code",
   "execution_count": null,
   "id": "f1de3e75",
   "metadata": {},
   "outputs": [],
   "source": [
    "tod.student_age"
   ]
  },
  {
   "cell_type": "code",
   "execution_count": null,
   "id": "b9a25407",
   "metadata": {},
   "outputs": [],
   "source": [
    "todd.age"
   ]
  },
  {
   "cell_type": "code",
   "execution_count": null,
   "id": "913ba4eb",
   "metadata": {},
   "outputs": [],
   "source": [
    "tod._age"
   ]
  },
  {
   "cell_type": "markdown",
   "id": "2ba950b7",
   "metadata": {},
   "source": [
    "# Inheritance\n",
    "    Inheritance is when one class inherits all the attributes and methods from the class before it\n",
    "    this is allso called a child class"
   ]
  },
  {
   "cell_type": "code",
   "execution_count": 146,
   "id": "7fbbf7cf",
   "metadata": {},
   "outputs": [],
   "source": [
    "class BadStudent(Student):\n",
    "    \"\"\" represents the aspects of a student but specific to a bad student\"\"\"\n",
    "    def __init__(self, name, age, gpa, probation):\n",
    "        \"\"\"Initialize attributes of the parent class\"\"\"\n",
    "        super().__init__(name, age, gpa)\n",
    "        #self.student(name,age,gpa)\n",
    "        #self.name = student.name(\"bill\") \n",
    "        self._probation = probation\n",
    "        \n"
   ]
  },
  {
   "cell_type": "code",
   "execution_count": 147,
   "id": "12660b11",
   "metadata": {},
   "outputs": [],
   "source": [
    "bill = BadStudent('bill', 12, 1.0, True)"
   ]
  },
  {
   "cell_type": "code",
   "execution_count": 148,
   "id": "c7bf6f60",
   "metadata": {},
   "outputs": [
    {
     "name": "stdout",
     "output_type": "stream",
     "text": [
      "Getting value\n"
     ]
    },
    {
     "data": {
      "text/plain": [
       "12"
      ]
     },
     "execution_count": 148,
     "metadata": {},
     "output_type": "execute_result"
    }
   ],
   "source": [
    "bill.age"
   ]
  },
  {
   "cell_type": "code",
   "execution_count": 6,
   "id": "981932b7",
   "metadata": {},
   "outputs": [
    {
     "name": "stdout",
     "output_type": "stream",
     "text": [
      "Bill, It has been a good year\n"
     ]
    }
   ],
   "source": [
    "bill.get_older()"
   ]
  },
  {
   "cell_type": "code",
   "execution_count": 149,
   "id": "3e1d9e75",
   "metadata": {},
   "outputs": [
    {
     "data": {
      "text/plain": [
       "True"
      ]
     },
     "execution_count": 149,
     "metadata": {},
     "output_type": "execute_result"
    }
   ],
   "source": [
    "bill._probation"
   ]
  },
  {
   "cell_type": "markdown",
   "id": "a46c75c7",
   "metadata": {},
   "source": [
    "### Another Example\n",
    "    This example allows us to inherit 2 parents but be careful with this. \n",
    "\n",
    "notice the order.\n"
   ]
  },
  {
   "cell_type": "code",
   "execution_count": 200,
   "id": "2354b55e",
   "metadata": {},
   "outputs": [
    {
     "name": "stdout",
     "output_type": "stream",
     "text": [
      "5\n",
      "you kill the enemy\n"
     ]
    },
    {
     "ename": "AttributeError",
     "evalue": "'Dagger' object has no attribute 'GemStone'",
     "output_type": "error",
     "traceback": [
      "\u001b[0;31m---------------------------------------------------------------------------\u001b[0m",
      "\u001b[0;31mAttributeError\u001b[0m                            Traceback (most recent call last)",
      "Cell \u001b[0;32mIn[200], line 43\u001b[0m\n\u001b[1;32m     41\u001b[0m \u001b[38;5;28mprint\u001b[39m(bladeOfInfinity\u001b[38;5;241m.\u001b[39m_sockets)\n\u001b[1;32m     42\u001b[0m bladeOfInfinity\u001b[38;5;241m.\u001b[39mdo_damage(\u001b[38;5;241m1\u001b[39m)\n\u001b[0;32m---> 43\u001b[0m \u001b[43mbladeOfInfinity\u001b[49m\u001b[38;5;241;43m.\u001b[39;49m\u001b[43mGemStoneDoDamage\u001b[49m\u001b[43m(\u001b[49m\u001b[43m)\u001b[49m\n\u001b[1;32m     44\u001b[0m \u001b[38;5;66;03m#bladeOfInfinity.Sharps.do_damage(1) #notice this does not work\u001b[39;00m\n",
      "Cell \u001b[0;32mIn[200], line 36\u001b[0m, in \u001b[0;36mDagger.GemStoneDoDamage\u001b[0;34m(self)\u001b[0m\n\u001b[1;32m     35\u001b[0m \u001b[38;5;28;01mdef\u001b[39;00m\u001b[38;5;250m \u001b[39m\u001b[38;5;21mGemStoneDoDamage\u001b[39m(\u001b[38;5;28mself\u001b[39m):\n\u001b[0;32m---> 36\u001b[0m     \u001b[38;5;28;43mself\u001b[39;49m\u001b[38;5;241;43m.\u001b[39;49m\u001b[43mGemStone\u001b[49m\u001b[38;5;241m.\u001b[39mdo_damage(\u001b[38;5;241m1\u001b[39m)\n",
      "\u001b[0;31mAttributeError\u001b[0m: 'Dagger' object has no attribute 'GemStone'"
     ]
    }
   ],
   "source": [
    "class Sharps(object):\n",
    "    \"\"\"Create a sharp weapon\"\"\"\n",
    "    def __init__(self, name, length, age, damage):\n",
    "        \"\"\" Initialize name, age, and length damage attributes.\"\"\"\n",
    "        self.name = name\n",
    "        self.age = age\n",
    "        self.length = length\n",
    "        self.damage = damage\n",
    "    def do_damage(self, target):\n",
    "        print(\"you kill the enemy\")\n",
    "        target = target - self.damage\n",
    "\n",
    "class GemStone(object):\n",
    "    def __init__(self,sockets):\n",
    "        self._sockets = sockets\n",
    "        self.age = 1\n",
    "    \n",
    "    def do_damage(self,target):\n",
    "        print(\"you heal the enemy\")\n",
    "        target = target #+ self.damage\n",
    "    \n",
    "\n",
    "\n",
    "class Dagger(Sharps, GemStone):\n",
    "#class Dagger(GemStone, Sharps):\n",
    "    \"\"\" makes a dagger\"\"\"\n",
    "    def __init__(self, name, length, age, damage):\n",
    "        \"\"\"sets up a dagger\"\"\"\n",
    "        GemStone.__init__(self,5)\n",
    "        Sharps.__init__(self, name, length, age, damage)\n",
    "\n",
    "    def SharpsDoDamage(self):\n",
    "        Sharps.do_damage(self,1)\n",
    "\n",
    "    def GemStoneDoDamage(self):\n",
    "        self.GemStone.do_damage(1)\n",
    "        \n",
    "\n",
    "\n",
    "bladeOfInfinity = Dagger(\"blade\",12, 12, 12)\n",
    "print(bladeOfInfinity._sockets)\n",
    "bladeOfInfinity.do_damage(1)\n",
    "bladeOfInfinity.GemStoneDoDamage()\n",
    "#bladeOfInfinity.Sharps.do_damage(1) #notice this does not work"
   ]
  },
  {
   "cell_type": "markdown",
   "id": "c4e6cd4d",
   "metadata": {},
   "source": [
    "To inherit you must first name the function nd then add the parent class in parentheses\n",
    "```python\n",
    "class ChildClass(ParentClass):\n",
    "```\n",
    "The super function is a special function that connects the parent and the child together. And gathers all the information needed to create a student. \n",
    "```python\n",
    "super().__init()__(properties, of, parent)\n",
    "```\n",
    "\n",
    "When you have two parents this is called multiple inheritance the child will only take the common method of the parent that was called first\n",
    "```python\n",
    "class ChildClass(Parent1, Parent2):\n",
    "    def __init__(self):\n",
    "        Parent1.__init__(self,value)\n",
    "        Parent2.__init__(self,value)\n",
    "\n",
    "    #note you can call it from the child\n",
    "    def commonMethod(self):\n",
    "        Parent1.commonMethod()\n",
    "        Parent2.commonMethod()\n",
    "```\n",
    "\n"
   ]
  },
  {
   "cell_type": "markdown",
   "id": "b7242226",
   "metadata": {},
   "source": [
    "# More examples on private \n",
    "    This is a little intense "
   ]
  },
  {
   "cell_type": "code",
   "execution_count": 162,
   "id": "64aa9081",
   "metadata": {},
   "outputs": [],
   "source": [
    "#OK \n",
    "class BadStudent(Student):\n",
    "    \"\"\" represents the aspects of a student but specific to a bad student\"\"\"\n",
    "    def __init__(self, name, age, gpa, probation):\n",
    "        \"\"\"Initialize attributes of the parent class\"\"\"\n",
    "        super().__init__(name, age, gpa)\n",
    "        #self.age = age+1\n",
    "        self._probation = probation\n",
    "    \n",
    "    @property\n",
    "    def probation(self):\n",
    "        \"\"\"Get the value of probation\"\"\"\n",
    "        return self._probation\n",
    "    @probation.setter\n",
    "    def probation(self, value):\n",
    "        self._probation = value\n",
    "    \n",
    "    def get_older(self): # this will overwrite the get_older in Student\n",
    "        print(\"this student is on probation and cant get older\")"
   ]
  },
  {
   "cell_type": "code",
   "execution_count": null,
   "id": "6828a653",
   "metadata": {},
   "outputs": [
    {
     "name": "stdout",
     "output_type": "stream",
     "text": [
      "this student is on probation and cant get older\n",
      "Steve, It has been a good year\n"
     ]
    }
   ],
   "source": [
    "bill = BadStudent('bill', 12, 1.0, True)\n",
    "steve = Student('Steve', 10,3)\n",
    "bill.get_older()\n",
    "steve.get_older()\n"
   ]
  },
  {
   "cell_type": "code",
   "execution_count": 166,
   "id": "785965c4",
   "metadata": {},
   "outputs": [],
   "source": [
    "bill._probation = False"
   ]
  },
  {
   "cell_type": "markdown",
   "id": "cfded181",
   "metadata": {},
   "source": [
    "    Two underlines is called \"mangle\". A mangled attributed is used within a class and can protect the values inside a class better than a single underscore. This again only obscures the attribute."
   ]
  },
  {
   "cell_type": "code",
   "execution_count": 169,
   "id": "c12ec253",
   "metadata": {},
   "outputs": [],
   "source": [
    "#Better\n",
    "class BadStudent(Student):\n",
    "    \"\"\" represents the aspects of a student but specific to a bad student\"\"\"\n",
    "    def __init__(self, name, age, gpa, inProbation):\n",
    "        super().__init__(name, age, gpa)\n",
    "        self.__probation = inProbation#note 2 underscores\n",
    "    @property\n",
    "    def probation(self):\n",
    "        \"\"\"Get the value of probation\"\"\"\n",
    "        return self.__probation\n",
    "    @probation.setter\n",
    "    def probation(self, inProbation):\n",
    "        self.__probation = inProbation\n",
    "\n",
    "    def get_older(self): # this will overwrite the get_older in Student\n",
    "        print(\"this student is on probation and cant get older\")"
   ]
  },
  {
   "cell_type": "code",
   "execution_count": 174,
   "id": "aed31ae9",
   "metadata": {},
   "outputs": [
    {
     "ename": "AttributeError",
     "evalue": "'BadStudent' object has no attribute '__probation'",
     "output_type": "error",
     "traceback": [
      "\u001b[0;31m---------------------------------------------------------------------------\u001b[0m",
      "\u001b[0;31mAttributeError\u001b[0m                            Traceback (most recent call last)",
      "Cell \u001b[0;32mIn[174], line 2\u001b[0m\n\u001b[1;32m      1\u001b[0m bill \u001b[38;5;241m=\u001b[39m BadStudent(\u001b[38;5;124m'\u001b[39m\u001b[38;5;124mbill\u001b[39m\u001b[38;5;124m'\u001b[39m, \u001b[38;5;241m12\u001b[39m, \u001b[38;5;241m1.0\u001b[39m, \u001b[38;5;28;01mTrue\u001b[39;00m)\n\u001b[0;32m----> 2\u001b[0m \u001b[43mbill\u001b[49m\u001b[38;5;241;43m.\u001b[39;49m\u001b[43m__probation\u001b[49m\n\u001b[1;32m      3\u001b[0m \u001b[38;5;66;03m#bill._BadStudent__probation = False #can still access\u001b[39;00m\n",
      "\u001b[0;31mAttributeError\u001b[0m: 'BadStudent' object has no attribute '__probation'"
     ]
    }
   ],
   "source": [
    "bill = BadStudent('bill', 12, 1.0, True)\n",
    "bill.__probation\n",
    "#bill._BadStudent__probation = False #can still access"
   ]
  },
  {
   "cell_type": "markdown",
   "id": "729d4c09",
   "metadata": {},
   "source": [
    "## Encapsulation"
   ]
  },
  {
   "cell_type": "markdown",
   "id": "f334ad04",
   "metadata": {},
   "source": [
    "As you continue to code your will notices at times your classes are becoming more lengthy. When you recognize this it will be benifital to brake up a class into two classes. As a side effect Breaking code up into other classes also helps with protecting values as well"
   ]
  },
  {
   "cell_type": "code",
   "execution_count": null,
   "id": "9a741858",
   "metadata": {},
   "outputs": [],
   "source": [
    "class ProbationStatus():\n",
    "    \"\"\"Encapsulates the probation of a student\"\"\"\n",
    "    def __init__(self, inProbation=False):\n",
    "        self._probation = inProbation\n",
    "    \n",
    "    def get_status(self):\n",
    "        \"\"\"Get the probation Status\"\"\"\n",
    "        return self._probation\n",
    "    \n",
    "    def set_status(self,inProbation):\n",
    "        self._probation = inProbation\n",
    "\n",
    "class BadStudent(Student):\n",
    "    \"\"\" represents the aspects of a student but specific to a bad student\"\"\"\n",
    "    def __init__(self, name, age, gpa, inProbation=False):\n",
    "        super().__init__(name, age, gpa)\n",
    "        self.__probation = ProbationStatus(inProbation)\n",
    "    @property\n",
    "    def probation(self):\n",
    "        \"\"\"Get the value of probation\"\"\"\n",
    "        return self.__probation.get_status()\n",
    "    @probation.setter\n",
    "    def probation(self, inProbation):\n",
    "        self.__probation.set_status(inProbation)\n",
    "\n",
    "    def get_older(self): # this will overwrite the get_older in Student\n",
    "        print(\"this student is on probation and cant get older\")"
   ]
  },
  {
   "cell_type": "code",
   "execution_count": 176,
   "id": "92256441",
   "metadata": {},
   "outputs": [
    {
     "name": "stdout",
     "output_type": "stream",
     "text": [
      "True\n",
      "False\n"
     ]
    }
   ],
   "source": [
    "Adam = BadStudent('Adam', 12, 1.0, True)\n",
    "print(Adam.probation)\n",
    "#Adam.__probation#same as above\n",
    "Adam._BadStudent__probation._probation = False#_probation=False\n",
    "print(Adam.probation)"
   ]
  },
  {
   "cell_type": "code",
   "execution_count": 177,
   "id": "be1251c6",
   "metadata": {},
   "outputs": [],
   "source": [
    "#Note this example is a little overkill. \n",
    "\n",
    "class ProbationStatus():\n",
    "    \"\"\"Encapsulates the probation of a student\"\"\"\n",
    "    def __init__(self, inProbation=False):\n",
    "        self.__probation = inProbation\n",
    "    \n",
    "    def __get_status(self):\n",
    "        \"\"\"Get the probation Status\"\"\"\n",
    "        return self.__probation\n",
    "    \n",
    "    def __set_status(self,inProbation):\n",
    "        self.__probation = inProbation\n",
    "\n",
    "        \n",
    "class BadStudent(Student):\n",
    "    \"\"\" represents the aspects of a student but specific to a bad student\"\"\"\n",
    "    def __init__(self, name, age, gpa, probation):\n",
    "        \"\"\"Initialize attributes of the parent class\"\"\"\n",
    "        super().__init__(name, age, gpa)\n",
    "        self.__probation = ProbationStatus(probation)\n",
    "\n",
    "    def _is_on_probation(self):\n",
    "        return self.__probation._ProbationStatus__get_status()\n",
    "    \n",
    "    def _set_probation(self):\n",
    "        self.__probation._ProbationStatus__set_status(True)\n",
    "\n",
    "    @property\n",
    "    def probation(self):\n",
    "        return self._is_on_probation()\n",
    "    \n",
    "    @probation.setter\n",
    "    def probation(self,value):\n",
    "        self.__probation._set_probation(value)\n",
    "    \n",
    "\n",
    "        \n",
    "        "
   ]
  },
  {
   "cell_type": "code",
   "execution_count": 178,
   "id": "90982199",
   "metadata": {},
   "outputs": [],
   "source": [
    "Charles = BadStudent('Charles', 12, 1.0, True)"
   ]
  },
  {
   "cell_type": "code",
   "execution_count": 179,
   "id": "8c5f8074",
   "metadata": {},
   "outputs": [
    {
     "data": {
      "text/plain": [
       "False"
      ]
     },
     "execution_count": 179,
     "metadata": {},
     "output_type": "execute_result"
    }
   ],
   "source": [
    "#bill._BadStudent__probation = False\n",
    "#Adam._BadStudent__probation._probation = False\n",
    "Charles._BadStudent__probation._ProbationStatus__probation = False\n",
    "Charles.probation"
   ]
  },
  {
   "cell_type": "markdown",
   "id": "c58f19c0-0dae-4322-a569-84e725126d36",
   "metadata": {},
   "source": [
    "## A side note"
   ]
  },
  {
   "cell_type": "markdown",
   "id": "dffc1745",
   "metadata": {},
   "source": [
    "Importing a class is the same as importing a module\n",
    "```python\n",
    "from file_name import class\n",
    "````\n",
    "\n",
    "Note: You can store as many classes in a single module, but it is convention to ensure those classes are related somehow"
   ]
  },
  {
   "cell_type": "markdown",
   "id": "04abcc68",
   "metadata": {},
   "source": [
    "Importaing Multiple classes from a module\n",
    "```python\n",
    "from file_name import class1, class2\n",
    "```\n",
    "\n",
    "Importing an Entire Module\n",
    "```python\n",
    "import file_name\n",
    "```\n",
    "\n",
    "importing All Classes from a module\n",
    "```python\n",
    "import module_name import *\n",
    "```"
   ]
  },
  {
   "cell_type": "markdown",
   "id": "c0b6d50c",
   "metadata": {},
   "source": [
    "## Styling classes\n",
    "\n",
    "- Class names should be written in CamelCaps. \n",
    "\n",
    "\n",
    "- Every class should have a docstring. The docstring should be a brief description\n",
    "    - Each module should also have a docstring describing what the classes in a module can be used for.\n",
    "\n",
    "\n",
    "- You can use blank lines to organize code, but don’t use them excessively. \n",
    "    - Use one blank line between methods\n",
    "    - Use two blank lines to separate classes.\n",
    "\n",
    "\n",
    "- When importing a modules  \n",
    "    - Place the import statement for the standard library first. \n",
    "        - Note: A standard library are the librarys built into python\n",
    "    - Then add a blank line and the import statement for the module you wrote."
   ]
  },
  {
   "cell_type": "markdown",
   "id": "5d80cc5b",
   "metadata": {},
   "source": [
    "# Storing Data\n",
    "There are many ways we can store data in Python. Besides writing to a log.txt we can up our game and store it to a JSON file.\n",
    "\n",
    "JSON stands for JavaScript Object Notation\n",
    "\n",
    "\n",
    "JSON is a standard text-based format for representing structured data based on JavaScript object syntax. It is commonly used for transmitting data in web applications (e.g., sending some data from the server to the client, so it can be displayed on a web page, or vice versa)\n",
    "\n",
    "- JSON exists as a string\n",
    "- Has a structure \n",
    "- Can be stored in its own file\n",
    "- Can include:\n",
    "    - strings\n",
    "    - numbers\n",
    "    - arrays\n",
    "    - booleans\n",
    "    - object literals\n",
    "    \n",
    "\n",
    "    The json module allows you to dump simple Python data structures into a file and load the data from that file the next time the program runs."
   ]
  },
  {
   "cell_type": "code",
   "execution_count": 186,
   "id": "63eec39d",
   "metadata": {},
   "outputs": [],
   "source": [
    "import json\n",
    "\n",
    "numbers = [2, 3, 5, 7, 11, 13,15,14]\n",
    "filename = 'numbers.json'\n",
    "with open(filename, 'w') as f: #same as before\n",
    "    json.dump(numbers, f)\n",
    "\n"
   ]
  },
  {
   "cell_type": "markdown",
   "id": "bfd6217c",
   "metadata": {},
   "source": [
    "json.dump() is a function to store the list numbers in the file numbers.json."
   ]
  },
  {
   "cell_type": "code",
   "execution_count": 187,
   "id": "3fd8c703",
   "metadata": {},
   "outputs": [
    {
     "name": "stdout",
     "output_type": "stream",
     "text": [
      "[2, 3, 5, 7, 11, 13, 15, 14]\n"
     ]
    }
   ],
   "source": [
    "import json\n",
    "\n",
    "file_name = 'numbers.json' \n",
    "with open(filename) as f: #same as before\n",
    "    numbers = json.load(f)\n",
    "\n",
    "print(numbers)\n"
   ]
  },
  {
   "cell_type": "markdown",
   "id": "a9ba3c9a",
   "metadata": {},
   "source": [
    "json.load() function to load the information stored in numbers.json, and we store it in the variable numbers."
   ]
  },
  {
   "cell_type": "markdown",
   "id": "5715c126",
   "metadata": {},
   "source": [
    "# Saving and Reading User-Generated Data"
   ]
  },
  {
   "cell_type": "code",
   "execution_count": 188,
   "id": "edac750a",
   "metadata": {},
   "outputs": [
    {
     "name": "stdout",
     "output_type": "stream",
     "text": [
      "We'll remember you when you come back, Mr. Powers!\n"
     ]
    }
   ],
   "source": [
    "name = input(\"What is your name? \")\n",
    "filename = 'username.json'\n",
    "with open(filename, 'w') as f:\n",
    "    json.dump(name, f)\n",
    "    print(\"We'll remember you when you come back, \" + name + \"!\")"
   ]
  },
  {
   "cell_type": "code",
   "execution_count": 189,
   "id": "c22b39ed",
   "metadata": {},
   "outputs": [
    {
     "name": "stdout",
     "output_type": "stream",
     "text": [
      "Welcome back, Mr. Powers!\n"
     ]
    }
   ],
   "source": [
    "filename = 'username.json'\n",
    "\n",
    "with open(filename) as f:\n",
    "    username = json.load(f)\n",
    "    print(\"Welcome back, \" + username + \"!\")"
   ]
  },
  {
   "cell_type": "markdown",
   "id": "b428ee80",
   "metadata": {},
   "source": [
    "Lets combine everything"
   ]
  },
  {
   "cell_type": "code",
   "execution_count": 190,
   "id": "36dc1d52",
   "metadata": {},
   "outputs": [],
   "source": [
    "def my_name():\n",
    "    \"\"\"Prompt user for there name and then return it.\"\"\"\n",
    "    import json\n",
    "    \n",
    "    filename = 'username.json'\n",
    "    \n",
    "    try: # try to open the file create new file if not found\n",
    "        with open(filename) as f:\n",
    "            username = json.load(f)\n",
    "    except FileNotFoundError: #if file is not found prompt user and save file.\n",
    "        username = input(\"What is your name? \")\n",
    "        with open(filename, 'w') as f:\n",
    "            json.dump(username, f)\n",
    "            print(\"We'll remember you when you come back, \" + username + \"!\")\n",
    "    else:\n",
    "        print(\"Welcome back, \" + username + \"!\")"
   ]
  },
  {
   "cell_type": "code",
   "execution_count": 192,
   "id": "f41e2266",
   "metadata": {},
   "outputs": [
    {
     "name": "stdout",
     "output_type": "stream",
     "text": [
      "We'll remember you when you come back, Mr. Bill!\n"
     ]
    }
   ],
   "source": [
    "my_name()"
   ]
  },
  {
   "cell_type": "markdown",
   "id": "5e747263",
   "metadata": {},
   "source": [
    " ## Key Words\n",
    "- Serialization: The process of encoding JSON\n",
    "    - This term refers to the transformation of data into a series of bytes (hence serial) to be stored or transmitted across a network. \n",
    "\n",
    "- Deserialization: The process of decoding data that has been stored or delivered in the JSON standard. "
   ]
  },
  {
   "cell_type": "markdown",
   "id": "8b5b1092",
   "metadata": {},
   "source": [
    "## Lets do some work with JSON"
   ]
  },
  {
   "cell_type": "code",
   "execution_count": 193,
   "id": "7cd06f29",
   "metadata": {},
   "outputs": [
    {
     "name": "stdout",
     "output_type": "stream",
     "text": [
      "[{'superhero': 'Batman', 'publisher': 'DC Comics', 'alter_ego': 'Bruce Wayne', 'first_appearance': 'Detective Comics #27', 'characters': 'Bruce Wayne'}, {'superhero': 'Superman', 'publisher': 'DC Comics', 'alter_ego': 'Kal-El', 'first_appearance': 'Action Comics #1', 'characters': 'Kal-El'}, {'superhero': 'Flash', 'publisher': 'DC Comics', 'alter_ego': 'Jay Garrick', 'first_appearance': 'Flash Comics #1', 'characters': 'Jay Garrick, Barry Allen, Wally West, Bart Allen'}, {'superhero': 'Green Lantern', 'publisher': 'DC Comics', 'alter_ego': 'Alan Scott', 'first_appearance': 'All-American Comics #16', 'characters': 'Alan Scott, Hal Jordan, Guy Gardner, John Stewart, Kyle Raynor, Jade, Sinestro, Simon Baz'}, {'superhero': 'Green Arrow', 'publisher': 'DC Comics', 'alter_ego': 'Oliver Queen', 'first_appearance': 'More Fun Comics #73', 'characters': 'Oliver Queen'}, {'superhero': 'Wonder Woman', 'publisher': 'DC Comics', 'alter_ego': 'Princess Diana', 'first_appearance': 'All Star Comics #8', 'characters': 'Princess Diana'}, {'superhero': 'Martian Manhunter', 'publisher': 'DC Comics', 'alter_ego': \"J'onn J'onzz\", 'first_appearance': 'Detective Comics #225', 'characters': 'Martian Manhunter'}, {'superhero': 'Robin/Nightwing', 'publisher': 'DC Comics', 'alter_ego': 'Dick Grayson', 'first_appearance': 'Detective Comics #38', 'characters': 'Dick Grayson'}, {'superhero': 'Blue Beetle', 'publisher': 'DC Comics', 'alter_ego': 'Dan Garret', 'first_appearance': 'Mystery Men Comics #1', 'characters': 'Dan Garret, Ted Kord, Jaime Reyes'}, {'superhero': 'Black Canary', 'publisher': 'DC Comics', 'alter_ego': 'Dinah Drake', 'first_appearance': 'Flash Comics #86', 'characters': 'Dinah Drake, Dinah Lance'}, {'superhero': 'Spider Man', 'publisher': 'Marvel Comics', 'alter_ego': 'Peter Parker', 'first_appearance': 'Amazing Fantasy #15', 'characters': 'Peter Parker'}, {'superhero': 'Captain America', 'publisher': 'Marvel Comics', 'alter_ego': 'Steve Rogers', 'first_appearance': 'Captain America Comics #1', 'characters': 'Steve Rogers'}, {'superhero': 'Iron Man', 'publisher': 'Marvel Comics', 'alter_ego': 'Tony Stark', 'first_appearance': 'Tales of Suspense #39', 'characters': 'Tony Stark'}, {'superhero': 'Thor', 'publisher': 'Marvel Comics', 'alter_ego': 'Thor Odinson', 'first_appearance': 'Journey into Myster #83', 'characters': 'Thor Odinson'}, {'superhero': 'Hulk', 'publisher': 'Marvel Comics', 'alter_ego': 'Bruce Banner', 'first_appearance': 'The Incredible Hulk #1', 'characters': 'Bruce Banner'}, {'superhero': 'Wolverine', 'publisher': 'Marvel Comics', 'alter_ego': 'James Howlett', 'first_appearance': 'The Incredible Hulk #180', 'characters': 'James Howlett'}, {'superhero': 'Daredevil', 'publisher': 'Marvel Comics', 'alter_ego': 'Matthew Michael Murdock', 'first_appearance': 'Daredevil #1', 'characters': 'Matthew Michael Murdock'}, {'superhero': 'Hawkeye', 'publisher': 'Marvel Comics', 'alter_ego': 'Clinton Francis Barton', 'first_appearance': 'Tales of Suspense #57', 'characters': 'Clinton Francis Barton'}, {'superhero': 'Cyclops', 'publisher': 'Marvel Comics', 'alter_ego': 'Scott Summers', 'first_appearance': 'X-Men #1', 'characters': 'Scott Summers'}, {'superhero': 'Silver Surfer', 'publisher': 'Marvel Comics', 'alter_ego': 'Norrin Radd', 'first_appearance': 'The Fantastic Four #48', 'characters': 'Norrin Radd'}]\n"
     ]
    }
   ],
   "source": [
    "with open('superheros.json') as f:\n",
    "    superheros = json.load(f)\n",
    "print(superheros)"
   ]
  },
  {
   "cell_type": "code",
   "execution_count": 194,
   "id": "e69ff305",
   "metadata": {},
   "outputs": [
    {
     "name": "stdout",
     "output_type": "stream",
     "text": [
      "[\n",
      "  {\n",
      "    \"superhero\": \"Batman\",\n",
      "    \"publisher\": \"DC Comics\",\n",
      "    \"alter_ego\": \"Bruce Wayne\",\n",
      "    \"first_appearance\": \"Detective Comics #27\",\n",
      "    \"characters\": \"Bruce Wayne\"\n",
      "  },\n",
      "  {\n",
      "    \"superhero\": \"Superman\",\n",
      "    \"publisher\": \"DC Comics\",\n",
      "    \"alter_ego\": \"Kal-El\",\n",
      "    \"first_appearance\": \"Action Comics #1\",\n",
      "    \"characters\": \"Kal-El\"\n",
      "  },\n",
      "  {\n",
      "    \"superhero\": \"Flash\",\n",
      "    \"publisher\": \"DC Comics\",\n",
      "    \"alter_ego\": \"Jay Garrick\",\n",
      "    \"first_appearance\": \"Flash Comics #1\",\n",
      "    \"characters\": \"Jay Garrick, Barry Allen, Wally West, Bart Allen\"\n",
      "  },\n",
      "  {\n",
      "    \"superhero\": \"Green Lantern\",\n",
      "    \"publisher\": \"DC Comics\",\n",
      "    \"alter_ego\": \"Alan Scott\",\n",
      "    \"first_appearance\": \"All-American Comics #16\",\n",
      "    \"characters\": \"Alan Scott, Hal Jordan, Guy Gardner, John Stewart, Kyle Raynor, Jade, Sinestro, Simon Baz\"\n",
      "  },\n",
      "  {\n",
      "    \"superhero\": \"Green Arrow\",\n",
      "    \"publisher\": \"DC Comics\",\n",
      "    \"alter_ego\": \"Oliver Queen\",\n",
      "    \"first_appearance\": \"More Fun Comics #73\",\n",
      "    \"characters\": \"Oliver Queen\"\n",
      "  },\n",
      "  {\n",
      "    \"superhero\": \"Wonder Woman\",\n",
      "    \"publisher\": \"DC Comics\",\n",
      "    \"alter_ego\": \"Princess Diana\",\n",
      "    \"first_appearance\": \"All Star Comics #8\",\n",
      "    \"characters\": \"Princess Diana\"\n",
      "  },\n",
      "  {\n",
      "    \"superhero\": \"Martian Manhunter\",\n",
      "    \"publisher\": \"DC Comics\",\n",
      "    \"alter_ego\": \"J'onn J'onzz\",\n",
      "    \"first_appearance\": \"Detective Comics #225\",\n",
      "    \"characters\": \"Martian Manhunter\"\n",
      "  },\n",
      "  {\n",
      "    \"superhero\": \"Robin/Nightwing\",\n",
      "    \"publisher\": \"DC Comics\",\n",
      "    \"alter_ego\": \"Dick Grayson\",\n",
      "    \"first_appearance\": \"Detective Comics #38\",\n",
      "    \"characters\": \"Dick Grayson\"\n",
      "  },\n",
      "  {\n",
      "    \"superhero\": \"Blue Beetle\",\n",
      "    \"publisher\": \"DC Comics\",\n",
      "    \"alter_ego\": \"Dan Garret\",\n",
      "    \"first_appearance\": \"Mystery Men Comics #1\",\n",
      "    \"characters\": \"Dan Garret, Ted Kord, Jaime Reyes\"\n",
      "  },\n",
      "  {\n",
      "    \"superhero\": \"Black Canary\",\n",
      "    \"publisher\": \"DC Comics\",\n",
      "    \"alter_ego\": \"Dinah Drake\",\n",
      "    \"first_appearance\": \"Flash Comics #86\",\n",
      "    \"characters\": \"Dinah Drake, Dinah Lance\"\n",
      "  },\n",
      "  {\n",
      "    \"superhero\": \"Spider Man\",\n",
      "    \"publisher\": \"Marvel Comics\",\n",
      "    \"alter_ego\": \"Peter Parker\",\n",
      "    \"first_appearance\": \"Amazing Fantasy #15\",\n",
      "    \"characters\": \"Peter Parker\"\n",
      "  },\n",
      "  {\n",
      "    \"superhero\": \"Captain America\",\n",
      "    \"publisher\": \"Marvel Comics\",\n",
      "    \"alter_ego\": \"Steve Rogers\",\n",
      "    \"first_appearance\": \"Captain America Comics #1\",\n",
      "    \"characters\": \"Steve Rogers\"\n",
      "  },\n",
      "  {\n",
      "    \"superhero\": \"Iron Man\",\n",
      "    \"publisher\": \"Marvel Comics\",\n",
      "    \"alter_ego\": \"Tony Stark\",\n",
      "    \"first_appearance\": \"Tales of Suspense #39\",\n",
      "    \"characters\": \"Tony Stark\"\n",
      "  },\n",
      "  {\n",
      "    \"superhero\": \"Thor\",\n",
      "    \"publisher\": \"Marvel Comics\",\n",
      "    \"alter_ego\": \"Thor Odinson\",\n",
      "    \"first_appearance\": \"Journey into Myster #83\",\n",
      "    \"characters\": \"Thor Odinson\"\n",
      "  },\n",
      "  {\n",
      "    \"superhero\": \"Hulk\",\n",
      "    \"publisher\": \"Marvel Comics\",\n",
      "    \"alter_ego\": \"Bruce Banner\",\n",
      "    \"first_appearance\": \"The Incredible Hulk #1\",\n",
      "    \"characters\": \"Bruce Banner\"\n",
      "  },\n",
      "  {\n",
      "    \"superhero\": \"Wolverine\",\n",
      "    \"publisher\": \"Marvel Comics\",\n",
      "    \"alter_ego\": \"James Howlett\",\n",
      "    \"first_appearance\": \"The Incredible Hulk #180\",\n",
      "    \"characters\": \"James Howlett\"\n",
      "  },\n",
      "  {\n",
      "    \"superhero\": \"Daredevil\",\n",
      "    \"publisher\": \"Marvel Comics\",\n",
      "    \"alter_ego\": \"Matthew Michael Murdock\",\n",
      "    \"first_appearance\": \"Daredevil #1\",\n",
      "    \"characters\": \"Matthew Michael Murdock\"\n",
      "  },\n",
      "  {\n",
      "    \"superhero\": \"Hawkeye\",\n",
      "    \"publisher\": \"Marvel Comics\",\n",
      "    \"alter_ego\": \"Clinton Francis Barton\",\n",
      "    \"first_appearance\": \"Tales of Suspense #57\",\n",
      "    \"characters\": \"Clinton Francis Barton\"\n",
      "  },\n",
      "  {\n",
      "    \"superhero\": \"Cyclops\",\n",
      "    \"publisher\": \"Marvel Comics\",\n",
      "    \"alter_ego\": \"Scott Summers\",\n",
      "    \"first_appearance\": \"X-Men #1\",\n",
      "    \"characters\": \"Scott Summers\"\n",
      "  },\n",
      "  {\n",
      "    \"superhero\": \"Silver Surfer\",\n",
      "    \"publisher\": \"Marvel Comics\",\n",
      "    \"alter_ego\": \"Norrin Radd\",\n",
      "    \"first_appearance\": \"The Fantastic Four #48\",\n",
      "    \"characters\": \"Norrin Radd\"\n",
      "  }\n",
      "]\n"
     ]
    }
   ],
   "source": [
    "with open('superheros.json') as f:\n",
    "    superheros = json.load(f)\n",
    "print(json.dumps(superheros, indent=2))"
   ]
  },
  {
   "cell_type": "code",
   "execution_count": 195,
   "id": "7c6fdec5",
   "metadata": {},
   "outputs": [
    {
     "name": "stdout",
     "output_type": "stream",
     "text": [
      "Batman\n",
      "Superman\n",
      "Flash\n",
      "Green Lantern\n",
      "Green Arrow\n",
      "Wonder Woman\n",
      "Martian Manhunter\n",
      "Robin/Nightwing\n",
      "Blue Beetle\n",
      "Black Canary\n",
      "Spider Man\n",
      "Captain America\n",
      "Iron Man\n",
      "Thor\n",
      "Hulk\n",
      "Wolverine\n",
      "Daredevil\n",
      "Hawkeye\n",
      "Cyclops\n",
      "Silver Surfer\n"
     ]
    }
   ],
   "source": [
    "for item in superheros:\n",
    "    print(item[\"superhero\"])\n"
   ]
  },
  {
   "cell_type": "code",
   "execution_count": 196,
   "id": "a0c9b774",
   "metadata": {},
   "outputs": [],
   "source": [
    "with open('donuts.json') as f:\n",
    "    food = json.load(f)"
   ]
  },
  {
   "cell_type": "code",
   "execution_count": 197,
   "id": "1f12d405",
   "metadata": {},
   "outputs": [
    {
     "name": "stdout",
     "output_type": "stream",
     "text": [
      "[\n",
      "  {\n",
      "    \"id\": \"0001\",\n",
      "    \"type\": \"donut\",\n",
      "    \"name\": \"Cake\",\n",
      "    \"ppu\": 0.55,\n",
      "    \"batters\": {\n",
      "      \"batter\": [\n",
      "        {\n",
      "          \"id\": \"1001\",\n",
      "          \"type\": \"Regular\"\n",
      "        },\n",
      "        {\n",
      "          \"id\": \"1002\",\n",
      "          \"type\": \"Chocolate\"\n",
      "        },\n",
      "        {\n",
      "          \"id\": \"1003\",\n",
      "          \"type\": \"Blueberry\"\n",
      "        },\n",
      "        {\n",
      "          \"id\": \"1004\",\n",
      "          \"type\": \"Devil's Food\"\n",
      "        }\n",
      "      ]\n",
      "    },\n",
      "    \"topping\": [\n",
      "      {\n",
      "        \"id\": \"5001\",\n",
      "        \"type\": \"None\"\n",
      "      },\n",
      "      {\n",
      "        \"id\": \"5002\",\n",
      "        \"type\": \"Glazed\"\n",
      "      },\n",
      "      {\n",
      "        \"id\": \"5005\",\n",
      "        \"type\": \"Sugar\"\n",
      "      },\n",
      "      {\n",
      "        \"id\": \"5007\",\n",
      "        \"type\": \"Powdered Sugar\"\n",
      "      },\n",
      "      {\n",
      "        \"id\": \"5006\",\n",
      "        \"type\": \"Chocolate with Sprinkles\"\n",
      "      },\n",
      "      {\n",
      "        \"id\": \"5003\",\n",
      "        \"type\": \"Chocolate\"\n",
      "      },\n",
      "      {\n",
      "        \"id\": \"5004\",\n",
      "        \"type\": \"Maple\"\n",
      "      }\n",
      "    ]\n",
      "  },\n",
      "  {\n",
      "    \"id\": \"0002\",\n",
      "    \"type\": \"donut\",\n",
      "    \"name\": \"Raised\",\n",
      "    \"ppu\": 0.55,\n",
      "    \"batters\": {\n",
      "      \"batter\": [\n",
      "        {\n",
      "          \"id\": \"1001\",\n",
      "          \"type\": \"Regular\"\n",
      "        }\n",
      "      ]\n",
      "    },\n",
      "    \"topping\": [\n",
      "      {\n",
      "        \"id\": \"5001\",\n",
      "        \"type\": \"None\"\n",
      "      },\n",
      "      {\n",
      "        \"id\": \"5002\",\n",
      "        \"type\": \"Glazed\"\n",
      "      },\n",
      "      {\n",
      "        \"id\": \"5005\",\n",
      "        \"type\": \"Sugar\"\n",
      "      },\n",
      "      {\n",
      "        \"id\": \"5003\",\n",
      "        \"type\": \"Chocolate\"\n",
      "      },\n",
      "      {\n",
      "        \"id\": \"5004\",\n",
      "        \"type\": \"Maple\"\n",
      "      }\n",
      "    ]\n",
      "  },\n",
      "  {\n",
      "    \"id\": \"0003\",\n",
      "    \"type\": \"donut\",\n",
      "    \"name\": \"Old Fashioned\",\n",
      "    \"ppu\": 0.55,\n",
      "    \"batters\": {\n",
      "      \"batter\": [\n",
      "        {\n",
      "          \"id\": \"1001\",\n",
      "          \"type\": \"Regular\"\n",
      "        },\n",
      "        {\n",
      "          \"id\": \"1002\",\n",
      "          \"type\": \"Chocolate\"\n",
      "        }\n",
      "      ]\n",
      "    },\n",
      "    \"topping\": [\n",
      "      {\n",
      "        \"id\": \"5001\",\n",
      "        \"type\": \"None\"\n",
      "      },\n",
      "      {\n",
      "        \"id\": \"5002\",\n",
      "        \"type\": \"Glazed\"\n",
      "      },\n",
      "      {\n",
      "        \"id\": \"5003\",\n",
      "        \"type\": \"Chocolate\"\n",
      "      },\n",
      "      {\n",
      "        \"id\": \"5004\",\n",
      "        \"type\": \"Maple\"\n",
      "      }\n",
      "    ]\n",
      "  }\n",
      "]\n"
     ]
    }
   ],
   "source": [
    "print(json.dumps(food, indent=2))"
   ]
  },
  {
   "cell_type": "code",
   "execution_count": 198,
   "id": "2551735e",
   "metadata": {},
   "outputs": [
    {
     "name": "stdout",
     "output_type": "stream",
     "text": [
      "Regular\n",
      "Chocolate\n",
      "Blueberry\n",
      "Devil's Food\n",
      "Regular\n",
      "Regular\n",
      "Chocolate\n"
     ]
    }
   ],
   "source": [
    "for items in food:\n",
    "    for item in items['batters']['batter']:\n",
    "        print(item['type'])"
   ]
  },
  {
   "cell_type": "code",
   "execution_count": null,
   "id": "d1a087a5",
   "metadata": {},
   "outputs": [],
   "source": []
  },
  {
   "cell_type": "code",
   "execution_count": 1,
   "id": "24c4b05d",
   "metadata": {},
   "outputs": [
    {
     "name": "stdout",
     "output_type": "stream",
     "text": [
      "John\n",
      "John\n"
     ]
    }
   ],
   "source": [
    "class Player:\n",
    "    def __init__(self, name):\n",
    "        self.name = name\n",
    "\n",
    "class Team:\n",
    "    def __init__(self, player):\n",
    "        self.player = player\n",
    "\n",
    "    def change_player_name(self, new_name):\n",
    "        self.player.name = new_name\n",
    "\n",
    "# Creating an instance of Player\n",
    "player_instance = Player(\"Bill\")\n",
    "\n",
    "# Creating an instance of Team with the player_instance\n",
    "team_instance = Team(player_instance)\n",
    "\n",
    "# Changing the name attribute of the player instance using the method\n",
    "team_instance.change_player_name(\"John\")\n",
    "\n",
    "print(team_instance.player.name)  # Output: John\n",
    "print(player_instance.name)       # Output: John"
   ]
  },
  {
   "cell_type": "markdown",
   "id": "27fc8244",
   "metadata": {},
   "source": []
  }
 ],
 "metadata": {
  "kernelspec": {
   "display_name": "Python 3",
   "language": "python",
   "name": "python3"
  },
  "language_info": {
   "codemirror_mode": {
    "name": "ipython",
    "version": 3
   },
   "file_extension": ".py",
   "mimetype": "text/x-python",
   "name": "python",
   "nbconvert_exporter": "python",
   "pygments_lexer": "ipython3",
   "version": "3.12.3"
  }
 },
 "nbformat": 4,
 "nbformat_minor": 5
}
