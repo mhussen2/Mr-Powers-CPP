{
 "cells": [
  {
   "cell_type": "markdown",
   "id": "021ec0b5",
   "metadata": {},
   "source": [
    "# Asynchronous Programing\n",
    "\n",
    "The Async keyword when used before a def statment defined a new coroutine.\n",
    "\n",
    "A coroutine can be suspended or exicuted at predefined circumstances.\n",
    "\n",
    "Asynchronous tasks do not all run at the same time but insted when idle will allow for another process to run also\n",
    "\n",
    "This is called cooperative.\n",
    "\n",
    "Cooperative multitasking is on the application level and does not deal with threads or processes that need to release control.\n",
    "\n"
   ]
  },
  {
   "cell_type": "code",
   "execution_count": null,
   "id": "6c9c1b85",
   "metadata": {},
   "outputs": [],
   "source": [
    "import asyncio \n",
    "import nest_asyncio # this will fix the iPython unable to perform Asynchronous tasks\n",
    "nest_asyncio.apply()\n",
    "async def async_hello():\n",
    "    print(\"hello, world\")\n"
   ]
  },
  {
   "cell_type": "code",
   "execution_count": null,
   "id": "becadad3",
   "metadata": {},
   "outputs": [],
   "source": [
    "async_hello()"
   ]
  },
  {
   "cell_type": "markdown",
   "id": "d5ec9d7d",
   "metadata": {},
   "source": [
    "As you can see an async gives an output like a generator/functional program. As you can guess it also does not do anything untill execution is scheduled. \n",
    "\n",
    "The event loop is the core of every asyncio application. Event loops run asynchronous tasks and callbacks, perform network IO operations, and run subprocesses.\n",
    "\n",
    "Application developers should typically use the high-level asyncio functions, such as asyncio.run(), and should rarely need to reference the loop object or call its methods. This section is intended mostly for authors of lower-level code, libraries, and frameworks, who need finer control over the event loop behavior."
   ]
  },
  {
   "cell_type": "code",
   "execution_count": null,
   "id": "ebe70ec2",
   "metadata": {},
   "outputs": [],
   "source": [
    "loop = asyncio.get_event_loop()\n",
    "loop.run_until_complete(async_hello())"
   ]
  },
  {
   "cell_type": "markdown",
   "id": "d84ecfcd",
   "metadata": {},
   "source": [
    "Lets make it a little more complecated to observe closer on what is going on."
   ]
  },
  {
   "cell_type": "code",
   "execution_count": null,
   "id": "034ea135",
   "metadata": {},
   "outputs": [],
   "source": [
    "import asyncio\n",
    "\n",
    "async def print_number(number):\n",
    "    print(number)\n",
    "\n",
    "loop = asyncio.get_event_loop() #setup a loop\n",
    "\n",
    "loop.run_until_complete( # run the loop\n",
    "    await asyncio.wait(\n",
    "        print_number(number)\n",
    "        for number in range(10)\n",
    "    )\n",
    ")\n",
    "loop.close() #needed when not using nest_asyncio"
   ]
  },
  {
   "cell_type": "markdown",
   "id": "7717c318",
   "metadata": {},
   "source": [
    "asyncio.wait() is a function that accepts a list of coroutine objects and returns immediately. \n",
    "asyncio.wait() results are a generator and in this case is called futures\n",
    "\n"
   ]
  },
  {
   "cell_type": "code",
   "execution_count": null,
   "id": "8c1d133b",
   "metadata": {},
   "outputs": [],
   "source": [
    "import time\n",
    "async def waits(name): \n",
    "    for i in range(4):\n",
    "        print(\"waited in \",i,\" \",name)\n",
    "        #time.sleep(1)\n",
    "        await asyncio.sleep(2)\n",
    "        #print(\"{} waited\"\"\".format(name))\n",
    "\n",
    "async def worker():\n",
    "        #await asyncio.wait([waits(\"first\"),waits(\"second\")]) #Old way\n",
    "        await asyncio.wait([ #this is the correct way to call asyncio as of 3.8\n",
    "            asyncio.create_task(waits(\"first\")),\n",
    "            asyncio.create_task(waits(\"second\")),\n",
    "            asyncio.create_task(waits(\"third\")),\n",
    "            asyncio.create_task(waits(\"forth\")),\n",
    "            asyncio.create_task(waits(\"fith\")),\n",
    "\n",
    "        ])\n",
    "loop = asyncio.get_event_loop()\n",
    "a = time.time()\n",
    "loop.run_until_complete(worker())\n",
    "print(time.time()-a)\n",
    "#loop.close()"
   ]
  },
  {
   "cell_type": "code",
   "execution_count": null,
   "id": "1846b2f7",
   "metadata": {},
   "outputs": [],
   "source": [
    "pip install aiohttp"
   ]
  },
  {
   "cell_type": "code",
   "execution_count": null,
   "id": "b381ef7a",
   "metadata": {},
   "outputs": [],
   "source": [
    "import asyncio\n",
    "\n",
    "async def print_numbers():\n",
    "    for i in range(1, 5):\n",
    "        print(i)\n",
    "        time.sleep(1)\n",
    "        #await asyncio.sleep(1)\n",
    "\n",
    "async def main():\n",
    "    task1 = asyncio.create_task(print_numbers())\n",
    "    task2 = asyncio.create_task(print_numbers())\n",
    "    await task1\n",
    "    await task2\n",
    "\n",
    "asyncio.run(main())"
   ]
  },
  {
   "cell_type": "code",
   "execution_count": null,
   "id": "5d828392",
   "metadata": {},
   "outputs": [],
   "source": [
    "import asyncio\n",
    "\n",
    "async def print_numbers():\n",
    "    for i in range(1, 11):\n",
    "        print(i)\n",
    "        await asyncio.sleep(1)\n",
    "        #time.sleep(1)\n",
    "\n",
    "async def main():\n",
    "    task1 = asyncio.create_task(print_numbers())\n",
    "    task2 = asyncio.create_task(print_numbers())\n",
    "\n",
    "asyncio.run(main())"
   ]
  },
  {
   "cell_type": "code",
   "execution_count": 1,
   "id": "23bf11e4",
   "metadata": {},
   "outputs": [
    {
     "ename": "RuntimeError",
     "evalue": "asyncio.run() cannot be called from a running event loop",
     "output_type": "error",
     "traceback": [
      "\u001b[0;31m---------------------------------------------------------------------------\u001b[0m",
      "\u001b[0;31mRuntimeError\u001b[0m                              Traceback (most recent call last)",
      "Cell \u001b[0;32mIn[1], line 25\u001b[0m\n\u001b[1;32m     22\u001b[0m     \u001b[38;5;28;01mfor\u001b[39;00m rate \u001b[38;5;129;01min\u001b[39;00m rates:\n\u001b[1;32m     23\u001b[0m         \u001b[38;5;28mprint\u001b[39m(\u001b[38;5;124mf\u001b[39m\u001b[38;5;124m\"\u001b[39m\u001b[38;5;132;01m{\u001b[39;00mrate\u001b[38;5;132;01m}\u001b[39;00m\u001b[38;5;124m: \u001b[39m\u001b[38;5;132;01m{\u001b[39;00mdata\u001b[38;5;241m.\u001b[39mget(rate,\u001b[38;5;250m \u001b[39m{})\u001b[38;5;241m.\u001b[39mget(\u001b[38;5;124m'\u001b[39m\u001b[38;5;124mrate\u001b[39m\u001b[38;5;124m'\u001b[39m,\u001b[38;5;250m \u001b[39m\u001b[38;5;124m'\u001b[39m\u001b[38;5;124mN/A\u001b[39m\u001b[38;5;124m'\u001b[39m)\u001b[38;5;132;01m}\u001b[39;00m\u001b[38;5;124m\"\u001b[39m)\n\u001b[0;32m---> 25\u001b[0m \u001b[43masyncio\u001b[49m\u001b[38;5;241;43m.\u001b[39;49m\u001b[43mrun\u001b[49m\u001b[43m(\u001b[49m\u001b[43mmain\u001b[49m\u001b[43m(\u001b[49m\u001b[43m)\u001b[49m\u001b[43m)\u001b[49m\n",
      "File \u001b[0;32m/usr/lib/python3.12/asyncio/runners.py:190\u001b[0m, in \u001b[0;36mrun\u001b[0;34m(main, debug, loop_factory)\u001b[0m\n\u001b[1;32m    161\u001b[0m \u001b[38;5;250m\u001b[39m\u001b[38;5;124;03m\"\"\"Execute the coroutine and return the result.\u001b[39;00m\n\u001b[1;32m    162\u001b[0m \n\u001b[1;32m    163\u001b[0m \u001b[38;5;124;03mThis function runs the passed coroutine, taking care of\u001b[39;00m\n\u001b[0;32m   (...)\u001b[0m\n\u001b[1;32m    186\u001b[0m \u001b[38;5;124;03m    asyncio.run(main())\u001b[39;00m\n\u001b[1;32m    187\u001b[0m \u001b[38;5;124;03m\"\"\"\u001b[39;00m\n\u001b[1;32m    188\u001b[0m \u001b[38;5;28;01mif\u001b[39;00m events\u001b[38;5;241m.\u001b[39m_get_running_loop() \u001b[38;5;129;01mis\u001b[39;00m \u001b[38;5;129;01mnot\u001b[39;00m \u001b[38;5;28;01mNone\u001b[39;00m:\n\u001b[1;32m    189\u001b[0m     \u001b[38;5;66;03m# fail fast with short traceback\u001b[39;00m\n\u001b[0;32m--> 190\u001b[0m     \u001b[38;5;28;01mraise\u001b[39;00m \u001b[38;5;167;01mRuntimeError\u001b[39;00m(\n\u001b[1;32m    191\u001b[0m         \u001b[38;5;124m\"\u001b[39m\u001b[38;5;124masyncio.run() cannot be called from a running event loop\u001b[39m\u001b[38;5;124m\"\u001b[39m)\n\u001b[1;32m    193\u001b[0m \u001b[38;5;28;01mwith\u001b[39;00m Runner(debug\u001b[38;5;241m=\u001b[39mdebug, loop_factory\u001b[38;5;241m=\u001b[39mloop_factory) \u001b[38;5;28;01mas\u001b[39;00m runner:\n\u001b[1;32m    194\u001b[0m     \u001b[38;5;28;01mreturn\u001b[39;00m runner\u001b[38;5;241m.\u001b[39mrun(main)\n",
      "\u001b[0;31mRuntimeError\u001b[0m: asyncio.run() cannot be called from a running event loop"
     ]
    }
   ],
   "source": [
    "import asyncio\n",
    "import aiohttp\n",
    "import time\n",
    "\n",
    "rates = ['eur','jpy','usd','rub','cad']\n",
    "bases = ['eur','jpy','usd','rub','cad']\n",
    "\n",
    "async def fetch_data(bases):           \n",
    "    web = \"http://www.floatrates.com/daily/\"+str(bases)+\".json\"\n",
    "    print(web)\n",
    "    async with aiohttp.ClientSession() as session:\n",
    "        async with session.get(web) as response:\n",
    "            data = await response.json()          \n",
    "            data[bases]= {'rate':1}\n",
    "            return data\n",
    "    \n",
    "async def main():\n",
    "    a = time.time()\n",
    "    data = [await fetch_data(base) for base in bases]\n",
    "    print(time.time()-a)\n",
    "    datas = data[0]\n",
    "    for rate in rates:\n",
    "        print(str(rate) +' '+ str(datas[rate]['rate']))\n",
    "    print(time.time()-a)\n",
    "\n",
    "asyncio.run(main())"
   ]
  }
 ],
 "metadata": {
  "kernelspec": {
   "display_name": "Python 3",
   "language": "python",
   "name": "python3"
  },
  "language_info": {
   "codemirror_mode": {
    "name": "ipython",
    "version": 3
   },
   "file_extension": ".py",
   "mimetype": "text/x-python",
   "name": "python",
   "nbconvert_exporter": "python",
   "pygments_lexer": "ipython3",
   "version": "3.12.3"
  }
 },
 "nbformat": 4,
 "nbformat_minor": 5
}
