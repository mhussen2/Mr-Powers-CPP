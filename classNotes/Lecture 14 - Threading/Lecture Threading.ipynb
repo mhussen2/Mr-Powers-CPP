{
 "cells": [
  {
   "cell_type": "markdown",
   "id": "f949a9e6",
   "metadata": {},
   "source": [
    "# Threading\n",
    " Threading is the ability to have python perform one or more function at the same time independently from the rest of the program. \n",
    " Python threads are OS threads therefore they run cooperatively (runs in a way that involves mutual assistance in working towards a common goal).\n",
    " \n",
    "## Advantages\n",
    "- Well understood so easy to implement\n",
    "- Increase speed\n",
    "\n",
    "## Disadvantages\n",
    "- not designed for CPU intensive tasks\n",
    "    - due to the cooperative nature of the tasks the CPU will need to pause the runtime to switch to another tread that is a higher priority then return to the python task. \n",
    "- The programer is responsible for managing states between treads.\n",
    "    - Think performing actions on the data being processed in the treads. Ie saving the object after the threads run. "
   ]
  },
  {
   "cell_type": "markdown",
   "id": "5a12cb74",
   "metadata": {},
   "source": [
    "## The basic setup of a threading"
   ]
  },
  {
   "cell_type": "markdown",
   "id": "4b244710",
   "metadata": {},
   "source": [
    "**start()**: Start the thread.\n",
    "``` python\n",
    "thread = threading.Thread(target=<FUNCTION>)\n",
    "thread.start()\n",
    "```\n"
   ]
  },
  {
   "cell_type": "code",
   "execution_count": null,
   "id": "8eddd6c8",
   "metadata": {},
   "outputs": [],
   "source": [
    "import threading\n",
    "import time\n",
    "\n",
    "def print_numbers():\n",
    "    for i in range(5):\n",
    "        print(f\"Number: {i}\")\n",
    "        time.sleep(1)\n",
    "\n",
    "thread = threading.Thread(target=print_numbers)\n",
    "thread.start()\n",
    "for i in range(5):\n",
    "    print(\"Main thread continues to run...\")\n",
    "    time.sleep(1)"
   ]
  },
  {
   "cell_type": "markdown",
   "id": "9de13b0f",
   "metadata": {},
   "source": [
    "**join()**: Wait for the thread to complete.\n",
    "\n",
    "``` python\n",
    "for thread in threads:\n",
    "    thread.join()\n",
    "```"
   ]
  },
  {
   "cell_type": "code",
   "execution_count": null,
   "id": "46fda7a2",
   "metadata": {},
   "outputs": [],
   "source": [
    "import threading\n",
    "import time\n",
    "import random\n",
    "\n",
    "def worker(task_id):\n",
    "    print(f\"Thread-{task_id} starting\")\n",
    "    time.sleep(random.randint(1,4)) # run for a random time to illistrate threads can end at different times\n",
    "    print(f\"Thread-{task_id} finished\")\n",
    "\n",
    "# Creating threads\n",
    "threads = []\n",
    "for i in range(5):\n",
    "    thread = threading.Thread(target=worker, args=(i,))\n",
    "    threads.append(thread)\n",
    "    thread.start()\n",
    "\n",
    "#this will run\n",
    "for i in range(5):\n",
    "    print(\"Main thread continues to run...\")\n",
    "    time.sleep(1)\n",
    "\n",
    "# Joining threads tells the code to wait \n",
    "for thread in threads:\n",
    "    thread.join()\n",
    "\n",
    "#will run after \n",
    "print(\"All threads have completed.\")\n"
   ]
  },
  {
   "cell_type": "markdown",
   "id": "58c6d563",
   "metadata": {},
   "source": [
    "## Thread safety"
   ]
  },
  {
   "cell_type": "markdown",
   "id": "e335d3a8",
   "metadata": {},
   "source": [
    "**lock()**: Used when threads access shared resources, synchronization is essential to prevent race conditions. The Lock object is a common tool for achieving thread safety.\n",
    "\n",
    "``` python\n",
    "lock = threading.Lock()\n",
    "\n",
    "def function():\n",
    "    with lock:\n",
    "        #code\n",
    "```"
   ]
  },
  {
   "cell_type": "code",
   "execution_count": null,
   "id": "d49aaf8c",
   "metadata": {},
   "outputs": [],
   "source": [
    "lock = threading.Lock()\n",
    "\n",
    "def safe_print(lock):\n",
    "    with lock:\n",
    "        print(\"This is thread-safe.\")\n",
    "\n",
    "safe_print(lock)"
   ]
  },
  {
   "cell_type": "code",
   "execution_count": null,
   "id": "e03da0b7",
   "metadata": {},
   "outputs": [],
   "source": [
    "lock = threading.Lock()\n",
    "counter = 0\n",
    "task = 0\n",
    "\n",
    "def increment():\n",
    "    global counter\n",
    "    global task\n",
    "    with lock:  # Lock ensures only one thread modifies the counter at a time\n",
    "       # print(thread.getName)\n",
    "        task+=1\n",
    "        time.sleep(0.1)  # Simulate some work\n",
    "        counter += task\n",
    "\n",
    "def increment_Unsafe():\n",
    "    global counter\n",
    "    global task\n",
    "    task+=1\n",
    "    time.sleep(0.1)  # Simulate some work\n",
    "    counter += task\n",
    "    \n",
    "\n",
    "#create 10 threads\n",
    "threads = [threading.Thread(target=increment_Unsafe) for _ in range(10)]\n",
    "for thread in threads:\n",
    "    thread.start()\n",
    "#hold untill all the threads are done\n",
    "for thread in threads:\n",
    "    thread.join()\n",
    "\n",
    "print(f\"Final counter value: {counter}\")\n"
   ]
  },
  {
   "cell_type": "markdown",
   "id": "e23d7309",
   "metadata": {},
   "source": [
    "## Lets look at an example to see performance\n",
    "The following code will read a json file from the web page floatrates"
   ]
  },
  {
   "cell_type": "markdown",
   "id": "413d03de",
   "metadata": {},
   "source": [
    "### The old way"
   ]
  },
  {
   "cell_type": "code",
   "execution_count": null,
   "id": "63fb8720",
   "metadata": {},
   "outputs": [],
   "source": [
    "import threading\n",
    "import requests\n",
    "import json\n",
    "import time\n",
    "\n",
    "URL = \"https://www.floatrates.com/daily/usd.json\"\n",
    "response = requests.get(URL)\n",
    "print(json.dumps(response.json()['jpy'], indent = 2))\n",
    "threading.active_count()"
   ]
  },
  {
   "cell_type": "code",
   "execution_count": null,
   "id": "46dcffe9",
   "metadata": {},
   "outputs": [],
   "source": [
    "rates = ['eur','jpy','usd','rub','cad']\n",
    "bases = ['eur','jpy','usd','rub','cad']\n"
   ]
  },
  {
   "cell_type": "code",
   "execution_count": null,
   "id": "6f88c57e",
   "metadata": {},
   "outputs": [],
   "source": [
    "#define a function for the rest of the notbook to use\n",
    "def fetch_rate(bases, symbols =['eur','jpy','usd'], timing = False, output = False):\n",
    "    \"\"\"\n",
    "    A function to fetch the conversion rate of a given input\n",
    "    Takes in the desired base currentcey and outputs the given\n",
    "    conversion rate to supplied symbol\"\"\"\n",
    "    \n",
    "    #setup up time for deminstration\n",
    "    if timing:\n",
    "        a = time.time()\n",
    "    if output:\n",
    "        print(\"Current active threads: \"+str(threading.active_count()))\n",
    "\n",
    "    # Run the main part of the function to get the rates\n",
    "    web = \"http://www.floatrates.com/daily/\"+str(bases)+\".json\"\n",
    "    response = requests.get(web)\n",
    "    rate = response.json()\n",
    "    rate[bases]= {'rate':1}\n",
    "    \n",
    "    #create a line to output the rate\n",
    "    if output: \n",
    "        print_rates(bases,rate, symbols)\n",
    "    if timing:\n",
    "        print(\"Time Elapsed in Thread:  {:.02f}s\\n\".format((time.time()-a)))\n",
    "    \n",
    "\n",
    "\n",
    "def print_rates(base, rate, symbols):\n",
    "    rates_line = \", \".join(\n",
    "        [f\"{symbol}{float(rate[symbol]['rate']):10.04}\" \n",
    "         for symbol in symbols]\n",
    "    )\n",
    "    print(f\"{base} = {rates_line}\")"
   ]
  },
  {
   "cell_type": "code",
   "execution_count": null,
   "id": "b555f182",
   "metadata": {},
   "outputs": [],
   "source": [
    "# running the function without threads\n",
    "a= time.time()\n",
    "\n",
    "for base in bases:\n",
    "    fetch_rate(base, rates, True, True)\n",
    "    \n",
    "print(\"Total Time without threads Elapsed:  {:.02f}s\".format(time.time()-a))\n"
   ]
  },
  {
   "cell_type": "markdown",
   "id": "f23d2ef1",
   "metadata": {},
   "source": [
    "    Notice the above time it took to get the \"current active threads is the total number of threads my computer is running"
   ]
  },
  {
   "cell_type": "markdown",
   "id": "2df688ed",
   "metadata": {},
   "source": [
    "### Now lets run it as a threaded process:"
   ]
  },
  {
   "cell_type": "code",
   "execution_count": null,
   "id": "89bb2220",
   "metadata": {},
   "outputs": [],
   "source": [
    "def threaded(debug=False):\n",
    "    threads = []\n",
    "    for base in bases:\n",
    "        thread = threading.Thread(target=fetch_rate, args=(base, rates, debug, debug))\n",
    "        thread.start()\n",
    "        threads.append(thread)\n",
    "\n",
    "    for thread in threads:\n",
    "        thread.join()    "
   ]
  },
  {
   "cell_type": "code",
   "execution_count": null,
   "id": "cff8740d",
   "metadata": {},
   "outputs": [],
   "source": [
    "\n",
    "a= time.time()\n",
    "threaded(True)\n",
    "print(\"Total Time with threads Elapsed:  {:.02f}s\".format(time.time()-a))"
   ]
  },
  {
   "cell_type": "markdown",
   "id": "5e86bc44",
   "metadata": {},
   "source": [
    "    Running it combined"
   ]
  },
  {
   "cell_type": "code",
   "execution_count": null,
   "id": "6e118141",
   "metadata": {
    "scrolled": true
   },
   "outputs": [],
   "source": [
    "rates = ['eur','jpy','usd','rub','cad']\n",
    "bases = ['eur','jpy','usd','rub','cad']\n",
    "#bases = ['eur', 'gbp', 'aud', 'chf', 'cad', 'kes', 'bhd', 'egp', 'krw', 'cop', 'bbd', 'djf', 'hnl', 'ugx']"
   ]
  },
  {
   "cell_type": "code",
   "execution_count": null,
   "id": "ab0b3c66",
   "metadata": {},
   "outputs": [],
   "source": [
    "\n",
    "a= time.time()\n",
    "\n",
    "for base in bases:\n",
    "    fetch_rate(base, rates)\n",
    "    \n",
    "print(\"Total Time without threads Elapsed:  {:.02f}s\".format(time.time()-a))\n",
    "\n",
    "a= time.time()\n",
    "threaded()\n",
    "print(\"----------------\")\n",
    "print(\"Total Time with threads Elapsed:  {:.02f}s\".format(time.time()-a))\n"
   ]
  },
  {
   "cell_type": "markdown",
   "id": "0a6ca4a5",
   "metadata": {},
   "source": [
    "## Thread Pool\n",
    "A thread pool is an approach to solve some problems within threads and make it safer to work with.\n",
    "\n",
    "Thread pools start with a predefined number of threads and then queue the remaining threads. \n",
    "\n",
    "\n",
    "Why do we implement Thread Pools?"
   ]
  },
  {
   "cell_type": "markdown",
   "id": "55a0748c",
   "metadata": {},
   "source": [
    "thread pools helps us to solve 2 major problems with threading those problems are\n",
    "\n",
    "- If you notice we pass bases an list of data. What if the list is a huge number of items?\n",
    "- It is very hard to control the rate that data is flowing into the system. It is able to handle harge amounds of data fast but there are hard limits on your processing. \n",
    "\n",
    "A minor problem is while unlikely in an acutal application Print() or any other slower outputing application (print is consitered a very slow application) because of this outputs can be corupted or malformed. You could see how this could lead to order of storing data. "
   ]
  },
  {
   "cell_type": "code",
   "execution_count": null,
   "id": "ef8c0a8a",
   "metadata": {},
   "outputs": [],
   "source": [
    "from queue import Queue, Empty\n",
    "from threading import Thread\n",
    "def worker(work_queue):\n",
    "    while not work_queue.empty():\n",
    "        try:\n",
    "            item = work_queue.get(block=False)\n",
    "        except Empty:\n",
    "            break\n",
    "        else:\n",
    "            fetch_rate(base, rates,False, True)\n",
    "            work_queue.task_done()\n",
    "\n",
    "def threaded_pool():            \n",
    "    work_queue = Queue()\n",
    "\n",
    "    for base in bases:\n",
    "        work_queue.put(base)\n",
    "        threads = [\n",
    "            Thread(target=worker, args=(work_queue,)) \n",
    "            for _ in range(THREAD_POOL_SIZE)\n",
    "        ]\n",
    "    \n",
    "    for thread in threads:\n",
    "        thread.start()\n",
    "\n",
    "    work_queue.join()\n",
    "\n",
    "    while threads:    #used to delay the time output lines\n",
    "        threads.pop().join\n",
    " \n"
   ]
  },
  {
   "cell_type": "code",
   "execution_count": null,
   "id": "ca1758d2",
   "metadata": {},
   "outputs": [],
   "source": [
    "rates = ['eur','jpy','usd','rub','cad']\n",
    "#rates = ['eur','jpy']\n",
    "#bases = ['eur','jpy','usd','rub','cad']\n",
    "#bases = ['eur','jpy']\n",
    "bases = ['eur', 'gbp', 'aud', 'chf', 'cad', 'kes', 'bhd', 'egp', 'krw', 'cop', 'bbd', 'djf', 'hnl', 'ugx']"
   ]
  },
  {
   "cell_type": "code",
   "execution_count": null,
   "id": "7f061550",
   "metadata": {},
   "outputs": [],
   "source": [
    "THREAD_POOL_SIZE = 4\n",
    "\n",
    "a = time.time()\n",
    "print(\"Number of threads before start: \"+ str(threading.active_count())+\"\\n\\n\\n\")\n",
    "\n",
    "threaded_pool()\n",
    "\n",
    "b=time.time()-a\n",
    "print(\"----------------\\nTotal Time:  {:.2f}s\".format(b))\n",
    "print(\"Number of Threads after running: \"+ str(threading.active_count())+\"\\n\\n\\n\")"
   ]
  },
  {
   "cell_type": "markdown",
   "id": "b97c21c7",
   "metadata": {},
   "source": [
    "## Daemon Threads\n",
    "Daemon Threads run in the background and are often used for tasks that should not block the program from exiting, such as monitoring or cleanup tasks.\n",
    "\n",
    "Daemon threads with continue to run in the background and can be exited abrutptly when the main thread exits\n",
    "\n",
    "Daemon threads are used on OS systems for large complex projects C and Java are recomended for a Daemon but for a simple easy deployable Python is the choice. "
   ]
  },
  {
   "cell_type": "code",
   "execution_count": null,
   "id": "ea5f5a88",
   "metadata": {},
   "outputs": [
    {
     "name": "stdout",
     "output_type": "stream",
     "text": [
      "Running in background...\n",
      "Running in background...\n"
     ]
    }
   ],
   "source": [
    "\n",
    "def background_task():\n",
    "    while True:\n",
    "        print(\"Running in background...\")\n",
    "        time.sleep(1)\n",
    "\n",
    "daemon_thread = threading.Thread(target=background_task, daemon=True)\n",
    "daemon_thread.start()\n",
    "\n",
    "print(\"Main thread will exit soon.\")\n",
    "time.sleep(3)\n",
    "#The daemon=True flag specifies that the thread should not block the program from exiting."
   ]
  },
  {
   "cell_type": "code",
   "execution_count": 1,
   "id": "a8e1b6e8",
   "metadata": {},
   "outputs": [
    {
     "name": "stdout",
     "output_type": "stream",
     "text": [
      "sleeping\n",
      "sleeping\n",
      "sleeping\n",
      "sleeping\n",
      "sleeping\n",
      "sleeping\n",
      "sleeping\n",
      "sleeping\n",
      "New data: \n",
      "sleeping\n",
      "New data: hkh\n",
      "sleeping\n",
      "New data: hjjlk\n",
      "sleeping\n",
      "sleeping\n",
      "sleeping\n",
      "sleeping\n",
      "sleeping\n",
      "sleeping\n",
      "sleeping\n",
      "sleeping\n"
     ]
    },
    {
     "ename": "KeyboardInterrupt",
     "evalue": "",
     "output_type": "error",
     "traceback": [
      "\u001b[0;31m---------------------------------------------------------------------------\u001b[0m",
      "\u001b[0;31mKeyboardInterrupt\u001b[0m                         Traceback (most recent call last)",
      "Cell \u001b[0;32mIn[1], line 26\u001b[0m\n\u001b[1;32m     24\u001b[0m \u001b[38;5;66;03m# Keep the main program running to allow the thread to work\u001b[39;00m\n\u001b[1;32m     25\u001b[0m \u001b[38;5;28;01mwhile\u001b[39;00m \u001b[38;5;28;01mTrue\u001b[39;00m:\n\u001b[0;32m---> 26\u001b[0m     \u001b[43mtime\u001b[49m\u001b[38;5;241;43m.\u001b[39;49m\u001b[43msleep\u001b[49m\u001b[43m(\u001b[49m\u001b[38;5;241;43m1\u001b[39;49m\u001b[43m)\u001b[49m\n\u001b[1;32m     27\u001b[0m     \u001b[38;5;28mprint\u001b[39m(\u001b[38;5;124m\"\u001b[39m\u001b[38;5;124msleeping\u001b[39m\u001b[38;5;124m\"\u001b[39m)\n",
      "\u001b[0;31mKeyboardInterrupt\u001b[0m: "
     ]
    }
   ],
   "source": [
    "import threading\n",
    "import os\n",
    "import time\n",
    "\n",
    "def watch_log_file(filename):\n",
    "    with open(filename, 'r') as file:\n",
    "        file.seek(0, os.SEEK_END)\n",
    "\n",
    "        while True:\n",
    "            line = file.readline()\n",
    "            if line:\n",
    "                print(f\"New data: {line.strip()}\")\n",
    "            time.sleep(1)\n",
    "\n",
    "def start_watching():\n",
    "    log_filename = 'log.txt'\n",
    "    watch_thread = threading.Thread(target=watch_log_file, args=(log_filename,))\n",
    "    watch_thread.daemon = True  # This makes the thread exit when the main program exits\n",
    "    watch_thread.start()\n",
    "\n",
    "if __name__ == \"__main__\":\n",
    "    start_watching()\n",
    "    \n",
    "    # Keep the main program running to allow the thread to work\n",
    "    while True:\n",
    "        time.sleep(1)\n",
    "        print(\"sleeping\")\n"
   ]
  }
 ],
 "metadata": {
  "kernelspec": {
   "display_name": "Python 3",
   "language": "python",
   "name": "python3"
  },
  "language_info": {
   "codemirror_mode": {
    "name": "ipython",
    "version": 3
   },
   "file_extension": ".py",
   "mimetype": "text/x-python",
   "name": "python",
   "nbconvert_exporter": "python",
   "pygments_lexer": "ipython3",
   "version": "3.12.3"
  }
 },
 "nbformat": 4,
 "nbformat_minor": 5
}
