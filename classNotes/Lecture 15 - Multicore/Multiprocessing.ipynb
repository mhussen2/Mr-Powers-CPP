{
    "cells": [
        {
            "cell_type": "markdown",
            "metadata": {},
            "source": [
                "# Multiprocessing in Python\n",
                "\n",
                "Multiprocessing allows Python to run CPU-intensive tasks side by side. This is done by launching multiple and independent copies of the Python runtime."
            ]
        },
        {
            "cell_type": "markdown",
            "metadata": {},
            "source": [
                "## Advantages\n",
                "- **True multitasking** by giving each Python process its own CPU core\n",
                "    - Ideal for CPU-intensive tasks\n",
                "- **Better resource utilization**\n",
                "- **Isolation of processes**:\n",
                "    - Each process runs in its own memory space, reducing the risk of data corruption and making debugging simpler.\n",
                "- **Simplified resource management**:\n",
                "    - Compared to threading, multiprocessing in Python is often easier to implement and manage, with fewer concerns about thread safety and synchronization.\n",
                "- Easier code **implementation** compared to threading\n",
                "    - No need for thread pools\n",
                "    - No need for queues\n",
                "    - No exceptions handling complexities\n",
                "    - No rate limitations\n",
                "\n",
                "In other words, a lot less work!"
            ]
        },
        {
            "cell_type": "markdown",
            "metadata": {},
            "source": [
                "## Disadvantages\n",
                "- **Additional overhead on the CPU**\n",
                "    - Creating and managing multiple processes introduces overhead, which can impact overall performance.\n",
                "- **Memory consumption**: Each subprocess needs to have a copy of the data\n",
                "    - This increases the resources needed ie each process requires its own memory space\n",
                "    - Need to pass resources between tasks"
            ]
        },
        {
            "cell_type": "markdown",
            "metadata": {},
            "source": [
                "# A simple example"
            ]
        },
        {
            "cell_type": "code",
            "execution_count": null,
            "metadata": {},
            "outputs": [],
            "source": [
                "from multiprocessing import Process\n",
                "\n",
                "def print_square(num):\n",
                "    print(f'Square: {num * num}')\n",
                "\n",
                "if __name__ == \"__main__\":\n",
                "    p = Process(target=print_square, args=(10,))\n",
                "    p.start()\n",
                "    p.join()"
            ]
        },
        {
            "cell_type": "markdown",
            "metadata": {},
            "source": [
                "## ok maybe that was to simple"
            ]
        },
        {
            "cell_type": "code",
            "execution_count": null,
            "metadata": {},
            "outputs": [],
            "source": [
                "from multiprocessing import Process\n",
                "\n",
                "def print_square(num):\n",
                "    print(f'Square of {num}: {num * num}')\n",
                "\n",
                "if __name__ == \"__main__\":\n",
                "    processes = []\n",
                "    for i in range(1, 11):\n",
                "        p = Process(target=print_square, args=(i,))\n",
                "        processes.append(p)\n",
                "        p.start()\n",
                "\n",
                "    for p in processes: #wait for everything to finish\n",
                "        p.join()"
            ]
        },
        {
            "cell_type": "markdown",
            "metadata": {},
            "source": [
                "Notice that it looks very similar to threading."
            ]
        },
        {
            "cell_type": "markdown",
            "metadata": {},
            "source": [
                "# The old way - Forking - Linux, macOS, Unix\n",
                "\n",
                "**PID (Process Identifier)**: A number used by kernel-based OS to uniquely identify an active process.\n",
                "\n",
                "On POSIX-compliant systems (such as Linux, macOS, and Unix), the fork system call is used to create a new process. When a process forks, it creates a child process that is an exact copy of the parent process. Both processes then continue executing independently from the point where the fork occurred.\n",
                "\n",
                "In Python, the os.fork() function allows you to create a child process. After forking, the parent and child processes have separate memory spaces, enabling parallel execution without interference.\n",
                "\n",
                "os.fork() may not work in windows so it is recommended to use WSL2"
            ]
        },
        {
            "cell_type": "code",
            "execution_count": null,
            "metadata": {},
            "outputs": [],
            "source": [
                "import os  # OS manages the CPU tasks\n",
                "\n",
                "pid_list = []  # List to store the CPU PIDs\n",
                "\n",
                "tmp = 1  # Setup a variable to track the PID\n",
                "pid_list.append(os.getpid())\n",
                "child_pid = os.fork()  # Create 1 fork\n",
                "\n",
                "if child_pid == 0:\n",
                "    pid_list.append(os.getpid())\n",
                "    print(\"CHLD: TMP value is: %d \" % tmp)\n",
                "    print(\"CHLD: pids are %s\" % pid_list)\n",
                "else:\n",
                "    pid_list.append(os.getpid())\n",
                "    tmp += 1\n",
                "    print()\n",
                "    print(\"PRNT: Child pid: %d\" % child_pid)\n",
                "    print(\"PRNT: pids are %s\" % pid_list)\n",
                "    print(\"PRNT: TMP value is: %d \" % tmp)"
            ]
        },
        {
            "cell_type": "markdown",
            "metadata": {},
            "source": [
                "## Forking Example Compatible with Windows and Linux\n",
                "\n",
                "Since `os.fork()` is not available on Windows, we can use the `multiprocessing` module to achieve similar functionality:"
            ]
        },
        {
            "cell_type": "code",
            "execution_count": null,
            "metadata": {},
            "outputs": [],
            "source": [
                "from multiprocessing import Process, current_process\n",
                "import os\n",
                "\n",
                "def child_process():\n",
                "    print(f\"CHLD: PID is {os.getpid()}, Parent PID is {os.getppid()}\")\n",
                "\n",
                "if __name__ == \"__main__\":\n",
                "    print(f\"PRNT: PID is {os.getpid()}\")\n",
                "    child = Process(target=child_process)\n",
                "    child.start()\n",
                "    child.join()\n",
                "\n"
            ]
        },
        {
            "cell_type": "markdown",
            "metadata": {},
            "source": [
                "### Notes:\n",
                "- The `os.fork()` function is specific to Unix-like systems (Linux, macOS). For cross-platform compatibility, we use the `multiprocessing` module.\n",
                "- Ensure you run this code in a terminal or an IDE that supports multiprocessing, as some environments like Jupyter Notebooks may not handle multiprocessing well."
            ]
        },
        {
            "cell_type": "markdown",
            "metadata": {},
            "source": [
                "## Another Example\n",
                "\n",
                "Here's an example showing how to create new processes with the `multiprocessing` module:"
            ]
        },
        {
            "cell_type": "code",
            "execution_count": null,
            "metadata": {},
            "outputs": [],
            "source": [
                "from multiprocessing import Process\n",
                "import os\n",
                "\n",
                "def work(identifier):\n",
                "    print('Process {}, pid: {}'.format(identifier, os.getpid()))\n",
                "\n",
                "if __name__ == \"__main__\":\n",
                "    processes = [Process(target=work, args=(number,)) for number in range(5)]\n",
                "    for process in processes:# Start all the processes \n",
                "        process.start()\n",
                "\n",
                "    for process in processes:# wait for them all to be done\n",
                "        process.join()\n"
            ]
        },
        {
            "cell_type": "markdown",
            "metadata": {},
            "source": [
                "## Large Caclulation to show CPU Utilization\n",
                "ON windows open up you command prompt and click CPU\n",
                "\n",
                "On Macos open Activity Monitor, navigate to the \"CPU\" tab\n",
                "\n",
                "On Linux systems type mpstat -P ALL 1 100\n"
            ]
        },
        {
            "cell_type": "code",
            "execution_count": null,
            "metadata": {},
            "outputs": [],
            "source": [
                "import multiprocessing\n",
                "import time\n",
                "\n",
                "def large_calculation(num):\n",
                "    result = 0\n",
                "    for i in range(1, 10000000):\n",
                "        result += i * num\n",
                "    print(f'Large calculation result for {num}: {result}')\n",
                "\n",
                "if __name__ == \"__main__\":\n",
                "    start_time = time.time()\n",
                "\n",
                "    processes = []\n",
                "    for i in range(1, 11):\n",
                "        p = multiprocessing.Process(target=large_calculation, args=(i,))\n",
                "        processes.append(p)\n",
                "        p.start()\n",
                "\n",
                "    for p in processes:\n",
                "        p.join()\n",
                "\n",
                "    end_time = time.time()\n",
                "    print(f\"Total execution time: {end_time - start_time} seconds\")"
            ]
        },
        {
            "cell_type": "code",
            "execution_count": null,
            "metadata": {},
            "outputs": [],
            "source": [
                "#the old way for fun\n",
                "import time\n",
                "\n",
                "def large_calculation(num):\n",
                "    result = 0\n",
                "    for i in range(1, 10000000):\n",
                "        result += i * num\n",
                "    print(f'Large calculation result for {num}: {result}')\n",
                "\n",
                "if __name__ == \"__main__\":\n",
                "    start_time = time.time()\n",
                "\n",
                "    for i in range(1, 11):\n",
                "        large_calculation(i)\n",
                "\n",
                "    end_time = time.time()\n",
                "    print(f\"Total execution time: {end_time - start_time} seconds\")"
            ]
        },
        {
            "cell_type": "markdown",
            "metadata": {},
            "source": [
                "## Pools"
            ]
        },
        {
            "cell_type": "code",
            "execution_count": null,
            "metadata": {},
            "outputs": [],
            "source": [
                "from multiprocessing import Pool\n",
                "\n",
                "def square(num):\n",
                "    return num * num\n",
                "\n",
                "if __name__ == \"__main__\":\n",
                "    with Pool(4) as p:\n",
                "        result = p.map(square, [1, 2, 3, 4, 5])\n",
                "        print(result)\n"
            ]
        },
        {
            "cell_type": "code",
            "execution_count": null,
            "metadata": {},
            "outputs": [],
            "source": [
                "from multiprocessing import Pool\n",
                "import time\n",
                "\n",
                "def large_calculation(num):\n",
                "    result = 0\n",
                "    for i in range(1, 10000000):\n",
                "        result += i * num\n",
                "    print(f'Large calculation result for {num}: {result}')\n",
                "\n",
                "if __name__ == \"__main__\":\n",
                "    start_time = time.time()\n",
                "\n",
                "    with Pool(4) as p:\n",
                "        p.map(large_calculation, range(1, 11))\n",
                "\n",
                "    end_time = time.time()\n",
                "    print(f\"Total execution time: {end_time - start_time} seconds\")"
            ]
        },
        {
            "cell_type": "markdown",
            "metadata": {},
            "source": [
                "## Communication Between Processes\n",
                "\n"
            ]
        },
        {
            "cell_type": "markdown",
            "metadata": {},
            "source": [
                "### Using `multiprocessing.Value` to communicate between processes:\n",
                "\n",
                "Value is used for sharing simple things like int and doubles\n"
            ]
        },
        {
            "cell_type": "code",
            "execution_count": null,
            "metadata": {},
            "outputs": [],
            "source": [
                "from multiprocessing import Value, Process\n",
                "\n",
                "def increment(shared_num):\n",
                "    shared_num.value += 1\n",
                "\n",
                "if __name__ == \"__main__\":\n",
                "    shared_num = Value('i', 0) #i for int\n",
                "    processes = [Process(target=increment, args=(shared_num,)) \n",
                "                for _ in range(10)] #group them all\n",
                "\n",
                "    for p in processes:\n",
                "        p.start()\n",
                "    for p in processes:\n",
                "        p.join()\n",
                "\n",
                "    print(shared_num.value)"
            ]
        },
        {
            "cell_type": "code",
            "execution_count": null,
            "metadata": {},
            "outputs": [
                {
                    "data": {
                        "text/plain": [
                            "<AxesSubplot: xlabel='fare', ylabel='Density'>"
                        ]
                    },
                    "metadata": {},
                    "output_type": "display_data"
                },
                {
                    "data": {
                        "image/png": "[encoded data removed]",
                        "text/plain": [
                            "<Figure size 1000x600 with 1 Axes>"
                        ]
                    },
                    "metadata": {},
                    "output_type": "display_data"
                }
            ],
            "source": [
                "plt.figure(figsize = (10, 6))\n",
                "sns.distplot(df[\"fare\"], color = \"darkred\")"
            ]
        },
        {
            "cell_type": "markdown",
            "metadata": {},
            "source": [
                "#### The important lock"
            ]
        },
        {
            "cell_type": "code",
            "execution_count": null,
            "metadata": {},
            "outputs": [],
            "source": [
                "from multiprocessing import Value, Process\n",
                "\n",
                "def sum_of_squares(shared_sum, start, end):\n",
                "    for i in range(start, end):\n",
                "        shared_sum.value += i * i\n",
                "\n",
                "if __name__ == \"__main__\":\n",
                "    shared_sum = Value('i', 0)  # 'i' for int\n",
                "    num_processes = 4\n",
                "    range_per_process = 100 // num_processes\n",
                "\n",
                "    processes = [\n",
                "        Process(target=sum_of_squares, \n",
                "                args=(shared_sum, i * range_per_process, (i + 1) * range_per_process))\n",
                "            for i in range(num_processes)]\n",
                "\n",
                "    for p in processes:\n",
                "        p.start()\n",
                "    for p in processes:\n",
                "        p.join()\n",
                "\n",
                "    print(shared_sum.value)"
            ]
        },
        {
            "cell_type": "code",
            "execution_count": null,
            "metadata": {},
            "outputs": [],
            "source": [
                "from multiprocessing import Process, Value, Lock\n",
                "\n",
                "def sum_of_squares(start, end, shared_result, lock):\n",
                "    for i in range(start, end):\n",
                "        with lock:\n",
                "            shared_result.value += i*i\n",
                "\n",
                "if __name__ == \"__main__\":\n",
                "    num_processes = 4\n",
                "    range_per_process = 100 // num_processes\n",
                "    shared_result = Value('i', 0) \n",
                "    lock = Lock()\n",
                "\n",
                "    processes = [\n",
                "        Process(target=sum_of_squares, args=(i * range_per_process + 1, (i + 1) * range_per_process + 1, shared_result, lock))\n",
                "        for i in range(num_processes)\n",
                "    ]\n",
                "\n",
                "    for p in processes:\n",
                "        p.start()\n",
                "    for p in processes:\n",
                "        p.join()\n",
                "\n",
                "    print(shared_result.value)"
            ]
        },
        {
            "cell_type": "markdown",
            "metadata": {},
            "source": [
                "    Ok so whats the big deal there the same?"
            ]
        },
        {
            "cell_type": "code",
            "execution_count": null,
            "metadata": {},
            "outputs": [],
            "source": [
                "from multiprocessing import Process, Value\n",
                "\n",
                "def factorial_part(start, end, shared_result):\n",
                "    result = 1\n",
                "    for i in range(start, end):\n",
                "        result *= i\n",
                "        shared_result.value *= result\n",
                "\n",
                "if __name__ == \"__main__\":\n",
                "    num_processes = 4\n",
                "    n = 100  # Large number for factorial calculation\n",
                "    range_per_process = n // num_processes\n",
                "    shared_result = Value('d', 1.0)  # 'd' for double to handle large numbers\n",
                "\n",
                "    processes = [\n",
                "        Process(\n",
                "            target=factorial_part, \n",
                "            args=(i * range_per_process + 1, (i + 1) * range_per_process + 1, shared_result))\n",
                "            for i in range(num_processes)\n",
                "    ]\n",
                "\n",
                "    for p in processes:\n",
                "        p.start()\n",
                "    for p in processes:\n",
                "        p.join()\n",
                "\n",
                "    print(shared_result.value)"
            ]
        },
        {
            "cell_type": "code",
            "execution_count": null,
            "metadata": {},
            "outputs": [],
            "source": [
                "from multiprocessing import Process, Value, Lock\n",
                "\n",
                "def factorial_part(start, end, shared_result, lock):\n",
                "    result = 1\n",
                "    for i in range(start, end):\n",
                "        result *= i\n",
                "    with lock:\n",
                "        shared_result.value *= result\n",
                "\n",
                "if __name__ == \"__main__\":\n",
                "    num_processes = 4\n",
                "    n = 100  # Large number for factorial calculation\n",
                "    range_per_process = n // num_processes\n",
                "    shared_result = Value('d', 1.0)  # 'd' for double to handle large numbers\n",
                "    lock = Lock()\n",
                "\n",
                "    processes = [\n",
                "        Process(\n",
                "            target=factorial_part, \n",
                "            args=(i * range_per_process + 1, (i + 1) * range_per_process + 1, shared_result, lock))\n",
                "            for i in range(num_processes)\n",
                "    ]\n",
                "\n",
                "    for p in processes:\n",
                "        p.start()\n",
                "    for p in processes:\n",
                "        p.join()\n",
                "\n",
                "    print(shared_result.value)"
            ]
        },
        {
            "cell_type": "markdown",
            "metadata": {},
            "source": [
                "### Using 'Multiprocessing.Manager' to communicate \n",
                "\n",
                "Value is only useful for simple things tasks Manager is used for  sharing lists or dictionaries between processes"
            ]
        },
        {
            "cell_type": "markdown",
            "metadata": {},
            "source": [
                "#### Lists"
            ]
        },
        {
            "cell_type": "code",
            "execution_count": null,
            "metadata": {},
            "outputs": [],
            "source": [
                "from multiprocessing import Process, Manager\n",
                "\n",
                "def append_to_list(shared_list):\n",
                "    for i in range(5):\n",
                "        shared_list.append(i)\n",
                "\n",
                "if __name__ == \"__main__\":\n",
                "    manager = Manager()\n",
                "    shared_list = manager.list()\n",
                "\n",
                "    processes = [\n",
                "        Process(target=append_to_list, args=(shared_list,)) \n",
                "        for _ in range(4)]\n",
                "\n",
                "    for p in processes:\n",
                "        p.start()\n",
                "    for p in processes:\n",
                "        p.join()\n",
                "\n",
                "    print(shared_list)"
            ]
        },
        {
            "cell_type": "markdown",
            "metadata": {},
            "source": [
                "#### Dictionaries "
            ]
        },
        {
            "cell_type": "code",
            "execution_count": null,
            "metadata": {},
            "outputs": [],
            "source": [
                "from multiprocessing import Process, Manager\n",
                "\n",
                "def update_dict(shared_dict):\n",
                "    for i in range(5):\n",
                "        shared_dict[i] = i * i\n",
                "\n",
                "if __name__ == \"__main__\":\n",
                "    manager = Manager()\n",
                "    shared_dict = manager.dict()\n",
                "\n",
                "    processes = [Process(target=update_dict, args=(shared_dict,)) \n",
                "                for _ in range(4)]\n",
                "\n",
                "    for p in processes:\n",
                "        p.start()\n",
                "    for p in processes:\n",
                "        p.join()\n",
                "\n",
                "    print(shared_dict)"
            ]
        },
        {
            "cell_type": "markdown",
            "metadata": {},
            "source": [
                "#### Dictionary with a lock"
            ]
        },
        {
            "cell_type": "code",
            "execution_count": null,
            "metadata": {},
            "outputs": [],
            "source": [
                "from multiprocessing import Process, Manager, Lock\n",
                "\n",
                "def update_dict(shared_dict, lock, key, value):\n",
                "    with lock:\n",
                "        shared_dict[key] = value\n",
                "\n",
                "if __name__ == \"__main__\":\n",
                "    manager = Manager()\n",
                "    shared_dict = manager.dict()\n",
                "    lock = Lock()\n",
                "\n",
                "    processes = [\n",
                "        Process(target=update_dict, args=(shared_dict, lock, f'{i}', i * i))\n",
                "        for i in range(5)\n",
                "    ]\n",
                "\n",
                "    for p in processes: \n",
                "        p.start()\n",
                "    for p in processes:\n",
                "        p.join()\n",
                "\n",
                "    print(shared_dict)  "
            ]
        },
        {
            "cell_type": "markdown",
            "metadata": {},
            "source": [
                "### Using `multiprocessing.Pipe` to communicate between processes\n",
                "\n",
                "- Pipe allows for \n",
                "    - Bidirectional Communication: You need two-way communication between processes. Pipe allows both ends to send and receive messages.\n",
                "    - Complex Data: You need to send complex data structures (e.g., lists, dictionaries, objects) between processes. Pipe can handle these types of data."
            ]
        },
        {
            "cell_type": "code",
            "execution_count": null,
            "metadata": {},
            "outputs": [],
            "source": [
                "from multiprocessing import Process, Pipe\n",
                "\n",
                "def send_message(conn):\n",
                "    conn.send(\"Hello from the child process!\")\n",
                "    conn.close()\n",
                "\n",
                "if __name__ == \"__main__\":\n",
                "    parent_conn, child_conn = Pipe()\n",
                "\n",
                "    child = Process(target=send_message, args=(child_conn,))\n",
                "    child.start()\n",
                "    child.join()\n",
                "\n",
                "    message = parent_conn.recv()\n",
                "    print(message)"
            ]
        },
        {
            "cell_type": "markdown",
            "metadata": {},
            "source": [
                "### Passing Int, String, Dict, Classes and anything else "
            ]
        },
        {
            "cell_type": "code",
            "execution_count": null,
            "metadata": {},
            "outputs": [],
            "source": [
                "from multiprocessing import Process, Pipe\n",
                "\n",
                "class PassClass:\n",
                "    pass\n",
                "\n",
                "def work(connection):\n",
                "    while True:\n",
                "        instance = connection.recv()\n",
                "        if instance:\n",
                "            print(\"CHLD: recv: {}\".format(instance))\n",
                "        else:\n",
                "            return\n",
                "\n",
                "    \n",
                "if __name__ == \"__main__\":\n",
                "    parent_conn, child_conn = Pipe() #Connection between parent and child\n",
                "    child = Process(target=work, args=(child_conn,))\n",
                "\n",
                "    for item in (42, 'some string', {'one': 1}, PassClass(), True):\n",
                "        print(\"PRNT: send: {}\".format(item))\n",
                "        parent_conn.send(item)\n",
                "    parent_conn.close()\n",
                "\n",
                "    child.start()\n",
                "    child.join()\n",
                "\n"
            ]
        },
        {
            "cell_type": "markdown",
            "metadata": {},
            "source": [
                "### Passing back data through the pipe"
            ]
        },
        {
            "cell_type": "code",
            "execution_count": null,
            "metadata": {},
            "outputs": [],
            "source": [
                "from multiprocessing import Process, Pipe\n",
                "\n",
                "class StudentClass():\n",
                "    def __init__(self):\n",
                "        self.passing = False\n",
                "    def isPassing(self):\n",
                "        return self.passing\n",
                "    \n",
                "\n",
                "\n",
                "def work(connection):\n",
                "        instance = connection.recv()\n",
                "        instance.passing = True\n",
                "        print(\"CILD: {}\".format(instance.isPassing()))\n",
                "\n",
                "if __name__ == \"__main__\":\n",
                "    parent_conn, child_conn = Pipe() #Connection between parent and child\n",
                "    child = Process(target=work, args=(child_conn,))\n",
                "\n",
                "    item = StudentClass()\n",
                "    print(\"PRNT: {}\".format(item.isPassing()))\n",
                "    parent_conn.send(item)\n",
                "\n",
                "    child.start()\n",
                "    print(\"PRNT: {}\".format(item.isPassing()))\n",
                "    child.join()\n"
            ]
        },
        {
            "cell_type": "markdown",
            "metadata": {},
            "source": [
                "    Why is PRNT False. Do you see what we did wrong?"
            ]
        },
        {
            "cell_type": "code",
            "execution_count": null,
            "metadata": {},
            "outputs": [],
            "source": [
                "from multiprocessing import Process, Pipe\n",
                "\n",
                "class StudentClass():\n",
                "    def __init__(self):\n",
                "        self.passing = False\n",
                "    def isPassing(self):\n",
                "        return self.passing\n",
                "\n",
                "def work(connection):\n",
                "    instance = connection.recv()\n",
                "    instance.passing = True\n",
                "    connection.send(instance)  # Send the updated instance back to the parent\n",
                "    print(\"CHILD: {}\".format(instance.isPassing()))\n",
                "\n",
                "if __name__ == \"__main__\":\n",
                "    parent_conn, child_conn = Pipe()  # Connection between parent and child\n",
                "    child = Process(target=work, args=(child_conn,))\n",
                "\n",
                "    item = StudentClass()\n",
                "    print(\"PARENT: {}\".format(item.isPassing()))\n",
                "    parent_conn.send(item)\n",
                "\n",
                "    child.start()\n",
                "    updated_item = parent_conn.recv()  # Receive the updated instance\n",
                "    print(\"PARENT: {}\".format(updated_item.isPassing()))\n",
                "    child.join()"
            ]
        },
        {
            "cell_type": "markdown",
            "metadata": {},
            "source": [
                "#### AND A LITTLE BIT MORE\n",
                "\n",
                "Does your mind hurt yet."
            ]
        },
        {
            "cell_type": "code",
            "execution_count": null,
            "metadata": {},
            "outputs": [],
            "source": [
                "from multiprocessing import Process, Pipe\n",
                "\n",
                "def factorial_part(start, end, conn):\n",
                "    \"\"\"Calculate the factorial for a segment of the range\"\"\"\n",
                "    result = 1\n",
                "    for i in range(start, end):\n",
                "        result *= i\n",
                "    # Send the result through the Pipe\n",
                "    conn.send(result)\n",
                "    conn.close()\n",
                "\n",
                "\n",
                "if __name__ == \"__main__\":\n",
                "    NUM_OF_PROCESSES = 4\n",
                "    num_to_factor = 100\n",
                "    range_per_process = num_to_factor // NUM_OF_PROCESSES\n",
                "\n",
                "    # Create Pipes for communication between parent and child processes\n",
                "    parent_conns, child_conns = zip(*[Pipe() for _ in range(NUM_OF_PROCESSES)]) #using zip to order them all\n",
                "\n",
                "    processes = [\n",
                "        Process(target=factorial_part, args=(i * range_per_process + 1, (i + 1) * range_per_process + 1, child_conns[i]))\n",
                "        for i in range(NUM_OF_PROCESSES)\n",
                "    ]\n",
                "\n",
                "\n",
                "    for p in processes:\n",
                "        p.start()\n",
                "    for p in processes:\n",
                "        p.join()\n",
                "\n",
                "    factorial_result = 1\n",
                "    for conn in parent_conns:\n",
                "        factorial_result *= conn.recv()\n",
                "\n",
                "    print(f\"{factorial_result:.15e}\")       \n"
            ]
        },
        {
            "cell_type": "markdown",
            "metadata": {},
            "source": [
                "#### A small brake"
            ]
        },
        {
            "cell_type": "markdown",
            "metadata": {},
            "source": [
                "``` python\n",
                "\"\"\"Brake down of above\"\"\"\n",
                "# Create Pipes for communication between parent and child processes\n",
                "parent_conns, child_conns = zip(*[Pipe() for _ in range(NUM_OF_PROCESSES)]) #using zip to order them all\n",
                "\n",
                "pipes = [Pipe() for _ in range(NUM_OF_PROCESSES)]\n",
                "# # pipes = [(parent_conn1, child_conn1), (parent_conn2, child_conn2), (parent_conn3, child_conn3), (parent_conn4, child_conn4)]\n",
                "\n",
                "parent_conns, child_conns = zip(*pipes)\n",
                "#The * operator is used for unpacking\n",
                "# parent_conns = (parent_conn1, parent_conn2, parent_conn3, parent_conn4)\n",
                "# # child_conns = (child_conn1, child_conn2, child_conn3, child_conn4)\n",
                "```"
            ]
        },
        {
            "cell_type": "code",
            "execution_count": null,
            "metadata": {},
            "outputs": [],
            "source": [
                "original_list = [('a', 1), ('b', 2), ('c', 3)]\n",
                "# Unpacking the list\n",
                "print(original_list)\n",
                "print(list(zip(*original_list))) # Results in ('a', 'b', 'c'), (1, 2, 3)"
            ]
        },
        {
            "cell_type": "markdown",
            "metadata": {},
            "source": [
                "Using fetch_rates and Manager"
            ]
        },
        {
            "cell_type": "code",
            "execution_count": null,
            "metadata": {},
            "outputs": [],
            "source": [
                "from multiprocessing import Process, Manager\n",
                "import requests\n",
                "import os\n",
                "import time\n",
                "\n",
                "def fetch_rate(bases, symbols=['eur', 'jpy', 'usd'], timing=False, shared_dict=None):\n",
                "    \"\"\"\n",
                "    A function to fetch the conversion rate of a given input.Takes in the desired base currency and outputs \n",
                "    the given conversion rate to supplied symbols.\n",
                "    \"\"\"\n",
                "    # Setup time for demonstration\n",
                "    if timing:\n",
                "        a = time.time()        \n",
                "\n",
                "    # Run the main part of the function to get the rates\n",
                "    web = \"http://www.floatrates.com/daily/\" + str(bases) + \".json\"\n",
                "    response = requests.get(web)\n",
                "    rate = response.json()\n",
                "    rate[bases] = {'rate': 1}\n",
                "\n",
                "    # Update the shared dictionary with the rates\n",
                "    shared_dict[bases] = {symbol: rate[symbol]['rate'] for symbol in symbols}\n",
                "\n",
                "    if timing:\n",
                "        print(\"Completed pid: \" + str(os.getpid()))\n",
                "        print(\"Time Elapsed on CPU:  {:.02f}s\\n\".format((time.time() - a)))\n",
                "\n",
                "\n",
                "\n",
                "def multicore(debug=False):\n",
                "    manager = Manager()\n",
                "    shared_dict = manager.dict()\n",
                "    bases = ['usd', 'eur', 'jpy']  # Example base currencies\n",
                "\n",
                "    processes = [\n",
                "        Process(target=fetch_rate, args=(base, ['eur', 'jpy', 'usd'], debug, shared_dict))\n",
                "        for base in bases\n",
                "    ]\n",
                "\n",
                "    a = time.time()\n",
                "    for p in processes:\n",
                "        p.start()\n",
                "    for p in processes:\n",
                "        p.join()\n",
                "\n",
                "    print(\"Total Time with processes Elapsed:  {:.02f}s\".format(time.time() - a))\n",
                "    print(\"Shared Dictionary:\", shared_dict)\n",
                "\n",
                "if __name__ == \"__main__\":\n",
                "    # Run the multicore function\n",
                "    multicore(True)\n"
            ]
        },
        {
            "cell_type": "code",
            "execution_count": null,
            "metadata": {},
            "outputs": [],
            "source": [
                "\n",
                "\n",
                "#multiprocessing\n",
                "def is_prime(num):\n",
                "    if num < 2:\n",
                "        return False\n",
                "    for i in range(2, int(num**0.5) + 1):\n",
                "        if num % i == 0:\n",
                "            return False\n",
                "    return True\n",
                "\n",
                "def multiproc_primes_3min():\n",
                "    time_start = time.time()\n",
                "    multiproc_num = 0\n",
                "    while time.time() - time_start < 180:\n",
                "        if is_prime(multiproc_num):\n",
                "            highest_prime = multiproc_num\n",
                "        multiproc_num += 1\n",
                "    print(highest_prime)\n",
                "\n",
                "\n",
                "multiproc_primes_3min()\n",
                "\n",
                "\n",
                "\n",
                "\n",
                "def find_highest_prime_multiprocessing():\n",
                "    with Pool() as pool:\n",
                "        start_time = time.time()\n",
                "        highest_prime = 0\n",
                "        num = 2\n",
                "        chunk_size = 10000\n",
                "\n",
                "        while time.time() - start_time < 180:\n",
                "            ranges = [(start, start + chunk_size) for start in range(num, num + chunk_size * pool._processes, chunk_size)]\n",
                "            results = pool.map(check_range, ranges)\n",
                "            highest_prime = max(highest_prime, *results)\n",
                "            num += chunk_size * pool._processes\n",
                "    return highest_prime\n",
                "     \n"
            ]
        },
        {
            "cell_type": "code",
            "execution_count": null,
            "metadata": {},
            "outputs": [],
            "source": [
                "# https://docs.python.org/3/library/multiprocessing.html - multiprocessing man page\n",
                "\n",
                "import time\n",
                "from multiprocessing import Process, Queue, current_process, freeze_support, Manager, Lock\n",
                "\n",
                "# given function\n",
                "def is_prime(n):\n",
                "    if n <= 1:\n",
                "        return False\n",
                "    for i in range(2, int(n ** 0.5) + 1):\n",
                "        if n % i == 0:\n",
                "            return False\n",
                "    return True\n",
                "\n",
                "def worker(input_q, highest_prime, lock, end_time):\n",
                "  \"\"\"Worker process to test numbers and update highest prime.\"\"\"\n",
                "  local_highest = 0\n",
                "  while time.time() < end_time:  # Time-based stop condition\n",
                "    try:\n",
                "      num = input_q.get(timeout=0.01)  # Add timeout to avoid blocking\n",
                "      if num is None:  # Termination signal\n",
                "        break\n",
                "      if is_prime(num):\n",
                "        local_highest = max(local_highest, num)\n",
                "        with lock:\n",
                "          highest_prime.value = max(highest_prime.value, local_highest)\n",
                "    except Queue.Empty:  # Handle timeout\n",
                "      pass\n",
                "\n",
                "def main(num_processes, run_time):\n",
                "  \"\"\"Main function to manage processes and calculate execution time.\"\"\"\n",
                "  manager = Manager()\n",
                "  input_q = Queue()\n",
                "  highest_prime = manager.Value('i', 0)\n",
                "  lock = Lock()\n",
                "\n",
                "  processes = []\n",
                "  end_time = time.time() + run_time  # Calculate end time\n",
                "  for _ in range(num_processes):\n",
                "    p = Process(target=worker, args=(input_q, highest_prime, lock, end_time))\n",
                "    processes.append(p)\n",
                "    p.start()\n",
                "\n",
                "  start_time = time.time()\n",
                "  num = 0\n",
                "  while time.time() < end_time:  # Time-based loop\n",
                "    input_q.put(num)\n",
                "    num += 1\n",
                "\n",
                "  # Send termination signals (optional, workers will stop due to time condition) - chatgpted\n",
                "  for _ in range(num_processes):\n",
                "    input_q.put(None)\n",
                "\n",
                "  for p in processes:\n",
                "    p.join()\n",
                "\n",
                "  end_time = time.time()  # Update end time for accurate calculation\n",
                "\n",
                "  print(f\"Highest prime found: {highest_prime.value}\")\n",
                "  print(f\"Time taken: {end_time - start_time:.2f} seconds\")\n",
                "\n",
                "if __name__ == '__main__':\n",
                "  freeze_support() # found in some multiprocessing examples \n",
                "  num_processes = 4  # Adjust the number of processes\n",
                "  run_time = 3 * 6   # Adjust the run time in seconds\n",
                "  main(num_processes, run_time)"
            ]
        },
        {
            "cell_type": "code",
            "execution_count": 5,
            "metadata": {},
            "outputs": [
                {
                    "name": "stdout",
                    "output_type": "stream",
                    "text": [
                        "Highest prime found: 0\n"
                    ]
                }
            ],
            "source": [
                "# https://docs.python.org/3/library/multiprocessing.html - multiprocessing man page\n",
                "\n",
                "import time\n",
                "from multiprocessing import Process, Queue, current_process, freeze_support, Manager, Lock\n",
                "\n",
                "# given function\n",
                "def is_prime(n):\n",
                "    if n <= 1:\n",
                "        return False\n",
                "    for i in range(2, int(n ** 0.5) + 1):\n",
                "        if n % i == 0:\n",
                "            return False\n",
                "    return True\n",
                "\n",
                "def worker(highest_prime, lock, end_time):\n",
                "  \"\"\"Worker process to test numbers and update highest prime.\"\"\"\n",
                "  local_highest = highest_prime.value\n",
                "  while time.time() < end_time:  # Time-based stop condition\n",
                "    if is_prime(local_highest):\n",
                "        local_highest = max(local_highest,highest_prime.value)\n",
                "    with lock:\n",
                "        highest_prime.value = max(highest_prime.value, local_highest)\n",
                "\n",
                "def main(num_processes, run_time):\n",
                "  \"\"\"Main function to manage processes and calculate execution time.\"\"\"\n",
                "  manager = Manager()\n",
                "  highest_prime = manager.Value('i', 0)\n",
                "  lock = Lock()\n",
                "\n",
                "  processes = []\n",
                "  end_time = time.time() + run_time  # Calculate end time\n",
                "  for _ in range(num_processes):\n",
                "    p = Process(target=worker, args=( highest_prime, lock, end_time))\n",
                "    processes.append(p)\n",
                "    p.start()\n",
                "  p.join()\n",
                "\n",
                "  print(f\"Highest prime found: {highest_prime.value}\")\n",
                "\n",
                "if __name__ == '__main__':\n",
                "  freeze_support() # found in some multiprocessing examples \n",
                "  num_processes = 2  # Adjust the number of processes\n",
                "  run_time = 3 * 6  # Adjust the run time in seconds\n",
                "  main(num_processes, run_time)"
            ]
        },
        {
            "cell_type": "code",
            "execution_count": null,
            "metadata": {},
            "outputs": [],
            "source": []
        }
    ],
    "metadata": {
        "kernelspec": {
            "display_name": "Python 3",
            "language": "python",
            "name": "python3"
        },
        "language_info": {
            "codemirror_mode": {
                "name": "ipython",
                "version": 3
            },
            "file_extension": ".py",
            "mimetype": "text/x-python",
            "name": "python",
            "nbconvert_exporter": "python",
            "pygments_lexer": "ipython3",
            "version": "3.12.3"
        }
    },
    "nbformat": 4,
    "nbformat_minor": 4
}
