{
 "cells": [
  {
   "cell_type": "markdown",
   "id": "997ece2e",
   "metadata": {},
   "source": [
    "Cheater"
   ]
  }
 ],
 "metadata": {
  "language_info": {
   "name": "python"
  }
 },
 "nbformat": 4,
 "nbformat_minor": 5
}
