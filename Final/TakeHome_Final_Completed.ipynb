{
 "cells": [
  {
   "cell_type": "markdown",
   "id": "af70302f",
   "metadata": {},
   "source": [
    "#  The Legend of Python: A Take-Home Final\n",
    "Welcome, brave developer! Your journey begins now. May your code be clean and your bugs be few."
   ]
  },
  {
   "cell_type": "markdown",
   "id": "839fc7d6",
   "metadata": {},
   "source": [
    "##  Quest 1: Retrieving the Scrolls of Time\n",
    "The ancient Floatrates API holds the lost exchange rates. We must summon them using ancient XML incantations.\n",
    "- We'll randomly choose a currency.\n",
    "- Fetch data from May 4, 2011, to the present.\n",
    "- Use `requests` and `xmltodict` to decode the scrolls."
   ]
  },
  {
   "cell_type": "code",
   "execution_count": null,
   "id": "7d1ca33e",
   "metadata": {},
   "outputs": [],
   "source": [
    "# Preparations and dependencies\n",
    "import requests\n",
    "import xmltodict\n",
    "import random\n",
    "from datetime import datetime, timedelta\n",
    "import pandas as pd\n",
    "import logging\n",
    "import time\n",
    "\n",
    "# Available currencies\n",
    "currencies = [\n",
    "    'EUR', 'GBP', 'USD', 'DZD', 'AUD', 'BWP', 'BND', 'CAD', 'CLP', 'CNY', 'COP',\n",
    "    'CZK', 'DKK', 'HUF', 'ISK', 'INR', 'IDR', 'ILS', 'KZT', 'KRW', 'KWD', 'LYD',\n",
    "    'MYR', 'MUR', 'NPR', 'NZD', 'NOK', 'OMR', 'PKR', 'PLN', 'QAR', 'RUB', 'SAR',\n",
    "    'SGD', 'ZAR', 'LKR', 'SEK', 'CHF', 'THB', 'TTD'\n",
    "]\n",
    "\n",
    "# Set up logging\n",
    "logging.basicConfig(filename='quest_log.log', level=logging.INFO,\n",
    "                    format='%(asctime)s - %(levelname)s - %(message)s')\n"
   ]
  },
  {
   "cell_type": "code",
   "execution_count": null,
   "id": "08a06377",
   "metadata": {},
   "outputs": [],
   "source": [
    "# Retrieve historical data from the first date until today\n",
    "base_currency = random.choice(currencies)\n",
    "logging.info(f\"Selected base currency: {base_currency}\")\n",
    "start_date = datetime(2011, 5, 4)\n",
    "end_date = datetime.today()\n",
    "delta = timedelta(days=30)  # interval to prevent server overload\n",
    "\n",
    "all_data = []\n",
    "current = start_date\n",
    "while current <= end_date:\n",
    "    date_str = current.strftime('%Y-%m-%d')\n",
    "    url = (\n",
    "        f\"https://www.floatrates.com/historical-exchange-rates.html\"\n",
    "        f\"?operation=rates&pb_id=1775&page=historical\"\n",
    "        f\"&currency_date={date_str}&base_currency_code={base_currency}&format_type=xml\"\n",
    "    )\n",
    "    try:\n",
    "        response = requests.get(url)\n",
    "        data = xmltodict.parse(response.content)\n",
    "        all_data.append(data)\n",
    "        logging.info(f\"Successfully retrieved data for {date_str}\")\n",
    "    except Exception as e:\n",
    "        logging.error(f\"Failed on {date_str}: {str(e)}\")\n",
    "    current += delta\n",
    "    time.sleep(0.2)  # Be gentle with the server\n"
   ]
  },
  {
   "cell_type": "markdown",
   "id": "cf52507e",
   "metadata": {},
   "source": [
    "## Quest 2: Exploratory Data Analysis\n",
    "Now that the scrolls have been retrieved, it’s time to divine their meaning. Let us inspect the fluctuations and patterns."
   ]
  },
  {
   "cell_type": "code",
   "execution_count": null,
   "id": "28763af9",
   "metadata": {},
   "outputs": [],
   "source": [
    "# For the sake of demonstration, parse and normalize a sample of the XML into a DataFrame\n",
    "exchange_records = []\n",
    "for entry in all_data:\n",
    "    try:\n",
    "        items = entry['data']['list']['item']\n",
    "        for i in items:\n",
    "            exchange_records.append({\n",
    "                'date': i['currencyDate'],\n",
    "                'target': i['targetCurrencyCode'],\n",
    "                'rate': float(i['exchangeRate'])\n",
    "            })\n",
    "    except Exception as e:\n",
    "        logging.warning(f\"Skipping malformed entry: {str(e)}\")\n",
    "\n",
    "df = pd.DataFrame(exchange_records)\n",
    "df['date'] = pd.to_datetime(df['date'])\n",
    "df.sort_values('date', inplace=True)\n",
    "df.head()"
   ]
  },
  {
   "cell_type": "code",
   "execution_count": null,
   "id": "e6533d64",
   "metadata": {},
   "outputs": [],
   "source": [
    "# Plot a sample trend\n",
    "import matplotlib.pyplot as plt\n",
    "sample_currency = df['target'].value_counts().idxmax()\n",
    "subset = df[df['target'] == sample_currency]\n",
    "\n",
    "plt.figure(figsize=(10, 5))\n",
    "plt.plot(subset['date'], subset['rate'])\n",
    "plt.title(f'Exchange Rate Trend: {base_currency} to {sample_currency}')\n",
    "plt.xlabel('Date')\n",
    "plt.ylabel('Rate')\n",
    "plt.grid(True)\n",
    "plt.tight_layout()\n",
    "plt.show()"
   ]
  },
  {
   "cell_type": "markdown",
   "id": "e8813634",
   "metadata": {},
   "source": [
    "##  Side Quest 1: Logging System\n",
    "A robust logging system has been constructed throughout the notebook. Check `quest_log.log` for a full adventure log."
   ]
  },
  {
   "cell_type": "markdown",
   "id": "79516921",
   "metadata": {},
   "source": [
    "##  Side Quest 2: Code Profiling\n",
    "Now, we assess the efficiency of our magic."
   ]
  },
  {
   "cell_type": "code",
   "execution_count": null,
   "id": "ac13b3e4",
   "metadata": {},
   "outputs": [],
   "source": [
    "import cProfile\n",
    "cProfile.run(\"requests.get('https://www.floatrates.com')\")"
   ]
  },
  {
   "cell_type": "markdown",
   "id": "fcc6174a",
   "metadata": {},
   "source": [
    "##  Quest Complete!\n",
    "You have completed your journey. The economy of Pyrovia thanks you."
   ]
  }
 ],
 "metadata": {
  "language_info": {
   "name": "python"
  }
 },
 "nbformat": 4,
 "nbformat_minor": 5
}
