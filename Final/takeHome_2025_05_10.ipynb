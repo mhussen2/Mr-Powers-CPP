{
 "cells": [
  {
   "attachments": {
    "image.png": {
     "image/png": "[encoded data removed]"
    }
   },
   "cell_type": "markdown",
   "id": "05edeb21",
   "metadata": {},
   "source": [
    "``` py\n",
    "\n",
    "!pip install takeHomeTest\n",
    "import takeHomeTest\n",
    "\n",
    "!pip install time\n",
    "from time import oneWeek as panic\n",
    "\n",
    "panic.dump(takeHomeTest)\n",
    "\n",
    "\n",
    "print(\"Welcome to your take home final!\\n\")\n",
    "```\n",
    "\n",
    "![image.png](attachment:image.png)\n",
    "\n",
    "\n"
   ]
  },
  {
   "cell_type": "markdown",
   "id": "bf9edbd3",
   "metadata": {},
   "source": [
    "## ------------------------------------------- The Legend of Python --------------------------------------------\n",
    "**Lore**\n",
    "\n",
    "In the Kingdom of Pyrovia, all nations once traded in harmony. But since the Shattering of the Global APIs, the knowledge of currency exchange — locked away in XML scrolls — has scattered across the timelines. These scrolls reside in a mysterious repository known only as floatrates.com.\n",
    "\n",
    "The High Council of Programmers has summoned you (and only you), young code-wielder, to begin your final trial. It is divided into 2 parts.\n",
    "* Quest 1 (50xp): Retrieving the scrolls of time - Threading and Json save and parsing\n",
    "* Quest 2 (50xp): Decipher the scrolls - Perform EDA on the data.\n",
    "\n",
    "------ ------ ------ ------ Extra credit ------ ------ ------ ------ \n",
    "* Side Quest 1 (10xp*): Lay down seeds for those that follow - create error logs \n",
    "* Side Quest 2 (10xp*): The Quest of reflection  - Use profiling on your code to fully understand it \n",
    "\n",
    "*any points over 100% will be rolled over into your final grade. \n",
    "\n",
    "I may not have time to run all of your code so make sure you very clearly take notes and communicate successes, issues, and lessons learned. \n",
    "Please stay off Chat GPT and stack overflow (and like). You should have most everything you need in the notes. "
   ]
  },
  {
   "cell_type": "markdown",
   "id": "e3c69aea",
   "metadata": {},
   "source": [
    "--------------------------------------------\n",
    "# Quest 1 (50 xp): Retrieving the Scrolls of Time \n",
    "Retrieve historical exchange rate data from floatrates.com for one of the (Ideally randomly pick) 52 available currencies, starting from the first record on May 4, 2011, until the present day.\n",
    "\n",
    "- You may store the data as-is in XML, or convert it to JSON, you may use the supplied code below as a starter. \n",
    "\n",
    "- Organize each currency into its own directory.\n",
    "\n",
    "- Ensure your code is modular, maintainable, and robust against timeouts or malformed entries.\n",
    "\n",
    "## Notes from the Grand Master \n",
    "* Threading is your ally. But do not burn out your ally as they have limited resources. You may use the threading or multi-core to parallelize downloads — but mind the server’s load. Around 10 threads is wise. \n",
    "    - You should have around 5040 queries.\n",
    "\n",
    "* XML Scrolls is a new and unfamiliar beast. Therefore takeing on this beast will wield 5 extra experience points. You will not be penalized for choosing to use JSON\n",
    "\n",
    "*  Use the Save. Nothing is worse than losing experience you have already gained. Save the raw XML (or converted JSON) using timestamped (in my example below) files so you do not need to look it up again. Ie. If you put in a start date and your program has already read that data it should not pull that date again. (it would be a good idea to delete your data and run it top to bottom before final submission)\n",
    "\n",
    "* Design gracefully. Structure your project with clear modules: downloader.py, parser.py, and so on. \n",
    "\n",
    "* Log your quest progress in your quest book to show the Grand Master what you learned this is very important. \n"
   ]
  },
  {
   "cell_type": "markdown",
   "id": "651429bb",
   "metadata": {},
   "source": [
    "--------------------------------------------"
   ]
  },
  {
   "cell_type": "code",
   "execution_count": null,
   "id": "1af60cbc",
   "metadata": {},
   "outputs": [],
   "source": [
    "!pip install xmltodict"
   ]
  },
  {
   "cell_type": "code",
   "execution_count": null,
   "id": "51352d43",
   "metadata": {},
   "outputs": [],
   "source": [
    "rates = [\"EUR\", \"GBP\", \"USD\", \"DZD\", \"AUD\", \"BWP\", \"BND\", \"CAD\", \"CLP\", \"CNY\", \"COP\", \"CZK\", \"DKK\", \"HUF\", \"ISK\", \"INR\", \"IDR\", \"ILS\", \"KZT\", \"KRW\", \"KWD\", \"LYD\", \"MYR\", \"MUR\", \"NPR\", \"NZD\", \"NOK\", \"OMR\", \"PKR\", \"PLN\", \"QAR\", \"RUB\", \"SAR\", \"SGD\", \"ZAR\", \"LKR\", \"SEK\", \"CHF\", \"THB\", \"TTD\"]\n",
    "ratesForBase = [r for r in rates if r != \"USD\" and r != \"EUR\" and r != \"GBP\"]"
   ]
  },
  {
   "cell_type": "code",
   "execution_count": null,
   "id": "bdd7864b",
   "metadata": {},
   "outputs": [],
   "source": [
    "import requests\n",
    "import xmltodict\n",
    "import json\n",
    "import random\n",
    "\n",
    "# URL of the XML data\n",
    "date = \"2011-05-04\"\n",
    "base = random.choice(ratesForBase)\n",
    "url = f\"https://www.floatrates.com/historical-exchange-rates.html?operation=rates&pb_id=1775&page=historical&currency_date={date}&base_currency_code={base}&format_type=xml\"\n",
    "print(url)\n",
    "# Fetch the XML data\n",
    "response = requests.get(url)\n",
    "response.raise_for_status()  # Ensure we notice bad responses\n",
    "\n",
    "# Parse the XML data to a Python dictionary\n",
    "data_dict = xmltodict.parse(response.text)\n",
    "\n",
    "# Convert the dictionary to a JSON string\n",
    "json_data = json.dumps(data_dict, indent=4)\n",
    "\n",
    "# Print the JSON data\n",
    "print(json_data)\n",
    "\n",
    "# Optionally, write the JSON data to a file\n",
    "with open(f\"{date}_exchange_rates_{base}.json\", \"w\") as json_file:\n",
    "    json_file.write(json_data)\n"
   ]
  },
  {
   "cell_type": "markdown",
   "id": "1fc8d316",
   "metadata": {},
   "source": [
    "--------------------------------------------\n",
    "# Quest 2 (50 XP): Decipher the scrolls – Exploratory Data Analysis\n",
    "\n",
    "Once the scrolls have been retrieved their knowledge remains unrefined there patterns hidden, trends veiled. Your task now is to become the Seer of Exchange, the one who can read the currencies’ fates through the lens of data.\n",
    "8\n",
    "Perform Exploratory Data Analysis (EDA) on the dataset you collected in Quest 1. \n",
    "- Aggregate and visualize trends in exchange rate over time for at least 5 major currencies (e.g., USD, EUR, GBP, JPY, CNY).\n",
    "\n",
    "- Identify periods of volatility — perhaps during economic upheaval\n",
    "\n",
    "- Generate at least multiple visualizations using seaborn:\n",
    "\n",
    "- Log your quest progress in your quest book to show the Grand Master what you learned this is very important. some examples of observations are:\n",
    "    - Anomalies, seasonal patterns, or economic events\n",
    "    - Currencies with the most/least stability\n",
    "    - Any interesting correlations between currencies\n",
    "\n",
    "\n",
    "## Notes from the Grand Master \n",
    "- All of your work in this section should be in your jupyter notebook. \n",
    "\n",
    "- It might be helpful to use  google to reveal how economic events affected currency. Use Google News or economic calendars to correlate real-world events to exchange rate spikes or dips.\n"
   ]
  },
  {
   "cell_type": "markdown",
   "id": "7f89fd4f",
   "metadata": {},
   "source": [
    "--------------------------------------------"
   ]
  },
  {
   "cell_type": "markdown",
   "id": "9a326dec",
   "metadata": {},
   "source": [
    "\n",
    "# Side Quest 1 (10 XP): Lay Down Seeds for Those Who Follow – Logging\n",
    "\n",
    "Even the greatest explorer must leave breadcrumbs for those who walk the path after them. Here you will construct an error log system, a journal that captures both triumphs and catastrophes.\n",
    "\n",
    "Implement a robust logging system throughout your codebase to monitor:\n",
    "- Successful currency downloads\n",
    "- Parsing attempts and failures\n",
    "- Skipped downloads (due to saved data or time out)\n",
    "- Connection errors\n",
    "\n",
    "## Notes from the Grand Master\n",
    "- You do not need to do log hierarchy \n",
    "- Use log levels: INFO for progress, WARNING for skips, ERROR for failures\n",
    "\n"
   ]
  },
  {
   "cell_type": "markdown",
   "id": "34dc8db4",
   "metadata": {},
   "source": [
    "--------------------------------------------"
   ]
  },
  {
   "cell_type": "markdown",
   "id": "480bc47d",
   "metadata": {},
   "source": [
    "\n",
    "# Side Quest 2 (10 XP): The quest of Reflection – Code Profiling\n",
    "\n",
    "The final challenge for any Adventure is introspection — learning the nature of one's own power. In this side quest, you will profile your code, to discover its bottlenecks, inefficiencies, and optimization opportunities.\n",
    "\n",
    "Use profiling tools to evaluate:\n",
    "- Which functions are taking the most time\n",
    "- How threads/processes are behaving\n",
    "- Whether I/O is a bottleneck\n",
    "\n",
    "*A random vendor appears* His invintory shows:\n",
    "- A Profiler function - cProfile or Profile \n",
    "- A time module - timeit for micro-benchmarks\n",
    "- A line profiler - line_profiler"
   ]
  },
  {
   "cell_type": "markdown",
   "id": "b2ef1012",
   "metadata": {},
   "source": []
  }
 ],
 "metadata": {
  "kernelspec": {
   "display_name": "Python 3",
   "language": "python",
   "name": "python3"
  },
  "language_info": {
   "codemirror_mode": {
    "name": "ipython",
    "version": 3
   },
   "file_extension": ".py",
   "mimetype": "text/x-python",
   "name": "python",
   "nbconvert_exporter": "python",
   "pygments_lexer": "ipython3",
   "version": "3.12.3"
  }
 },
 "nbformat": 4,
 "nbformat_minor": 5
}
