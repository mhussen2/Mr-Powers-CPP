{
 "cells": [
  {
   "cell_type": "markdown",
   "id": "0e76db5c",
   "metadata": {},
   "source": [
    "## Project # 2\n",
    "\n",
    "Create a Multiprocessing, Threaded and Asynchronous application that will \n",
    " - Calculate the highest prime number in 3 min.\n",
    " - Calculates the Fibonacci number of that prime.\n",
    "    - ie if the highest prime is 13,386,001 then calculate Fibonacci to that number\n",
    "- Calculates the factorial that prime.\n",
    "once the prime is calculated you may perform Fibonacci and Factorial at the same time. \n",
    "\n",
    "For primes you must start a 0\n",
    "\n",
    " \n",
    "\n",
    "For code constancy use the following is_prime function.\n",
    "```python\n",
    "def is_prime(n):\n",
    "    if n <= 1:\n",
    "        return False\n",
    "    for i in range(2, int(n ** 0.5) + 1):\n",
    "        if n % i == 0:\n",
    "            return False\n",
    "    return True\n",
    "```\n",
    " These are my results (processes/threads):\n",
    "\n",
    "Multi core:71,161,003 (7)\n",
    "\n",
    "Asycn: 960,737 (1)\n",
    "\n",
    "Threaded 10,747,921 (10)\n",
    "    "
   ]
  },
  {
   "cell_type": "markdown",
   "id": "827e0114",
   "metadata": {},
   "source": []
  }
 ],
 "metadata": {
  "kernelspec": {
   "display_name": "Python 3",
   "language": "python",
   "name": "python3"
  },
  "language_info": {
   "codemirror_mode": {
    "name": "ipython",
    "version": 3
   },
   "file_extension": ".py",
   "mimetype": "text/x-python",
   "name": "python",
   "nbconvert_exporter": "python",
   "pygments_lexer": "ipython3",
   "version": "3.12.3"
  }
 },
 "nbformat": 4,
 "nbformat_minor": 5
}
