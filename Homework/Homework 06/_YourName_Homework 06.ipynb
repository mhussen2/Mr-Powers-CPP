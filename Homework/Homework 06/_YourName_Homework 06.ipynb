{
 "cells": [
  {
   "cell_type": "markdown",
   "metadata": {},
   "source": [
    "Mena Hussen"
   ]
  },
  {
   "cell_type": "markdown",
   "metadata": {},
   "source": [
    "## Objective:\n",
    "The objective of this assignment is to practice using Functional Programing.\n",
    "\n",
    "## Instructions:\n",
    "\n",
    "Using everything we learned to day about Functional Programing, lambda and itters create one of each of the following:\n",
    "-  Basic Lambda Function\n",
    "    - Create a lambda function that takes one arguments and returns even or odd.\n",
    "- Advanced lambda Function\n",
    "    - Create a lambda function that takes a list and returns their sum \n",
    "- Sorting with Lambda\n",
    "- Filtering with Lambda - `filter()` \n",
    "- Mapping with Lambda - `map()`\n",
    "- Reducing with Lambda -  `reduce()` \n",
    "- Enumerate with or without Lambda - `enumerate()`\n",
    "- zip with or without lambda (may combine enumerate like in class) - `zip()`\n",
    "\n",
    "Submit the file as a .py \n",
    "\n",
    "\n"
   ]
  },
  {
   "cell_type": "markdown",
   "metadata": {},
   "source": []
  }
 ],
 "metadata": {
  "kernelspec": {
   "display_name": "Python 3",
   "language": "python",
   "name": "python3"
  },
  "language_info": {
   "codemirror_mode": {
    "name": "ipython",
    "version": 3
   },
   "file_extension": ".py",
   "mimetype": "text/x-python",
   "name": "python",
   "nbconvert_exporter": "python",
   "pygments_lexer": "ipython3",
   "version": "3.13.2"
  }
 },
 "nbformat": 4,
 "nbformat_minor": 2
}
