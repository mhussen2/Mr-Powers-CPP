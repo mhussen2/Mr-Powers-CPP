{
 "cells": [
  {
   "cell_type": "markdown",
   "metadata": {},
   "source": [
    "# Lab 8 - Docker"
   ]
  },
  {
   "cell_type": "markdown",
   "metadata": {},
   "source": [
    "## 1. Go to the Docker website.\n",
    "https://www.docker.com/products/docker-desktop/"
   ]
  },
  {
   "cell_type": "markdown",
   "metadata": {},
   "source": [
    "##  2. Install Docker Desktop:\n",
    "\n",
    "- Follow the installation wizard.\n",
    "\n",
    "- Ensure WSL 2 backend is enabled (Windows Subsystem for Linux).\n",
    "    - you may need to install WSL.\n",
    "    - type wsl --install in the terminal as an admin\n",
    "        - this will install Ubuntu "
   ]
  },
  {
   "cell_type": "markdown",
   "metadata": {},
   "source": [
    "## 3. Launch Docker Desktop.\n",
    "- Verify installation by opening CMD and typing:\n",
    "    - docker --version\n",
    "- Test docker installed correctly by typing in the following into CMD :\n",
    "    - docker run hello-world\n",
    "\n",
    "    $ docker run hello-world\n",
    "\n",
    "you should see the following:\n",
    "```\n",
    "Hello from Docker!\n",
    "This message shows that your installation appears to be working correctly.\n",
    "...\n",
    "```\n",
    "\n"
   ]
  },
  {
   "cell_type": "markdown",
   "metadata": {},
   "source": [
    "## 4. Basic Docker Commands:\n",
    "**Image**: A template for creating containers.\n",
    "\n",
    "**Container**: A running instance of an image.\n",
    "\n",
    "- **Pull an image**:\n",
    "    - docker pull <container> example: docker pull python\n",
    "- **List images**:\n",
    "    - docker images\n",
    "- **Run a container**:\n",
    "    - docker run -it python\n",
    "- **Stop a container**:\n",
    "    - docker stop <container_id>\n",
    "\n"
   ]
  },
  {
   "cell_type": "markdown",
   "metadata": {},
   "source": []
  }
 ],
 "metadata": {
  "language_info": {
   "name": "python"
  }
 },
 "nbformat": 4,
 "nbformat_minor": 2
}
